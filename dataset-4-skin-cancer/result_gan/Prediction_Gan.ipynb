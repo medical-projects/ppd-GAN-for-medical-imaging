{
 "cells": [
  {
   "cell_type": "code",
   "execution_count": 175,
   "metadata": {},
   "outputs": [],
   "source": [
    "import os\n",
    "os.environ[\"CUDA_VISIBLE_DEVICES\"] = '0'\n",
    "from keras.models import load_model\n",
    "import pandas as pd\n",
    "import numpy as np\n",
    "from PIL import Image\n",
    "from keras.applications.mobilenetv2 import MobileNetV2, preprocess_input\n",
    "from sklearn.metrics import accuracy_score, roc_auc_score, precision_recall_curve, auc, f1_score\n",
    "from tqdm import tqdm\n",
    "import scikitplot as skplt\n",
    "from sklearn.model_selection import train_test_split\n",
    "import glob\n",
    "from sklearn.utils.class_weight import compute_class_weight\n",
    "import shutil"
   ]
  },
  {
   "cell_type": "code",
   "execution_count": 123,
   "metadata": {},
   "outputs": [],
   "source": [
    "stylegan = pd.read_csv(\"stylegan.csv\")"
   ]
  },
  {
   "cell_type": "code",
   "execution_count": null,
   "metadata": {},
   "outputs": [],
   "source": []
  },
  {
   "cell_type": "code",
   "execution_count": 4,
   "metadata": {},
   "outputs": [],
   "source": [
    "model = load_model(\"../../models/dataset-4-skincancer/comparaison/mobilnet_224x224_weighted/best_model_epoch.hdf5\")"
   ]
  },
  {
   "cell_type": "code",
   "execution_count": 6,
   "metadata": {},
   "outputs": [],
   "source": [
    "model_cat = load_model(\"../../models/dataset-4-skincancer/comparaison-cat/Mobilnet_ACGAN_weighted/best_model_epoch.hdf5\")"
   ]
  },
  {
   "cell_type": "code",
   "execution_count": null,
   "metadata": {},
   "outputs": [],
   "source": []
  },
  {
   "cell_type": "code",
   "execution_count": null,
   "metadata": {},
   "outputs": [],
   "source": []
  },
  {
   "cell_type": "code",
   "execution_count": 124,
   "metadata": {},
   "outputs": [
    {
     "name": "stderr",
     "output_type": "stream",
     "text": [
      "50000it [16:11, 53.99it/s]\n"
     ]
    }
   ],
   "source": [
    "new_seq_3 = []\n",
    "for row in tqdm(stylegan.iterrows()):\n",
    "    \n",
    "    n = row[1][\"name\"]\n",
    "    \n",
    "    im = Image.open(\"/home/yannis/Developpement/ppd-GAN-for-medical-imaging/dataset-4-skin-cancer/result_gan/stylegan/\"+n)\n",
    "    img = im.resize((224,224))\n",
    "    img = preprocess_input(np.array(img).astype(np.float32))\n",
    "    img = img.reshape(1,224,224,3)\n",
    "    \n",
    "    res = dict(row[1])\n",
    "    p1 = model.predict(img)\n",
    "    \n",
    "#     if np.argmax(p1, axis=1)[0] == 1:\n",
    "    res[\"label\"] = p1[0]\n",
    "\n",
    "    p1 = model_cat.predict(img)\n",
    "    res[\"label_cat\"] = p1[0]\n",
    "\n",
    "    new_seq_3.append(res)"
   ]
  },
  {
   "cell_type": "code",
   "execution_count": null,
   "metadata": {},
   "outputs": [],
   "source": []
  },
  {
   "cell_type": "code",
   "execution_count": null,
   "metadata": {},
   "outputs": [],
   "source": []
  },
  {
   "cell_type": "code",
   "execution_count": null,
   "metadata": {},
   "outputs": [],
   "source": []
  },
  {
   "cell_type": "code",
   "execution_count": 125,
   "metadata": {},
   "outputs": [],
   "source": [
    "all_data = []\n",
    "all_data.extend(new_seq_3)\n",
    "all_data.extend(new_seq_2)\n",
    "\n",
    "df = pd.DataFrame(all_data)"
   ]
  },
  {
   "cell_type": "code",
   "execution_count": null,
   "metadata": {},
   "outputs": [],
   "source": []
  },
  {
   "cell_type": "code",
   "execution_count": 126,
   "metadata": {},
   "outputs": [],
   "source": [
    "lb = np.array([x for x in df[\"label\"]])\n",
    "label = np.argmax(lb, axis=1)\n",
    "value_label = np.amax(lb, axis=1)\n",
    "df[\"label\"] = label\n",
    "df[\"label_value\"] = value_label"
   ]
  },
  {
   "cell_type": "code",
   "execution_count": 127,
   "metadata": {},
   "outputs": [],
   "source": [
    "lb = np.array([x for x in df[\"label_cat\"]])\n",
    "label = np.argmax(lb, axis=1)\n",
    "value_label = np.amax(lb, axis=1)\n",
    "df[\"label_cat\"] = label\n",
    "df[\"label_cat_value\"] = value_label"
   ]
  },
  {
   "cell_type": "code",
   "execution_count": 128,
   "metadata": {},
   "outputs": [
    {
     "data": {
      "text/html": [
       "<div>\n",
       "<style scoped>\n",
       "    .dataframe tbody tr th:only-of-type {\n",
       "        vertical-align: middle;\n",
       "    }\n",
       "\n",
       "    .dataframe tbody tr th {\n",
       "        vertical-align: top;\n",
       "    }\n",
       "\n",
       "    .dataframe thead th {\n",
       "        text-align: right;\n",
       "    }\n",
       "</style>\n",
       "<table border=\"1\" class=\"dataframe\">\n",
       "  <thead>\n",
       "    <tr style=\"text-align: right;\">\n",
       "      <th></th>\n",
       "      <th>label</th>\n",
       "      <th>label_cat</th>\n",
       "      <th>name</th>\n",
       "      <th>psi</th>\n",
       "      <th>randomize_noise</th>\n",
       "      <th>seed</th>\n",
       "      <th>snapshot</th>\n",
       "      <th>label_value</th>\n",
       "      <th>label_cat_value</th>\n",
       "    </tr>\n",
       "  </thead>\n",
       "  <tbody>\n",
       "    <tr>\n",
       "      <th>0</th>\n",
       "      <td>0</td>\n",
       "      <td>2</td>\n",
       "      <td>seed_6146640-lb_1--c85fde0e.png</td>\n",
       "      <td>NaN</td>\n",
       "      <td>NaN</td>\n",
       "      <td>6146640</td>\n",
       "      <td>9726</td>\n",
       "      <td>0.927319</td>\n",
       "      <td>0.743303</td>\n",
       "    </tr>\n",
       "    <tr>\n",
       "      <th>1</th>\n",
       "      <td>0</td>\n",
       "      <td>5</td>\n",
       "      <td>seed_2556030-lb_1--6d23bf87.png</td>\n",
       "      <td>NaN</td>\n",
       "      <td>NaN</td>\n",
       "      <td>2556030</td>\n",
       "      <td>9726</td>\n",
       "      <td>0.999997</td>\n",
       "      <td>1.000000</td>\n",
       "    </tr>\n",
       "    <tr>\n",
       "      <th>2</th>\n",
       "      <td>0</td>\n",
       "      <td>5</td>\n",
       "      <td>seed_3389776-lb_1--623752fe.png</td>\n",
       "      <td>NaN</td>\n",
       "      <td>NaN</td>\n",
       "      <td>3389776</td>\n",
       "      <td>9726</td>\n",
       "      <td>1.000000</td>\n",
       "      <td>1.000000</td>\n",
       "    </tr>\n",
       "    <tr>\n",
       "      <th>3</th>\n",
       "      <td>0</td>\n",
       "      <td>5</td>\n",
       "      <td>seed_970838-lb_1--a6d07fa3.png</td>\n",
       "      <td>NaN</td>\n",
       "      <td>NaN</td>\n",
       "      <td>970838</td>\n",
       "      <td>9726</td>\n",
       "      <td>0.668097</td>\n",
       "      <td>0.999944</td>\n",
       "    </tr>\n",
       "    <tr>\n",
       "      <th>4</th>\n",
       "      <td>0</td>\n",
       "      <td>5</td>\n",
       "      <td>seed_6888564-lb_1--f5dd9599.png</td>\n",
       "      <td>NaN</td>\n",
       "      <td>NaN</td>\n",
       "      <td>6888564</td>\n",
       "      <td>9726</td>\n",
       "      <td>0.639979</td>\n",
       "      <td>0.993624</td>\n",
       "    </tr>\n",
       "  </tbody>\n",
       "</table>\n",
       "</div>"
      ],
      "text/plain": [
       "   label  label_cat                             name  psi randomize_noise  \\\n",
       "0      0          2  seed_6146640-lb_1--c85fde0e.png  NaN             NaN   \n",
       "1      0          5  seed_2556030-lb_1--6d23bf87.png  NaN             NaN   \n",
       "2      0          5  seed_3389776-lb_1--623752fe.png  NaN             NaN   \n",
       "3      0          5   seed_970838-lb_1--a6d07fa3.png  NaN             NaN   \n",
       "4      0          5  seed_6888564-lb_1--f5dd9599.png  NaN             NaN   \n",
       "\n",
       "      seed  snapshot  label_value  label_cat_value  \n",
       "0  6146640      9726     0.927319         0.743303  \n",
       "1  2556030      9726     0.999997         1.000000  \n",
       "2  3389776      9726     1.000000         1.000000  \n",
       "3   970838      9726     0.668097         0.999944  \n",
       "4  6888564      9726     0.639979         0.993624  "
      ]
     },
     "execution_count": 128,
     "metadata": {},
     "output_type": "execute_result"
    }
   ],
   "source": [
    "df.head()"
   ]
  },
  {
   "cell_type": "code",
   "execution_count": 129,
   "metadata": {},
   "outputs": [
    {
     "data": {
      "text/plain": [
       "0    44935\n",
       "1     9685\n",
       "Name: label, dtype: int64"
      ]
     },
     "execution_count": 129,
     "metadata": {},
     "output_type": "execute_result"
    }
   ],
   "source": [
    "df[\"label\"].value_counts()"
   ]
  },
  {
   "cell_type": "code",
   "execution_count": 130,
   "metadata": {},
   "outputs": [
    {
     "data": {
      "text/plain": [
       "5    43747\n",
       "4     6337\n",
       "1     2227\n",
       "2     1118\n",
       "0      703\n",
       "6      478\n",
       "3       10\n",
       "Name: label_cat, dtype: int64"
      ]
     },
     "execution_count": 130,
     "metadata": {},
     "output_type": "execute_result"
    }
   ],
   "source": [
    "df[\"label_cat\"].value_counts()"
   ]
  },
  {
   "cell_type": "code",
   "execution_count": 131,
   "metadata": {},
   "outputs": [],
   "source": [
    "df.to_csv(\"stylegan_labelised.csv\", index=False)"
   ]
  },
  {
   "cell_type": "code",
   "execution_count": null,
   "metadata": {},
   "outputs": [],
   "source": []
  },
  {
   "cell_type": "code",
   "execution_count": 186,
   "metadata": {},
   "outputs": [],
   "source": [
    "df = pd.read_csv(\"stylegan_labelised.csv\")"
   ]
  },
  {
   "cell_type": "code",
   "execution_count": 187,
   "metadata": {},
   "outputs": [],
   "source": [
    "d0 = df[df[\"label\"] == 0]\n",
    "d0 = d0[d0[\"label_value\"] > 0.8]\n",
    "\n",
    "d1 = df[df[\"label\"] == 1]\n",
    "d1 = d1[d1[\"label_value\"] > 0.65]\n",
    "\n",
    "train_test = d0.append(d1)\n",
    "\n",
    "# train, test = train_test_split(train_test, stratify = train_test[\"label\"],test_size=0.10)"
   ]
  },
  {
   "cell_type": "code",
   "execution_count": 188,
   "metadata": {},
   "outputs": [],
   "source": [
    "train_test.to_csv(\"st_labelised__train.csv\", index=False)\n",
    "# test.to_csv(\"st_labelised__test.csv\", index=False)"
   ]
  },
  {
   "cell_type": "code",
   "execution_count": 189,
   "metadata": {},
   "outputs": [
    {
     "data": {
      "text/plain": [
       "array([0.59633188, 3.09519487])"
      ]
     },
     "execution_count": 189,
     "metadata": {},
     "output_type": "execute_result"
    }
   ],
   "source": [
    "compute_class_weight('balanced',np.unique(train_test[\"label\"]),train_test[\"label\"])"
   ]
  },
  {
   "cell_type": "code",
   "execution_count": null,
   "metadata": {},
   "outputs": [],
   "source": []
  },
  {
   "cell_type": "code",
   "execution_count": null,
   "metadata": {},
   "outputs": [],
   "source": []
  },
  {
   "cell_type": "code",
   "execution_count": null,
   "metadata": {},
   "outputs": [],
   "source": []
  },
  {
   "cell_type": "code",
   "execution_count": 191,
   "metadata": {},
   "outputs": [],
   "source": [
    "df = pd.read_csv(\"stylegan_labelised.csv\")\n",
    "d0 = df[df[\"label_cat\"] == 5]\n",
    "d0 = d0[d0[\"label_cat_value\"] > 0.8]\n",
    "\n",
    "d1 = df[df[\"label_cat\"] != 5]\n",
    "d1 = d1[d1[\"label_cat_value\"] > 0.65]\n",
    "\n",
    "train_test_cat = d0.append(d1)\n",
    "train_test_cat[\"label_cat\"].value_counts()\n",
    "\n",
    "# train_cat, test_cat = train_test_split(train_test_cat, stratify = train_test_cat[\"label_cat\"],test_size=0.10)\n",
    "\n",
    "train_test_cat.to_csv(\"st_labelised_cat__train.csv\", index=False)\n",
    "# train_cat.to_csv(\"st_labelised_cat__test.csv\", index=False)"
   ]
  },
  {
   "cell_type": "code",
   "execution_count": 192,
   "metadata": {},
   "outputs": [
    {
     "data": {
      "text/plain": [
       "array([1.41132337e+01, 3.82882680e+00, 8.88101045e+00, 1.82060714e+03,\n",
       "       1.29857856e+00, 1.74659517e-01, 1.68574735e+01])"
      ]
     },
     "execution_count": 192,
     "metadata": {},
     "output_type": "execute_result"
    }
   ],
   "source": [
    "compute_class_weight('balanced',np.unique(train_test_cat[\"label_cat\"]),train_test_cat[\"label_cat\"])"
   ]
  },
  {
   "cell_type": "code",
   "execution_count": null,
   "metadata": {},
   "outputs": [],
   "source": []
  },
  {
   "cell_type": "code",
   "execution_count": null,
   "metadata": {},
   "outputs": [],
   "source": []
  }
 ],
 "metadata": {
  "kernelspec": {
   "display_name": "Python 3",
   "language": "python",
   "name": "python3"
  },
  "language_info": {
   "codemirror_mode": {
    "name": "ipython",
    "version": 3
   },
   "file_extension": ".py",
   "mimetype": "text/x-python",
   "name": "python",
   "nbconvert_exporter": "python",
   "pygments_lexer": "ipython3",
   "version": "3.6.8"
  }
 },
 "nbformat": 4,
 "nbformat_minor": 2
}
