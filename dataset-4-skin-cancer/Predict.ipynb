{
 "cells": [
  {
   "cell_type": "code",
   "execution_count": 1,
   "metadata": {},
   "outputs": [
    {
     "name": "stderr",
     "output_type": "stream",
     "text": [
      "/home/yannis/anaconda3/envs/tf_gpu/lib/python3.6/site-packages/h5py/__init__.py:36: FutureWarning: Conversion of the second argument of issubdtype from `float` to `np.floating` is deprecated. In future, it will be treated as `np.float64 == np.dtype(float).type`.\n",
      "  from ._conv import register_converters as _register_converters\n",
      "Using TensorFlow backend.\n"
     ]
    }
   ],
   "source": [
    "import os\n",
    "os.environ[\"CUDA_VISIBLE_DEVICES\"] = '0'\n",
    "from keras.models import load_model\n",
    "import pandas as pd\n",
    "import numpy as np\n",
    "from PIL import Image\n",
    "from keras.applications.mobilenetv2 import MobileNetV2, preprocess_input\n",
    "from sklearn.metrics import accuracy_score, roc_auc_score, precision_recall_curve, auc, f1_score\n",
    "from tqdm import tqdm\n",
    "import scikitplot as skplt\n",
    "import glob"
   ]
  },
  {
   "cell_type": "code",
   "execution_count": 2,
   "metadata": {},
   "outputs": [
    {
     "data": {
      "text/html": [
       "<div>\n",
       "<style scoped>\n",
       "    .dataframe tbody tr th:only-of-type {\n",
       "        vertical-align: middle;\n",
       "    }\n",
       "\n",
       "    .dataframe tbody tr th {\n",
       "        vertical-align: top;\n",
       "    }\n",
       "\n",
       "    .dataframe thead th {\n",
       "        text-align: right;\n",
       "    }\n",
       "</style>\n",
       "<table border=\"1\" class=\"dataframe\">\n",
       "  <thead>\n",
       "    <tr style=\"text-align: right;\">\n",
       "      <th></th>\n",
       "      <th>lesion_id</th>\n",
       "      <th>image_id</th>\n",
       "      <th>dx</th>\n",
       "      <th>dx_type</th>\n",
       "      <th>age</th>\n",
       "      <th>sex</th>\n",
       "      <th>localization</th>\n",
       "      <th>label</th>\n",
       "      <th>label_cat</th>\n",
       "    </tr>\n",
       "  </thead>\n",
       "  <tbody>\n",
       "    <tr>\n",
       "      <th>0</th>\n",
       "      <td>HAM_0001233</td>\n",
       "      <td>ISIC_0029110</td>\n",
       "      <td>nv</td>\n",
       "      <td>follow_up</td>\n",
       "      <td>35.0</td>\n",
       "      <td>male</td>\n",
       "      <td>upper extremity</td>\n",
       "      <td>0</td>\n",
       "      <td>5</td>\n",
       "    </tr>\n",
       "    <tr>\n",
       "      <th>1</th>\n",
       "      <td>HAM_0002312</td>\n",
       "      <td>ISIC_0025650</td>\n",
       "      <td>bcc</td>\n",
       "      <td>histo</td>\n",
       "      <td>70.0</td>\n",
       "      <td>male</td>\n",
       "      <td>face</td>\n",
       "      <td>1</td>\n",
       "      <td>1</td>\n",
       "    </tr>\n",
       "  </tbody>\n",
       "</table>\n",
       "</div>"
      ],
      "text/plain": [
       "     lesion_id      image_id   dx    dx_type   age   sex     localization  \\\n",
       "0  HAM_0001233  ISIC_0029110   nv  follow_up  35.0  male  upper extremity   \n",
       "1  HAM_0002312  ISIC_0025650  bcc      histo  70.0  male             face   \n",
       "\n",
       "   label  label_cat  \n",
       "0      0          5  \n",
       "1      1          1  "
      ]
     },
     "execution_count": 2,
     "metadata": {},
     "output_type": "execute_result"
    }
   ],
   "source": [
    "test = pd.read_csv(\"test.csv\")\n",
    "test.head(2)"
   ]
  },
  {
   "cell_type": "code",
   "execution_count": null,
   "metadata": {},
   "outputs": [],
   "source": []
  },
  {
   "cell_type": "code",
   "execution_count": 3,
   "metadata": {},
   "outputs": [
    {
     "name": "stderr",
     "output_type": "stream",
     "text": [
      "2003it [00:12, 161.46it/s]\n"
     ]
    }
   ],
   "source": [
    "x_test = []\n",
    "x_test96 = []\n",
    "\n",
    "y_test = []\n",
    "y_test_cat = []\n",
    "for img in tqdm(test.iterrows()):\n",
    "    n = img[1][\"image_id\"]+\".jpg\"\n",
    "    \n",
    "    im = Image.open(\"/home/yannis/Developpement/ppd-GAN-for-medical-imaging/dataset-4-skin-cancer/data/all/\"+n)\n",
    "    image2 = im.resize((224,224))\n",
    "    image3 = im.resize((96,96))\n",
    "\n",
    "    x_test.append(preprocess_input(np.array(image2).astype(np.float32)))\n",
    "    x_test96.append(preprocess_input(np.array(image3).astype(np.float32)))\n",
    "    \n",
    "    y_test.append(int(img[1][\"label\"]))\n",
    "    y_test_cat.append(int(img[1][\"label_cat\"]))\n",
    "    \n",
    "x_test = np.array(x_test)\n",
    "x_test96 = np.array(x_test96)\n",
    "y_test = np.array(y_test)\n",
    "y_test_cat = np.array(y_test_cat)"
   ]
  },
  {
   "cell_type": "code",
   "execution_count": 4,
   "metadata": {},
   "outputs": [],
   "source": [
    "def calcul_metrics(y_true, y_pred):\n",
    "    precision, recall, thresholds = precision_recall_curve(y_true, y_pred)\n",
    "    return (roc_auc_score(y_true, y_pred), auc(recall, precision))"
   ]
  },
  {
   "cell_type": "code",
   "execution_count": null,
   "metadata": {},
   "outputs": [],
   "source": []
  },
  {
   "cell_type": "markdown",
   "metadata": {},
   "source": [
    "## Binary predict"
   ]
  },
  {
   "cell_type": "code",
   "execution_count": 5,
   "metadata": {},
   "outputs": [],
   "source": [
    "models = glob.glob(\"../models/dataset-4-skincancer/comparaison/*/best*\")"
   ]
  },
  {
   "cell_type": "code",
   "execution_count": 7,
   "metadata": {},
   "outputs": [
    {
     "name": "stdout",
     "output_type": "stream",
     "text": [
      " --------  mobilnet_96x96  --------- \n",
      "Acc :  0.8801797304043935\n",
      "Roc : 0.9097910174966524\n",
      "PR : 0.7508233379322484\n",
      " --------  Mobilnet_GAN-labelised  --------- \n",
      "Acc :  0.9151273090364453\n",
      "Roc : 0.939777912459622\n",
      "PR : 0.8271014686016583\n",
      " --------  Mobilnet_GAN-labelised  --------- \n",
      "Acc :  0.9031452820768847\n",
      "Roc : 0.9360106109549224\n",
      "PR : 0.8060183913309841\n",
      " --------  Mobilnet_GAN-labelised  --------- \n",
      "Acc :  0.8706939590614079\n",
      "Roc : 0.8997924771375807\n",
      "PR : 0.7284011021713401\n",
      " --------  Mobilnet_GAN-labelised  --------- \n",
      "Acc :  0.8801797304043935\n",
      "Roc : 0.9109952212625259\n",
      "PR : 0.7521051720277244\n",
      " --------  Mobilnet_Pretrained_weighted  --------- \n",
      "Acc :  0.8991512730903645\n",
      "Roc : 0.9365135524487063\n",
      "PR : 0.8120342787448722\n",
      " --------  Mobilnet_Pretrained_weighted  --------- \n",
      "Acc :  0.19520718921617575\n",
      "Roc : 0.5249011569240923\n",
      "PR : 0.5052627657891682\n",
      " --------  mobilnet_224x224  --------- \n",
      "Acc :  0.9041437843235147\n",
      "Roc : 0.937852614343828\n",
      "PR : 0.817720790374242\n",
      " --------  mobilnet_224x224_weighted  --------- \n",
      "Acc :  0.9111333000499251\n",
      "Roc : 0.9378922784994891\n",
      "PR : 0.8206395899977332\n",
      " --------  Mobilnet_ACGAN_weighted  --------- \n",
      "Acc :  0.90963554667998\n",
      "Roc : 0.9356076231334047\n",
      "PR : 0.82357535638087\n",
      " --------  mobilnet_96x96_weighted  --------- \n",
      "Acc :  0.891662506240639\n",
      "Roc : 0.9092095409746594\n",
      "PR : 0.7701398683475139\n"
     ]
    }
   ],
   "source": [
    "for md in models:\n",
    "    print(\" -------- \", md.split(\"/\")[-2], \" --------- \")\n",
    "    model = load_model(md, compile=False)\n",
    "    if \"96x96\" in md:\n",
    "        pred = model.predict(x_test96)\n",
    "    else:\n",
    "        pred = model.predict(x_test)\n",
    "    roc, pr = calcul_metrics(y_test, pred[:,1])\n",
    "    print(\"Acc : \", accuracy_score(y_test, np.argmax(pred, axis=1)))\n",
    "    print(\"Roc :\", roc)\n",
    "    print(\"PR :\", pr)"
   ]
  },
  {
   "cell_type": "code",
   "execution_count": null,
   "metadata": {},
   "outputs": [],
   "source": []
  },
  {
   "cell_type": "code",
   "execution_count": null,
   "metadata": {},
   "outputs": [],
   "source": []
  },
  {
   "cell_type": "markdown",
   "metadata": {},
   "source": [
    "## Cat predict"
   ]
  },
  {
   "cell_type": "code",
   "execution_count": 8,
   "metadata": {},
   "outputs": [],
   "source": [
    "models = glob.glob(\"../models/dataset-4-skincancer/comparaison-cat/*/best*\")"
   ]
  },
  {
   "cell_type": "code",
   "execution_count": 9,
   "metadata": {},
   "outputs": [
    {
     "name": "stdout",
     "output_type": "stream",
     "text": [
      " --------  mobilnet_96x96  --------- \n",
      "Acc :  0.8337493759360959\n",
      " --------  Mobilnet_GAN-labelised  --------- \n",
      "Acc :  0.8956565152271593\n",
      " --------  Mobilnet_GAN-labelised  --------- \n",
      "Acc :  0.8881677483774338\n",
      " --------  Mobilnet_GAN-labelised  --------- \n",
      "Acc :  0.7363954068896655\n",
      " --------  mobilnet_224x224  --------- \n",
      "Acc :  0.8786819770344483\n",
      " --------  mobilnet_224x224_weighted  --------- \n",
      "Acc :  0.8836744882675986\n",
      " --------  Mobilnet_ACGAN_weighted  --------- \n",
      "Acc :  0.9036445332001997\n",
      " --------  mobilnet_96x96_weighted  --------- \n",
      "Acc :  0.8247628557164254\n"
     ]
    }
   ],
   "source": [
    "for md in models:\n",
    "    print(\" -------- \", md.split(\"/\")[-2], \" --------- \")\n",
    "    model = load_model(md, compile=False)\n",
    "    if \"96x96\" in md:\n",
    "        pred = model.predict(x_test96)\n",
    "    else:\n",
    "        pred = model.predict(x_test)\n",
    "#     roc, pr = calcul_metrics(y_test_cat, pred[:,1])\n",
    "    print(\"Acc : \", accuracy_score(y_test_cat, np.argmax(pred, axis=1)))\n",
    "#     print(\"Roc :\", roc)\n",
    "#     print(\"PR :\", pr)"
   ]
  },
  {
   "cell_type": "code",
   "execution_count": null,
   "metadata": {},
   "outputs": [],
   "source": []
  },
  {
   "cell_type": "code",
   "execution_count": null,
   "metadata": {},
   "outputs": [],
   "source": []
  },
  {
   "cell_type": "markdown",
   "metadata": {},
   "source": [
    "# ------ Old predict --------"
   ]
  },
  {
   "cell_type": "code",
   "execution_count": 48,
   "metadata": {},
   "outputs": [
    {
     "name": "stderr",
     "output_type": "stream",
     "text": [
      "1703it [00:23, 71.15it/s]\n"
     ]
    }
   ],
   "source": [
    "x_test = []\n",
    "x_test_2 = []\n",
    "y_test = []\n",
    "for img in tqdm(test.iterrows()):\n",
    "    n = img[1][\"image_id\"]+\".jpg\"\n",
    "    \n",
    "#     im = Image.open(\"/home/yannis/Developpement/ppd-GAN-for-medical-imaging/dataset-4-skin-cancer/data/all/\"+n)\n",
    "#     image = im.resize((224,224))\n",
    "    \n",
    "    im = Image.open(\"/home/yannis/Developpement/ppd-GAN-for-medical-imaging/dataset-4-skin-cancer/data/all_600_450/\"+n)\n",
    "    image2 = im.crop((75, 0, 525, 450)).resize((224,224))\n",
    "    \n",
    "#     x_test.append(preprocess_input(np.array(image)))\n",
    "    x_test_2.append(preprocess_input(np.array(image2).astype(np.float32)))\n",
    "    \n",
    "    y_test.append(int(img[1][\"cell_type_idx\"]))\n",
    "    \n",
    "# x_test = np.array(x_test)\n",
    "x_test_2 = np.array(x_test_2)\n",
    "y_test = np.array(y_test)"
   ]
  },
  {
   "cell_type": "markdown",
   "metadata": {},
   "source": [
    "### MobileNetV2_224x224_weight_600x450_2"
   ]
  },
  {
   "cell_type": "code",
   "execution_count": 54,
   "metadata": {},
   "outputs": [],
   "source": [
    "model4 = load_model(\"../models/dataset-4-skincancer/MobileNetV2_224x224_weight_600x450_2/best_model_epoch.hdf5\")"
   ]
  },
  {
   "cell_type": "code",
   "execution_count": 55,
   "metadata": {},
   "outputs": [],
   "source": [
    "pred4 = model4.predict(x_test_2)"
   ]
  },
  {
   "cell_type": "code",
   "execution_count": 56,
   "metadata": {},
   "outputs": [
    {
     "data": {
      "text/plain": [
       "0.8807985907222549"
      ]
     },
     "execution_count": 56,
     "metadata": {},
     "output_type": "execute_result"
    }
   ],
   "source": [
    "accuracy_score(y_test, np.argmax(pred4, axis=1))"
   ]
  },
  {
   "cell_type": "code",
   "execution_count": null,
   "metadata": {},
   "outputs": [],
   "source": []
  },
  {
   "cell_type": "markdown",
   "metadata": {},
   "source": [
    "### MobileNetV2_224x224_weight_600x450"
   ]
  },
  {
   "cell_type": "code",
   "execution_count": 37,
   "metadata": {},
   "outputs": [],
   "source": [
    "model3 = load_model(\"../models/dataset-4-skincancer/MobileNetV2_224x224_weight_600x450/best_model_epoch.hdf5\")"
   ]
  },
  {
   "cell_type": "code",
   "execution_count": 38,
   "metadata": {},
   "outputs": [],
   "source": [
    "pred3 = model1.predict(x_test_2)"
   ]
  },
  {
   "cell_type": "code",
   "execution_count": 39,
   "metadata": {},
   "outputs": [
    {
     "data": {
      "text/plain": [
       "0.8708162066940693"
      ]
     },
     "execution_count": 39,
     "metadata": {},
     "output_type": "execute_result"
    }
   ],
   "source": [
    "accuracy_score(y_test, np.argmax(pred3, axis=1))"
   ]
  },
  {
   "cell_type": "code",
   "execution_count": 43,
   "metadata": {},
   "outputs": [],
   "source": [
    "# skplt.metrics.plot_confusion_matrix(y_test, np.argmax(pred3, axis=1))"
   ]
  },
  {
   "cell_type": "markdown",
   "metadata": {},
   "source": [
    "### MobileNetV2_224x224_weight"
   ]
  },
  {
   "cell_type": "code",
   "execution_count": 31,
   "metadata": {},
   "outputs": [],
   "source": [
    "model1 = load_model(\"../models/dataset-4-skincancer/MobileNetV2_224x224_weight/best_model_epoch.hdf5\")"
   ]
  },
  {
   "cell_type": "code",
   "execution_count": 32,
   "metadata": {},
   "outputs": [],
   "source": [
    "pred1 = model1.predict(x_test)"
   ]
  },
  {
   "cell_type": "code",
   "execution_count": 33,
   "metadata": {},
   "outputs": [
    {
     "data": {
      "text/plain": [
       "0.8790369935408103"
      ]
     },
     "execution_count": 33,
     "metadata": {},
     "output_type": "execute_result"
    }
   ],
   "source": [
    "accuracy_score(y_test, np.argmax(pred1, axis=1))"
   ]
  },
  {
   "cell_type": "markdown",
   "metadata": {},
   "source": [
    "### MobileNetV2_224x224_2"
   ]
  },
  {
   "cell_type": "code",
   "execution_count": 34,
   "metadata": {},
   "outputs": [],
   "source": [
    "model2 = load_model(\"../models/dataset-4-skincancer/MobileNetV2_224x224_2/best_model_epoch.hdf5\")"
   ]
  },
  {
   "cell_type": "code",
   "execution_count": 35,
   "metadata": {},
   "outputs": [],
   "source": [
    "pred2 = model2.predict(x_test)"
   ]
  },
  {
   "cell_type": "code",
   "execution_count": 36,
   "metadata": {},
   "outputs": [
    {
     "data": {
      "text/plain": [
       "0.8590722254844392"
      ]
     },
     "execution_count": 36,
     "metadata": {},
     "output_type": "execute_result"
    }
   ],
   "source": [
    "accuracy_score(y_test, np.argmax(pred2, axis=1))"
   ]
  }
 ],
 "metadata": {
  "kernelspec": {
   "display_name": "Python 3",
   "language": "python",
   "name": "python3"
  },
  "language_info": {
   "codemirror_mode": {
    "name": "ipython",
    "version": 3
   },
   "file_extension": ".py",
   "mimetype": "text/x-python",
   "name": "python",
   "nbconvert_exporter": "python",
   "pygments_lexer": "ipython3",
   "version": "3.6.8"
  }
 },
 "nbformat": 4,
 "nbformat_minor": 2
}
