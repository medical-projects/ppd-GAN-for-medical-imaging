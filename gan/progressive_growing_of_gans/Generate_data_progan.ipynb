{
 "cells": [
  {
   "cell_type": "code",
   "execution_count": 1,
   "metadata": {},
   "outputs": [
    {
     "name": "stderr",
     "output_type": "stream",
     "text": [
      "/home/yannis/anaconda3/envs/tf_gpu/lib/python3.6/site-packages/h5py/__init__.py:36: FutureWarning: Conversion of the second argument of issubdtype from `float` to `np.floating` is deprecated. In future, it will be treated as `np.float64 == np.dtype(float).type`.\n",
      "  from ._conv import register_converters as _register_converters\n"
     ]
    }
   ],
   "source": [
    "import os\n",
    "os.environ[\"CUDA_VISIBLE_DEVICES\"] = '0'\n",
    "os.environ[\"PYTHONPATH\"] =\"/home/yannis/Developpement/ppd-GAN-for-medical-imaging/gan/progressive_growing_of_gans\"\n",
    "import time\n",
    "import re\n",
    "import bisect\n",
    "from collections import OrderedDict\n",
    "import numpy as np\n",
    "import tensorflow as tf\n",
    "import scipy.ndimage\n",
    "import scipy.misc\n",
    "import uuid\n",
    "import config\n",
    "import misc\n",
    "import tfutil\n",
    "import train\n",
    "import dataset\n",
    "from PIL import Image\n",
    "from tqdm import tqdm\n",
    "import pandas as pd"
   ]
  },
  {
   "cell_type": "code",
   "execution_count": 2,
   "metadata": {},
   "outputs": [
    {
     "data": {
      "text/plain": [
       "<tensorflow.python.client.session.InteractiveSession at 0x7f8a9e7d24e0>"
      ]
     },
     "execution_count": 2,
     "metadata": {},
     "output_type": "execute_result"
    }
   ],
   "source": [
    "tf.InteractiveSession()"
   ]
  },
  {
   "cell_type": "markdown",
   "metadata": {},
   "source": [
    "## 010-pgan-rsna_1_512x512-preset-v2-1gpu-fp16-VERBOSE"
   ]
  },
  {
   "cell_type": "code",
   "execution_count": 3,
   "metadata": {},
   "outputs": [],
   "source": [
    "run_id = 10\n",
    "snapshot = 10007\n",
    "network_pkl = misc.locate_network_pkl(run_id, snapshot)\n",
    "G, D, Gs = misc.load_network_pkl(run_id, snapshot)"
   ]
  },
  {
   "cell_type": "code",
   "execution_count": 4,
   "metadata": {},
   "outputs": [
    {
     "name": "stderr",
     "output_type": "stream",
     "text": [
      "100%|██████████| 10000/10000 [13:10<00:00, 12.66it/s]\n"
     ]
    }
   ],
   "source": [
    "imgs = []\n",
    "for _ in tqdm(range(0,10000)):\n",
    "    seed = np.random.randint(0,10e6)\n",
    "    random_state = np.random.RandomState(seed)\n",
    "    latents = misc.random_latents(1, Gs, random_state=random_state)\n",
    "    labels = np.zeros([latents.shape[0], 0], np.float32)\n",
    "    images = Gs.run(latents, labels)\n",
    "    # Convert images to PIL-compatible format.\n",
    "    images = np.clip(np.rint((images + 1.0) / 2.0 * 255.0), 0.0, 255.0).astype(np.uint8) # [-1,1] => [0,255]\n",
    "    images = images.transpose(0, 2, 3, 1) # NCHW => NHWC\n",
    "\n",
    "    nme = \"010-pgan-rsna_1_512x512-seed_\"+str(seed)+\"-lb_1--\"+str(uuid.uuid4())[0:8]+\".png\"\n",
    "    imgs.append({\n",
    "        \"name\" : nme,\n",
    "        \"seed\" : seed,\n",
    "        \"snapshot\" : \"10007\",\n",
    "        \"gan\" : \"010-pgan-rsna_1_512x512\",\n",
    "        \"label\" : 1\n",
    "    })\n",
    "    im = Image.fromarray(images[0], 'RGB')\n",
    "    im.save(\"/home/yannis/Developpement/ppd-GAN-for-medical-imaging/dataset-2-rsna/result_gan/rsna_1/\"+nme)"
   ]
  },
  {
   "cell_type": "code",
   "execution_count": 6,
   "metadata": {},
   "outputs": [],
   "source": [
    "rsna_1 = pd.DataFrame(imgs)\n",
    "rsna_1.to_csv(\"/home/yannis/Developpement/ppd-GAN-for-medical-imaging/dataset-2-rsna/result_gan/rsna_1.csv\", index=False)"
   ]
  },
  {
   "cell_type": "code",
   "execution_count": null,
   "metadata": {},
   "outputs": [],
   "source": []
  },
  {
   "cell_type": "code",
   "execution_count": null,
   "metadata": {},
   "outputs": [],
   "source": []
  },
  {
   "cell_type": "code",
   "execution_count": null,
   "metadata": {},
   "outputs": [],
   "source": []
  },
  {
   "cell_type": "markdown",
   "metadata": {},
   "source": [
    "## 011-pgan-rsna_all_256x256-preset-v2-1gpu-fp16-VERBOSE"
   ]
  },
  {
   "cell_type": "code",
   "execution_count": 7,
   "metadata": {},
   "outputs": [],
   "source": [
    "run_id = 11\n",
    "snapshot = 10007\n",
    "network_pkl = misc.locate_network_pkl(run_id, snapshot)\n",
    "G, D, Gs = misc.load_network_pkl(run_id, snapshot)"
   ]
  },
  {
   "cell_type": "code",
   "execution_count": 8,
   "metadata": {},
   "outputs": [
    {
     "name": "stderr",
     "output_type": "stream",
     "text": [
      "100%|██████████| 20000/20000 [14:10<00:00, 23.52it/s]\n"
     ]
    }
   ],
   "source": [
    "imgs2 = []\n",
    "for _ in tqdm(range(0,20000)):\n",
    "    seed = np.random.randint(0,10e6)\n",
    "    random_state = np.random.RandomState(seed)\n",
    "    latents = misc.random_latents(1, Gs, random_state=random_state)\n",
    "    labels = np.zeros([latents.shape[0], 0], np.float32)\n",
    "    images = Gs.run(latents, labels)\n",
    "    # Convert images to PIL-compatible format.\n",
    "    images = np.clip(np.rint((images + 1.0) / 2.0 * 255.0), 0.0, 255.0).astype(np.uint8) # [-1,1] => [0,255]\n",
    "    images = images.transpose(0, 2, 3, 1) # NCHW => NHWC\n",
    "\n",
    "    nme = \"011-pgan-rsna_all_256x256-seed_\"+str(seed)+\"-lb_x--\"+str(uuid.uuid4())[0:8]+\".png\"\n",
    "    imgs2.append({\n",
    "        \"name\" : nme,\n",
    "        \"seed\" : seed,\n",
    "        \"snapshot\" : \"10007\",\n",
    "        \"gan\" : \"011-pgan-rsna_all_256x256\",\n",
    "    })\n",
    "    im = Image.fromarray(images[0], 'RGB')\n",
    "    im.save(\"/home/yannis/Developpement/ppd-GAN-for-medical-imaging/dataset-2-rsna/result_gan/rsna_1/\"+nme)"
   ]
  },
  {
   "cell_type": "code",
   "execution_count": 9,
   "metadata": {},
   "outputs": [],
   "source": [
    "rsna_all = pd.DataFrame(imgs2)\n",
    "rsna_all.to_csv(\"/home/yannis/Developpement/ppd-GAN-for-medical-imaging/dataset-2-rsna/result_gan/rsna_all.csv\", index=False)"
   ]
  },
  {
   "cell_type": "code",
   "execution_count": null,
   "metadata": {},
   "outputs": [],
   "source": []
  },
  {
   "cell_type": "markdown",
   "metadata": {},
   "source": [
    "## 009-pgan-p3_512x512_0_v3-preset-v2-2gpus-fp32-VERBOSE"
   ]
  },
  {
   "cell_type": "code",
   "execution_count": 5,
   "metadata": {},
   "outputs": [],
   "source": [
    "run_id = 9\n",
    "snapshot = 10512\n",
    "network_pkl = misc.locate_network_pkl(run_id, snapshot)\n",
    "G, D, Gs = misc.load_network_pkl(run_id, snapshot)"
   ]
  },
  {
   "cell_type": "code",
   "execution_count": 44,
   "metadata": {},
   "outputs": [],
   "source": [
    "imgs = []"
   ]
  },
  {
   "cell_type": "code",
   "execution_count": 48,
   "metadata": {},
   "outputs": [
    {
     "name": "stderr",
     "output_type": "stream",
     "text": [
      "100%|██████████| 10000/10000 [14:13<00:00, 10.91it/s]\n"
     ]
    }
   ],
   "source": [
    "for _ in tqdm(range(0,10000)):\n",
    "    seed = np.random.randint(0,10e6)\n",
    "    random_state = np.random.RandomState(seed)\n",
    "    latents = misc.random_latents(1, Gs, random_state=random_state)\n",
    "    labels = np.zeros([latents.shape[0], 0], np.float32)\n",
    "    images = Gs.run(latents, labels)\n",
    "    # Convert images to PIL-compatible format.\n",
    "    images = np.clip(np.rint((images + 1.0) / 2.0 * 255.0), 0.0, 255.0).astype(np.uint8) # [-1,1] => [0,255]\n",
    "    images = images.transpose(0, 2, 3, 1) # NCHW => NHWC\n",
    "\n",
    "    nme = \"009-pgan-p3_512x512-seed_\"+str(seed)+\"-lb_0--\"+str(uuid.uuid4())[0:8]+\".png\"\n",
    "    imgs.append({\n",
    "        \"name\" : nme,\n",
    "        \"seed\" : seed,\n",
    "        \"snapshot\" : \"10512\",\n",
    "        \"gan\" : \"009-pgan-p3_512x512_0\",\n",
    "        \"label\" : 0\n",
    "    })\n",
    "    im = Image.fromarray(images[0], 'RGB')\n",
    "    im.save(\"/home/yannis/Developpement/ppd-GAN-for-medical-imaging/dataset-1/result_gan/pggan/\"+nme)"
   ]
  },
  {
   "cell_type": "code",
   "execution_count": null,
   "metadata": {},
   "outputs": [],
   "source": []
  },
  {
   "cell_type": "code",
   "execution_count": 51,
   "metadata": {},
   "outputs": [],
   "source": [
    "df = pd.DataFrame(imgs)\n",
    "df.to_csv(\"/home/yannis/Developpement/ppd-GAN-for-medical-imaging/dataset-1/result_gan/009-pgan-p3_512x512_0.csv\", index=False)"
   ]
  },
  {
   "cell_type": "code",
   "execution_count": null,
   "metadata": {},
   "outputs": [],
   "source": []
  },
  {
   "cell_type": "markdown",
   "metadata": {},
   "source": [
    "## 008-pgan-p3_512x512_1_v2-preset-v2-1gpu-fp32-VERBOSE"
   ]
  },
  {
   "cell_type": "code",
   "execution_count": 53,
   "metadata": {},
   "outputs": [],
   "source": [
    "run_id = 8\n",
    "snapshot = 9507\n",
    "network_pkl = misc.locate_network_pkl(run_id, snapshot)\n",
    "G, D, Gs = misc.load_network_pkl(run_id, snapshot)"
   ]
  },
  {
   "cell_type": "code",
   "execution_count": 54,
   "metadata": {},
   "outputs": [
    {
     "name": "stderr",
     "output_type": "stream",
     "text": [
      "100%|██████████| 10000/10000 [12:01<00:00, 13.85it/s]\n"
     ]
    }
   ],
   "source": [
    "imgs = []\n",
    "for _ in tqdm(range(0,10000)):\n",
    "    seed = np.random.randint(0,10e6)\n",
    "    random_state = np.random.RandomState(seed)\n",
    "    latents = misc.random_latents(1, Gs, random_state=random_state)\n",
    "    labels = np.zeros([latents.shape[0], 0], np.float32)\n",
    "    images = Gs.run(latents, labels)\n",
    "    # Convert images to PIL-compatible format.\n",
    "    images = np.clip(np.rint((images + 1.0) / 2.0 * 255.0), 0.0, 255.0).astype(np.uint8) # [-1,1] => [0,255]\n",
    "    images = images.transpose(0, 2, 3, 1) # NCHW => NHWC\n",
    "\n",
    "    nme = \"008-pgan-p3_512x512-seed_\"+str(seed)+\"-lb_1--\"+str(uuid.uuid4())[0:8]+\".png\"\n",
    "    imgs.append({\n",
    "        \"name\" : nme,\n",
    "        \"seed\" : seed,\n",
    "        \"snapshot\" : str(snapshot),\n",
    "        \"gan\" : \"008-pgan-p3_512x512_1\",\n",
    "        \"label\" : 1\n",
    "    })\n",
    "    im = Image.fromarray(images[0], 'RGB')\n",
    "    im.save(\"/home/yannis/Developpement/ppd-GAN-for-medical-imaging/dataset-1/result_gan/pggan/\"+nme)"
   ]
  },
  {
   "cell_type": "code",
   "execution_count": 57,
   "metadata": {},
   "outputs": [],
   "source": [
    "df = pd.DataFrame(imgs)\n",
    "df[\"snapshot\"] = \"9507\"\n",
    "df.to_csv(\"/home/yannis/Developpement/ppd-GAN-for-medical-imaging/dataset-1/result_gan/008-pgan-p3_512x512_1.csv\", index=False)"
   ]
  },
  {
   "cell_type": "code",
   "execution_count": null,
   "metadata": {},
   "outputs": [],
   "source": []
  },
  {
   "cell_type": "markdown",
   "metadata": {},
   "source": [
    "## 007-pgan-p3_512x512_0_v2-preset-v2-1gpu-fp32-VERBOSE"
   ]
  },
  {
   "cell_type": "code",
   "execution_count": 58,
   "metadata": {},
   "outputs": [],
   "source": [
    "run_id = 7\n",
    "snapshot = 10000\n",
    "network_pkl = misc.locate_network_pkl(run_id, snapshot)\n",
    "G, D, Gs = misc.load_network_pkl(run_id, snapshot)"
   ]
  },
  {
   "cell_type": "code",
   "execution_count": 59,
   "metadata": {},
   "outputs": [
    {
     "name": "stderr",
     "output_type": "stream",
     "text": [
      "100%|██████████| 10000/10000 [11:48<00:00, 14.11it/s]\n"
     ]
    }
   ],
   "source": [
    "imgs = []\n",
    "for _ in tqdm(range(0,10000)):\n",
    "    seed = np.random.randint(0,10e6)\n",
    "    random_state = np.random.RandomState(seed)\n",
    "    latents = misc.random_latents(1, Gs, random_state=random_state)\n",
    "    labels = np.zeros([latents.shape[0], 0], np.float32)\n",
    "    images = Gs.run(latents, labels)\n",
    "    # Convert images to PIL-compatible format.\n",
    "    images = np.clip(np.rint((images + 1.0) / 2.0 * 255.0), 0.0, 255.0).astype(np.uint8) # [-1,1] => [0,255]\n",
    "    images = images.transpose(0, 2, 3, 1) # NCHW => NHWC\n",
    "\n",
    "    nme = \"007-pgan-p3_512x512-seed_\"+str(seed)+\"-lb_0--\"+str(uuid.uuid4())[0:8]+\".png\"\n",
    "    imgs.append({\n",
    "        \"name\" : nme,\n",
    "        \"seed\" : seed,\n",
    "        \"snapshot\" : str(snapshot),\n",
    "        \"gan\" : \"007-pgan-p3_512x512_0\",\n",
    "        \"label\" : 0\n",
    "    })\n",
    "    im = Image.fromarray(images[0], 'RGB')\n",
    "    im.save(\"/home/yannis/Developpement/ppd-GAN-for-medical-imaging/dataset-1/result_gan/pggan/\"+nme)"
   ]
  },
  {
   "cell_type": "code",
   "execution_count": 60,
   "metadata": {},
   "outputs": [],
   "source": [
    "df = pd.DataFrame(imgs)\n",
    "df.to_csv(\"/home/yannis/Developpement/ppd-GAN-for-medical-imaging/dataset-1/result_gan/007-pgan-p3_512x512_0.csv\", index=False)"
   ]
  },
  {
   "cell_type": "code",
   "execution_count": null,
   "metadata": {},
   "outputs": [],
   "source": []
  },
  {
   "cell_type": "markdown",
   "metadata": {},
   "source": [
    "## 006-pgan-p3_512x512_0-preset-v2-1gpu-fp16-VERBOSE"
   ]
  },
  {
   "cell_type": "code",
   "execution_count": 62,
   "metadata": {},
   "outputs": [],
   "source": [
    "run_id = 6\n",
    "snapshot = 7204\n",
    "network_pkl = misc.locate_network_pkl(run_id, snapshot)\n",
    "G, D, Gs = misc.load_network_pkl(run_id, snapshot)"
   ]
  },
  {
   "cell_type": "code",
   "execution_count": 63,
   "metadata": {},
   "outputs": [
    {
     "name": "stderr",
     "output_type": "stream",
     "text": [
      "100%|██████████| 10000/10000 [17:29<00:00,  9.35it/s]\n"
     ]
    }
   ],
   "source": [
    "imgs = []\n",
    "for _ in tqdm(range(0,10000)):\n",
    "    seed = np.random.randint(0,10e6)\n",
    "    random_state = np.random.RandomState(seed)\n",
    "    latents = misc.random_latents(1, Gs, random_state=random_state)\n",
    "    labels = np.zeros([latents.shape[0], 0], np.float32)\n",
    "    images = Gs.run(latents, labels)\n",
    "    # Convert images to PIL-compatible format.\n",
    "    images = np.clip(np.rint((images + 1.0) / 2.0 * 255.0), 0.0, 255.0).astype(np.uint8) # [-1,1] => [0,255]\n",
    "    images = images.transpose(0, 2, 3, 1) # NCHW => NHWC\n",
    "\n",
    "    nme = \"006-pgan-p3_512x512-seed_\"+str(seed)+\"-lb_0--\"+str(uuid.uuid4())[0:8]+\".png\"\n",
    "    imgs.append({\n",
    "        \"name\" : nme,\n",
    "        \"seed\" : seed,\n",
    "        \"snapshot\" : str(snapshot),\n",
    "        \"gan\" : \"006-pgan-p3_512x512_0\",\n",
    "        \"label\" : 0\n",
    "    })\n",
    "    im = Image.fromarray(images[0], 'RGB')\n",
    "    im.save(\"/home/yannis/Developpement/ppd-GAN-for-medical-imaging/dataset-1/result_gan/pggan/\"+nme)"
   ]
  },
  {
   "cell_type": "code",
   "execution_count": 64,
   "metadata": {},
   "outputs": [],
   "source": [
    "df = pd.DataFrame(imgs)\n",
    "df.to_csv(\"/home/yannis/Developpement/ppd-GAN-for-medical-imaging/dataset-1/result_gan/006-pgan-p3_512x512_0.csv\", index=False)"
   ]
  },
  {
   "cell_type": "code",
   "execution_count": null,
   "metadata": {},
   "outputs": [],
   "source": []
  },
  {
   "cell_type": "markdown",
   "metadata": {},
   "source": [
    "## 005-pgan-p3_512x512_1-preset-v2-1gpu-fp16-VERBOSE"
   ]
  },
  {
   "cell_type": "code",
   "execution_count": 65,
   "metadata": {},
   "outputs": [],
   "source": [
    "run_id = 5\n",
    "snapshot = 7804\n",
    "network_pkl = misc.locate_network_pkl(run_id, snapshot)\n",
    "G, D, Gs = misc.load_network_pkl(run_id, snapshot)"
   ]
  },
  {
   "cell_type": "code",
   "execution_count": 66,
   "metadata": {},
   "outputs": [
    {
     "name": "stderr",
     "output_type": "stream",
     "text": [
      "100%|██████████| 10000/10000 [18:48<00:00,  9.18it/s]\n"
     ]
    }
   ],
   "source": [
    "imgs = []\n",
    "for _ in tqdm(range(0,10000)):\n",
    "    seed = np.random.randint(0,10e6)\n",
    "    random_state = np.random.RandomState(seed)\n",
    "    latents = misc.random_latents(1, Gs, random_state=random_state)\n",
    "    labels = np.zeros([latents.shape[0], 0], np.float32)\n",
    "    images = Gs.run(latents, labels)\n",
    "    # Convert images to PIL-compatible format.\n",
    "    images = np.clip(np.rint((images + 1.0) / 2.0 * 255.0), 0.0, 255.0).astype(np.uint8) # [-1,1] => [0,255]\n",
    "    images = images.transpose(0, 2, 3, 1) # NCHW => NHWC\n",
    "\n",
    "    nme = \"005-pgan-p3_512x512-seed_\"+str(seed)+\"-lb_1--\"+str(uuid.uuid4())[0:8]+\".png\"\n",
    "    imgs.append({\n",
    "        \"name\" : nme,\n",
    "        \"seed\" : seed,\n",
    "        \"snapshot\" : str(snapshot),\n",
    "        \"gan\" : \"005-pgan-p3_512x512_1\",\n",
    "        \"label\" : 1\n",
    "    })\n",
    "    im = Image.fromarray(images[0], 'RGB')\n",
    "    im.save(\"/home/yannis/Developpement/ppd-GAN-for-medical-imaging/dataset-1/result_gan/pggan/\"+nme)"
   ]
  },
  {
   "cell_type": "code",
   "execution_count": 67,
   "metadata": {},
   "outputs": [],
   "source": [
    "df = pd.DataFrame(imgs)\n",
    "df.to_csv(\"/home/yannis/Developpement/ppd-GAN-for-medical-imaging/dataset-1/result_gan/005-pgan-p3_512x512_1.csv\", index=False)"
   ]
  },
  {
   "cell_type": "code",
   "execution_count": null,
   "metadata": {},
   "outputs": [],
   "source": []
  },
  {
   "cell_type": "code",
   "execution_count": null,
   "metadata": {},
   "outputs": [],
   "source": []
  },
  {
   "cell_type": "code",
   "execution_count": null,
   "metadata": {},
   "outputs": [],
   "source": []
  },
  {
   "cell_type": "code",
   "execution_count": null,
   "metadata": {},
   "outputs": [],
   "source": []
  },
  {
   "cell_type": "code",
   "execution_count": null,
   "metadata": {},
   "outputs": [],
   "source": []
  },
  {
   "cell_type": "code",
   "execution_count": null,
   "metadata": {},
   "outputs": [],
   "source": []
  },
  {
   "cell_type": "code",
   "execution_count": null,
   "metadata": {},
   "outputs": [],
   "source": []
  },
  {
   "cell_type": "code",
   "execution_count": 7,
   "metadata": {},
   "outputs": [
    {
     "data": {
      "text/plain": [
       "<tensorflow.python.client.session.InteractiveSession at 0x7f1f92b324e0>"
      ]
     },
     "execution_count": 7,
     "metadata": {},
     "output_type": "execute_result"
    }
   ],
   "source": [
    "tf.InteractiveSession()"
   ]
  },
  {
   "cell_type": "code",
   "execution_count": 8,
   "metadata": {},
   "outputs": [],
   "source": [
    "with open('results/007-pgan-p3_512x512_0_v2-preset-v2-1gpu-fp32-VERBOSE/network-snapshot-010000.pkl', 'rb') as file:\n",
    "    G, D, Gs = pickle.load(file)"
   ]
  },
  {
   "cell_type": "code",
   "execution_count": null,
   "metadata": {},
   "outputs": [],
   "source": []
  },
  {
   "cell_type": "code",
   "execution_count": 9,
   "metadata": {},
   "outputs": [],
   "source": [
    "# Generate latent vectors.\n",
    "latents = np.random.RandomState(1000).randn(1000, *Gs.input_shapes[0][1:]) # 1000 random latents\n",
    "latents = latents[[477, 56, 83, 887, 583, 391, 86, 340, 341, 415]] # hand-picked top-10"
   ]
  },
  {
   "cell_type": "code",
   "execution_count": 10,
   "metadata": {},
   "outputs": [],
   "source": [
    "labels = np.zeros([latents.shape[0]] + Gs.input_shapes[1][1:])"
   ]
  },
  {
   "cell_type": "code",
   "execution_count": null,
   "metadata": {},
   "outputs": [],
   "source": [
    "# images = Gs.run(latents, labels)"
   ]
  },
  {
   "cell_type": "code",
   "execution_count": null,
   "metadata": {},
   "outputs": [],
   "source": []
  },
  {
   "cell_type": "code",
   "execution_count": null,
   "metadata": {},
   "outputs": [],
   "source": []
  },
  {
   "cell_type": "code",
   "execution_count": null,
   "metadata": {},
   "outputs": [],
   "source": []
  },
  {
   "cell_type": "code",
   "execution_count": null,
   "metadata": {},
   "outputs": [],
   "source": []
  },
  {
   "cell_type": "code",
   "execution_count": 8,
   "metadata": {},
   "outputs": [],
   "source": [
    "import glob\n",
    "import shutil\n",
    "from sklearn.utils import shuffle"
   ]
  },
  {
   "cell_type": "code",
   "execution_count": 9,
   "metadata": {},
   "outputs": [],
   "source": [
    "imgs = shuffle(glob.glob(\"/home/yannis/Developpement/ppd-GAN-for-medical-imaging/dataset-1/result_gan/stylegan/*\"))"
   ]
  },
  {
   "cell_type": "code",
   "execution_count": 12,
   "metadata": {},
   "outputs": [],
   "source": [
    "i = 0\n",
    "for img in imgs:\n",
    "    \n",
    "    if \"lb_1\" in img:\n",
    "        shutil.copy(img, \"/media/yannis/data/cours/PPD/GANs/pggan_0/\"+img.split(\"/\")[-1])\n",
    "    \n",
    "    if i == 1000:\n",
    "        break\n",
    "    \n",
    "    i+=1"
   ]
  },
  {
   "cell_type": "code",
   "execution_count": null,
   "metadata": {},
   "outputs": [],
   "source": []
  }
 ],
 "metadata": {
  "kernelspec": {
   "display_name": "Python 3",
   "language": "python",
   "name": "python3"
  },
  "language_info": {
   "codemirror_mode": {
    "name": "ipython",
    "version": 3
   },
   "file_extension": ".py",
   "mimetype": "text/x-python",
   "name": "python",
   "nbconvert_exporter": "python",
   "pygments_lexer": "ipython3",
   "version": "3.6.8"
  }
 },
 "nbformat": 4,
 "nbformat_minor": 2
}
