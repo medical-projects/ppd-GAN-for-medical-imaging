{
 "cells": [
  {
   "cell_type": "code",
   "execution_count": 15,
   "metadata": {},
   "outputs": [],
   "source": [
    "import glob\n",
    "import pandas as pd\n",
    "from sklearn.model_selection import train_test_split\n",
    "from sklearn.utils import shuffle\n",
    "import shutil\n",
    "import os\n",
    "import numpy as np\n",
    "from tqdm import tqdm, tqdm_notebook\n",
    "from sklearn.utils import class_weight, compute_class_weight\n",
    "from PIL import Image"
   ]
  },
  {
   "cell_type": "markdown",
   "metadata": {},
   "source": [
    "\"breast/benign/SOB/adenosis/SOB_B_A_14-22549AB/100X/SOB_B_A-14-22549AB-100-001.png\""
   ]
  },
  {
   "cell_type": "markdown",
   "metadata": {},
   "source": [
    "## More balanced split"
   ]
  },
  {
   "cell_type": "code",
   "execution_count": 11,
   "metadata": {},
   "outputs": [
    {
     "name": "stdout",
     "output_type": "stream",
     "text": [
      "7909\n"
     ]
    }
   ],
   "source": [
    "data = glob.glob(\"/media/yannis/data/cours/PPD/breast/*/*/*/*/*/*.png\")\n",
    "print(len(data))"
   ]
  },
  {
   "cell_type": "code",
   "execution_count": 12,
   "metadata": {},
   "outputs": [],
   "source": [
    "dataframe = []\n",
    "for d in data:\n",
    "    label = d.split(\"/\")[7]\n",
    "    dis = d.split(\"/\")[9]\n",
    "    seq = d.split(\"/\")[10]\n",
    "    zoom = d.split(\"/\")[11]\n",
    "    name = d.split(\"/\")[12]\n",
    "    \n",
    "    dataframe.append({\n",
    "        \"name\" : name,\n",
    "        \"label\" : 1 if label == \"malignant\" else 0,\n",
    "        \"label_name\" : label,\n",
    "        \"type_label\" : dis,\n",
    "        \"zoom\" : zoom,\n",
    "        \"seq\" : seq,\n",
    "        \"path\" : d\n",
    "    })"
   ]
  },
  {
   "cell_type": "code",
   "execution_count": 13,
   "metadata": {},
   "outputs": [],
   "source": [
    "df = pd.DataFrame(dataframe)\n",
    "seq_split = df.drop_duplicates(\"seq\", keep=\"first\")\n",
    "\n",
    "train, test = train_test_split(seq_split, stratify=seq_split[\"type\"], test_size = 0.15, random_state=2)\n",
    "\n",
    "train_seq = list(set(train[\"seq\"]))\n",
    "test_seq = list(set(test[\"seq\"]))"
   ]
  },
  {
   "cell_type": "code",
   "execution_count": 47,
   "metadata": {},
   "outputs": [
    {
     "data": {
      "text/plain": [
       "ductal_carcinoma       32\n",
       "fibroadenoma            8\n",
       "mucinous_carcinoma      8\n",
       "tubular_adenoma         6\n",
       "papillary_carcinoma     5\n",
       "lobular_carcinoma       4\n",
       "phyllodes_tumor         3\n",
       "adenosis                3\n",
       "Name: type, dtype: int64"
      ]
     },
     "execution_count": 47,
     "metadata": {},
     "output_type": "execute_result"
    }
   ],
   "source": [
    "train[\"type\"].value_counts()"
   ]
  },
  {
   "cell_type": "code",
   "execution_count": 48,
   "metadata": {},
   "outputs": [
    {
     "data": {
      "text/plain": [
       "ductal_carcinoma       6\n",
       "fibroadenoma           2\n",
       "adenosis               1\n",
       "mucinous_carcinoma     1\n",
       "papillary_carcinoma    1\n",
       "tubular_adenoma        1\n",
       "lobular_carcinoma      1\n",
       "Name: type, dtype: int64"
      ]
     },
     "execution_count": 48,
     "metadata": {},
     "output_type": "execute_result"
    }
   ],
   "source": [
    "test[\"type\"].value_counts()"
   ]
  },
  {
   "cell_type": "code",
   "execution_count": 49,
   "metadata": {},
   "outputs": [],
   "source": [
    "add = train[train[\"type\"] == \"phyllodes_tumor\"].reset_index().loc[0]['seq']\n",
    "test_seq.append(add)\n",
    "train_seq.remove(add)\n",
    "add = train[train[\"type\"] == \"mucinous_carcinoma\"].reset_index().loc[0]['seq']\n",
    "test_seq.append(add)\n",
    "train_seq.remove(add)\n",
    "rmove = test[test[\"type\"] == \"ductal_carcinoma\"].reset_index().loc[3]['seq']\n",
    "test_seq.remove(rmove)\n",
    "train_seq.append(rmove)\n",
    "# rmove = test[test[\"type\"] == \"fibroadenoma\"].reset_index().loc[0]['seq']\n",
    "# test_seq.remove(rmove)\n",
    "# train_seq.append(rmove)"
   ]
  },
  {
   "cell_type": "code",
   "execution_count": 50,
   "metadata": {},
   "outputs": [],
   "source": [
    "train = df[df[\"seq\"].isin(train_seq)]\n",
    "test = df[df[\"seq\"].isin(test_seq)]"
   ]
  },
  {
   "cell_type": "code",
   "execution_count": 57,
   "metadata": {},
   "outputs": [
    {
     "data": {
      "text/plain": [
       "ductal_carcinoma       33\n",
       "fibroadenoma            8\n",
       "mucinous_carcinoma      7\n",
       "tubular_adenoma         6\n",
       "papillary_carcinoma     5\n",
       "lobular_carcinoma       4\n",
       "adenosis                3\n",
       "phyllodes_tumor         2\n",
       "Name: type, dtype: int64"
      ]
     },
     "execution_count": 57,
     "metadata": {},
     "output_type": "execute_result"
    }
   ],
   "source": [
    "train.drop_duplicates(\"seq\", keep=\"first\")[\"type\"].value_counts()"
   ]
  },
  {
   "cell_type": "code",
   "execution_count": 58,
   "metadata": {},
   "outputs": [
    {
     "data": {
      "text/plain": [
       "ductal_carcinoma       5\n",
       "fibroadenoma           2\n",
       "mucinous_carcinoma     2\n",
       "phyllodes_tumor        1\n",
       "adenosis               1\n",
       "papillary_carcinoma    1\n",
       "tubular_adenoma        1\n",
       "lobular_carcinoma      1\n",
       "Name: type, dtype: int64"
      ]
     },
     "execution_count": 58,
     "metadata": {},
     "output_type": "execute_result"
    }
   ],
   "source": [
    "test.drop_duplicates(\"seq\", keep=\"first\")[\"type\"].value_counts()"
   ]
  },
  {
   "cell_type": "code",
   "execution_count": 59,
   "metadata": {},
   "outputs": [
    {
     "data": {
      "text/plain": [
       "1    49\n",
       "0    19\n",
       "Name: label, dtype: int64"
      ]
     },
     "execution_count": 59,
     "metadata": {},
     "output_type": "execute_result"
    }
   ],
   "source": [
    "train.drop_duplicates(\"seq\", keep=\"first\")[\"label\"].value_counts()"
   ]
  },
  {
   "cell_type": "code",
   "execution_count": 60,
   "metadata": {},
   "outputs": [
    {
     "data": {
      "text/plain": [
       "1    9\n",
       "0    5\n",
       "Name: label, dtype: int64"
      ]
     },
     "execution_count": 60,
     "metadata": {},
     "output_type": "execute_result"
    }
   ],
   "source": [
    "test.drop_duplicates(\"seq\", keep=\"first\")[\"label\"].value_counts()"
   ]
  },
  {
   "cell_type": "code",
   "execution_count": 61,
   "metadata": {},
   "outputs": [
    {
     "name": "stdout",
     "output_type": "stream",
     "text": [
      "6324\n",
      "1585\n"
     ]
    }
   ],
   "source": [
    "print(len(train))\n",
    "print(len(test))"
   ]
  },
  {
   "cell_type": "code",
   "execution_count": 62,
   "metadata": {},
   "outputs": [],
   "source": [
    "train.to_csv(\"train.csv\", index=False)\n",
    "test.to_csv(\"test.csv\", index=False)"
   ]
  },
  {
   "cell_type": "code",
   "execution_count": 67,
   "metadata": {},
   "outputs": [
    {
     "name": "stderr",
     "output_type": "stream",
     "text": [
      "100%|██████████| 6324/6324 [00:22<00:00, 275.77it/s]\n"
     ]
    }
   ],
   "source": [
    "os.makedirs(\"data/original/train\", exist_ok=True)\n",
    "for i in tqdm(list(train.iterrows())):\n",
    "    x = i[1][\"path\"]\n",
    "    l = i[1][\"label\"]\n",
    "    shutil.copy(x, \"data/original/train/\"+str(l)+\"/\"+x.split(\"/\")[-1])"
   ]
  },
  {
   "cell_type": "code",
   "execution_count": 68,
   "metadata": {},
   "outputs": [
    {
     "name": "stderr",
     "output_type": "stream",
     "text": [
      "100%|██████████| 1585/1585 [00:05<00:00, 267.15it/s]\n"
     ]
    }
   ],
   "source": [
    "os.makedirs(\"data/original/test\", exist_ok=True)\n",
    "for i in tqdm(list(test.iterrows())):\n",
    "    x = i[1][\"path\"]\n",
    "    l = i[1][\"label\"]\n",
    "    shutil.copy(x, \"data/original/test/\"+str(l)+\"/\"+x.split(\"/\")[-1])"
   ]
  },
  {
   "cell_type": "code",
   "execution_count": null,
   "metadata": {},
   "outputs": [],
   "source": []
  },
  {
   "cell_type": "code",
   "execution_count": 74,
   "metadata": {},
   "outputs": [],
   "source": [
    "class_weights = class_weight.compute_class_weight('balanced',\n",
    "                                                 np.unique(train[\"label\"]),\n",
    "                                                 train[\"label\"])"
   ]
  },
  {
   "cell_type": "code",
   "execution_count": null,
   "metadata": {},
   "outputs": [],
   "source": []
  },
  {
   "cell_type": "code",
   "execution_count": null,
   "metadata": {},
   "outputs": [],
   "source": []
  },
  {
   "cell_type": "code",
   "execution_count": 4,
   "metadata": {},
   "outputs": [],
   "source": [
    "train = pd.read_csv(\"train.csv\")\n",
    "test = pd.read_csv(\"test.csv\")"
   ]
  },
  {
   "cell_type": "code",
   "execution_count": 5,
   "metadata": {},
   "outputs": [
    {
     "data": {
      "text/html": [
       "<div>\n",
       "<style scoped>\n",
       "    .dataframe tbody tr th:only-of-type {\n",
       "        vertical-align: middle;\n",
       "    }\n",
       "\n",
       "    .dataframe tbody tr th {\n",
       "        vertical-align: top;\n",
       "    }\n",
       "\n",
       "    .dataframe thead th {\n",
       "        text-align: right;\n",
       "    }\n",
       "</style>\n",
       "<table border=\"1\" class=\"dataframe\">\n",
       "  <thead>\n",
       "    <tr style=\"text-align: right;\">\n",
       "      <th></th>\n",
       "      <th>label</th>\n",
       "      <th>label_name</th>\n",
       "      <th>name</th>\n",
       "      <th>path</th>\n",
       "      <th>seq</th>\n",
       "      <th>type</th>\n",
       "      <th>zoom</th>\n",
       "    </tr>\n",
       "  </thead>\n",
       "  <tbody>\n",
       "    <tr>\n",
       "      <th>0</th>\n",
       "      <td>0</td>\n",
       "      <td>benign</td>\n",
       "      <td>SOB_B_A-14-22549CD-100-014.png</td>\n",
       "      <td>/media/yannis/data/cours/PPD/breast/benign/SOB...</td>\n",
       "      <td>SOB_B_A_14-22549CD</td>\n",
       "      <td>adenosis</td>\n",
       "      <td>100X</td>\n",
       "    </tr>\n",
       "    <tr>\n",
       "      <th>1</th>\n",
       "      <td>0</td>\n",
       "      <td>benign</td>\n",
       "      <td>SOB_B_A-14-22549CD-100-001.png</td>\n",
       "      <td>/media/yannis/data/cours/PPD/breast/benign/SOB...</td>\n",
       "      <td>SOB_B_A_14-22549CD</td>\n",
       "      <td>adenosis</td>\n",
       "      <td>100X</td>\n",
       "    </tr>\n",
       "    <tr>\n",
       "      <th>2</th>\n",
       "      <td>0</td>\n",
       "      <td>benign</td>\n",
       "      <td>SOB_B_A-14-22549CD-100-002.png</td>\n",
       "      <td>/media/yannis/data/cours/PPD/breast/benign/SOB...</td>\n",
       "      <td>SOB_B_A_14-22549CD</td>\n",
       "      <td>adenosis</td>\n",
       "      <td>100X</td>\n",
       "    </tr>\n",
       "    <tr>\n",
       "      <th>3</th>\n",
       "      <td>0</td>\n",
       "      <td>benign</td>\n",
       "      <td>SOB_B_A-14-22549CD-100-003.png</td>\n",
       "      <td>/media/yannis/data/cours/PPD/breast/benign/SOB...</td>\n",
       "      <td>SOB_B_A_14-22549CD</td>\n",
       "      <td>adenosis</td>\n",
       "      <td>100X</td>\n",
       "    </tr>\n",
       "    <tr>\n",
       "      <th>4</th>\n",
       "      <td>0</td>\n",
       "      <td>benign</td>\n",
       "      <td>SOB_B_A-14-22549CD-100-004.png</td>\n",
       "      <td>/media/yannis/data/cours/PPD/breast/benign/SOB...</td>\n",
       "      <td>SOB_B_A_14-22549CD</td>\n",
       "      <td>adenosis</td>\n",
       "      <td>100X</td>\n",
       "    </tr>\n",
       "  </tbody>\n",
       "</table>\n",
       "</div>"
      ],
      "text/plain": [
       "   label label_name                            name  \\\n",
       "0      0     benign  SOB_B_A-14-22549CD-100-014.png   \n",
       "1      0     benign  SOB_B_A-14-22549CD-100-001.png   \n",
       "2      0     benign  SOB_B_A-14-22549CD-100-002.png   \n",
       "3      0     benign  SOB_B_A-14-22549CD-100-003.png   \n",
       "4      0     benign  SOB_B_A-14-22549CD-100-004.png   \n",
       "\n",
       "                                                path                 seq  \\\n",
       "0  /media/yannis/data/cours/PPD/breast/benign/SOB...  SOB_B_A_14-22549CD   \n",
       "1  /media/yannis/data/cours/PPD/breast/benign/SOB...  SOB_B_A_14-22549CD   \n",
       "2  /media/yannis/data/cours/PPD/breast/benign/SOB...  SOB_B_A_14-22549CD   \n",
       "3  /media/yannis/data/cours/PPD/breast/benign/SOB...  SOB_B_A_14-22549CD   \n",
       "4  /media/yannis/data/cours/PPD/breast/benign/SOB...  SOB_B_A_14-22549CD   \n",
       "\n",
       "       type  zoom  \n",
       "0  adenosis  100X  \n",
       "1  adenosis  100X  \n",
       "2  adenosis  100X  \n",
       "3  adenosis  100X  \n",
       "4  adenosis  100X  "
      ]
     },
     "execution_count": 5,
     "metadata": {},
     "output_type": "execute_result"
    }
   ],
   "source": []
  },
  {
   "cell_type": "code",
   "execution_count": null,
   "metadata": {},
   "outputs": [],
   "source": []
  },
  {
   "cell_type": "code",
   "execution_count": null,
   "metadata": {},
   "outputs": [],
   "source": []
  },
  {
   "cell_type": "code",
   "execution_count": null,
   "metadata": {},
   "outputs": [],
   "source": []
  },
  {
   "cell_type": "markdown",
   "metadata": {},
   "source": [
    "## Old Split"
   ]
  },
  {
   "cell_type": "code",
   "execution_count": 21,
   "metadata": {},
   "outputs": [],
   "source": [
    "seq_split = list(set(df[\"seq\"]))\n",
    "train, test = train_test_split(seq_split, test_size = 0.2, random_state=2)"
   ]
  },
  {
   "cell_type": "code",
   "execution_count": 22,
   "metadata": {},
   "outputs": [],
   "source": [
    "train = df[df[\"seq\"].isin(train)]"
   ]
  },
  {
   "cell_type": "code",
   "execution_count": 23,
   "metadata": {},
   "outputs": [],
   "source": [
    "test = df[df[\"seq\"].isin(test)]"
   ]
  },
  {
   "cell_type": "code",
   "execution_count": 24,
   "metadata": {},
   "outputs": [
    {
     "data": {
      "text/plain": [
       "1    4360\n",
       "0    1824\n",
       "Name: label, dtype: int64"
      ]
     },
     "execution_count": 24,
     "metadata": {},
     "output_type": "execute_result"
    }
   ],
   "source": [
    "train[\"label\"].value_counts()"
   ]
  },
  {
   "cell_type": "code",
   "execution_count": 25,
   "metadata": {},
   "outputs": [
    {
     "data": {
      "text/plain": [
       "1    1069\n",
       "0     656\n",
       "Name: label, dtype: int64"
      ]
     },
     "execution_count": 25,
     "metadata": {},
     "output_type": "execute_result"
    }
   ],
   "source": [
    "test[\"label\"].value_counts()"
   ]
  },
  {
   "cell_type": "code",
   "execution_count": 26,
   "metadata": {},
   "outputs": [
    {
     "data": {
      "text/html": [
       "<div>\n",
       "<style scoped>\n",
       "    .dataframe tbody tr th:only-of-type {\n",
       "        vertical-align: middle;\n",
       "    }\n",
       "\n",
       "    .dataframe tbody tr th {\n",
       "        vertical-align: top;\n",
       "    }\n",
       "\n",
       "    .dataframe thead th {\n",
       "        text-align: right;\n",
       "    }\n",
       "</style>\n",
       "<table border=\"1\" class=\"dataframe\">\n",
       "  <thead>\n",
       "    <tr style=\"text-align: right;\">\n",
       "      <th></th>\n",
       "      <th>label</th>\n",
       "      <th>label_name</th>\n",
       "      <th>name</th>\n",
       "      <th>path</th>\n",
       "      <th>seq</th>\n",
       "      <th>type</th>\n",
       "      <th>zoom</th>\n",
       "    </tr>\n",
       "  </thead>\n",
       "  <tbody>\n",
       "    <tr>\n",
       "      <th>0</th>\n",
       "      <td>0</td>\n",
       "      <td>benign</td>\n",
       "      <td>SOB_B_A-14-22549AB-100-014.png</td>\n",
       "      <td>/media/yannis/data/cours/PPD/breast/benign/SOB...</td>\n",
       "      <td>SOB_B_A_14-22549AB</td>\n",
       "      <td>SOB</td>\n",
       "      <td>100X</td>\n",
       "    </tr>\n",
       "    <tr>\n",
       "      <th>253</th>\n",
       "      <td>0</td>\n",
       "      <td>benign</td>\n",
       "      <td>SOB_B_A-14-22549G-100-014.png</td>\n",
       "      <td>/media/yannis/data/cours/PPD/breast/benign/SOB...</td>\n",
       "      <td>SOB_B_A_14-22549G</td>\n",
       "      <td>SOB</td>\n",
       "      <td>100X</td>\n",
       "    </tr>\n",
       "    <tr>\n",
       "      <th>938</th>\n",
       "      <td>0</td>\n",
       "      <td>benign</td>\n",
       "      <td>SOB_B_F-14-23060AB-100-001.png</td>\n",
       "      <td>/media/yannis/data/cours/PPD/breast/benign/SOB...</td>\n",
       "      <td>SOB_B_F_14-23060AB</td>\n",
       "      <td>SOB</td>\n",
       "      <td>100X</td>\n",
       "    </tr>\n",
       "    <tr>\n",
       "      <th>1076</th>\n",
       "      <td>0</td>\n",
       "      <td>benign</td>\n",
       "      <td>SOB_B_F-14-23222AB-100-001.png</td>\n",
       "      <td>/media/yannis/data/cours/PPD/breast/benign/SOB...</td>\n",
       "      <td>SOB_B_F_14-23222AB</td>\n",
       "      <td>SOB</td>\n",
       "      <td>100X</td>\n",
       "    </tr>\n",
       "    <tr>\n",
       "      <th>1332</th>\n",
       "      <td>0</td>\n",
       "      <td>benign</td>\n",
       "      <td>SOB_B_F-14-9133-100-015.png</td>\n",
       "      <td>/media/yannis/data/cours/PPD/breast/benign/SOB...</td>\n",
       "      <td>SOB_B_F_14-9133</td>\n",
       "      <td>SOB</td>\n",
       "      <td>100X</td>\n",
       "    </tr>\n",
       "    <tr>\n",
       "      <th>2285</th>\n",
       "      <td>0</td>\n",
       "      <td>benign</td>\n",
       "      <td>SOB_B_TA-14-19854C-100-001.png</td>\n",
       "      <td>/media/yannis/data/cours/PPD/breast/benign/SOB...</td>\n",
       "      <td>SOB_B_TA_14-19854C</td>\n",
       "      <td>SOB</td>\n",
       "      <td>100X</td>\n",
       "    </tr>\n",
       "    <tr>\n",
       "      <th>2414</th>\n",
       "      <td>0</td>\n",
       "      <td>benign</td>\n",
       "      <td>SOB_B_TA-14-3411F-100-001.png</td>\n",
       "      <td>/media/yannis/data/cours/PPD/breast/benign/SOB...</td>\n",
       "      <td>SOB_B_TA_14-3411F</td>\n",
       "      <td>SOB</td>\n",
       "      <td>100X</td>\n",
       "    </tr>\n",
       "    <tr>\n",
       "      <th>2525</th>\n",
       "      <td>1</td>\n",
       "      <td>malignant</td>\n",
       "      <td>SOB_M_DC-14-10926-100-001.png</td>\n",
       "      <td>/media/yannis/data/cours/PPD/breast/malignant/...</td>\n",
       "      <td>SOB_M_DC_14-10926</td>\n",
       "      <td>SOB</td>\n",
       "      <td>100X</td>\n",
       "    </tr>\n",
       "    <tr>\n",
       "      <th>3404</th>\n",
       "      <td>1</td>\n",
       "      <td>malignant</td>\n",
       "      <td>SOB_M_DC-14-14946-100-014.png</td>\n",
       "      <td>/media/yannis/data/cours/PPD/breast/malignant/...</td>\n",
       "      <td>SOB_M_DC_14-14946</td>\n",
       "      <td>SOB</td>\n",
       "      <td>100X</td>\n",
       "    </tr>\n",
       "    <tr>\n",
       "      <th>3535</th>\n",
       "      <td>1</td>\n",
       "      <td>malignant</td>\n",
       "      <td>SOB_M_DC-14-15572-100-001.png</td>\n",
       "      <td>/media/yannis/data/cours/PPD/breast/malignant/...</td>\n",
       "      <td>SOB_M_DC_14-15572</td>\n",
       "      <td>SOB</td>\n",
       "      <td>100X</td>\n",
       "    </tr>\n",
       "    <tr>\n",
       "      <th>4151</th>\n",
       "      <td>1</td>\n",
       "      <td>malignant</td>\n",
       "      <td>SOB_M_DC-14-17614-100-014.png</td>\n",
       "      <td>/media/yannis/data/cours/PPD/breast/malignant/...</td>\n",
       "      <td>SOB_M_DC_14-17614</td>\n",
       "      <td>SOB</td>\n",
       "      <td>100X</td>\n",
       "    </tr>\n",
       "    <tr>\n",
       "      <th>4882</th>\n",
       "      <td>1</td>\n",
       "      <td>malignant</td>\n",
       "      <td>SOB_M_DC-14-2773-100-014.png</td>\n",
       "      <td>/media/yannis/data/cours/PPD/breast/malignant/...</td>\n",
       "      <td>SOB_M_DC_14-2773</td>\n",
       "      <td>SOB</td>\n",
       "      <td>100X</td>\n",
       "    </tr>\n",
       "    <tr>\n",
       "      <th>5026</th>\n",
       "      <td>1</td>\n",
       "      <td>malignant</td>\n",
       "      <td>SOB_M_DC-14-2980-100-001.png</td>\n",
       "      <td>/media/yannis/data/cours/PPD/breast/malignant/...</td>\n",
       "      <td>SOB_M_DC_14-2980</td>\n",
       "      <td>SOB</td>\n",
       "      <td>100X</td>\n",
       "    </tr>\n",
       "    <tr>\n",
       "      <th>5110</th>\n",
       "      <td>1</td>\n",
       "      <td>malignant</td>\n",
       "      <td>SOB_M_DC-14-2985-100-001.png</td>\n",
       "      <td>/media/yannis/data/cours/PPD/breast/malignant/...</td>\n",
       "      <td>SOB_M_DC_14-2985</td>\n",
       "      <td>SOB</td>\n",
       "      <td>100X</td>\n",
       "    </tr>\n",
       "    <tr>\n",
       "      <th>5776</th>\n",
       "      <td>1</td>\n",
       "      <td>malignant</td>\n",
       "      <td>SOB_M_DC-14-9461-100-014.png</td>\n",
       "      <td>/media/yannis/data/cours/PPD/breast/malignant/...</td>\n",
       "      <td>SOB_M_DC_14-9461</td>\n",
       "      <td>SOB</td>\n",
       "      <td>100X</td>\n",
       "    </tr>\n",
       "    <tr>\n",
       "      <th>6034</th>\n",
       "      <td>1</td>\n",
       "      <td>malignant</td>\n",
       "      <td>SOB_M_LC-14-13412-100-014.png</td>\n",
       "      <td>/media/yannis/data/cours/PPD/breast/malignant/...</td>\n",
       "      <td>SOB_M_LC_14-13412</td>\n",
       "      <td>SOB</td>\n",
       "      <td>100X</td>\n",
       "    </tr>\n",
       "    <tr>\n",
       "      <th>6358</th>\n",
       "      <td>1</td>\n",
       "      <td>malignant</td>\n",
       "      <td>SOB_M_LC-14-15570C-100-014.png</td>\n",
       "      <td>/media/yannis/data/cours/PPD/breast/malignant/...</td>\n",
       "      <td>SOB_M_LC_14-15570C</td>\n",
       "      <td>SOB</td>\n",
       "      <td>100X</td>\n",
       "    </tr>\n",
       "  </tbody>\n",
       "</table>\n",
       "</div>"
      ],
      "text/plain": [
       "      label label_name                            name  \\\n",
       "0         0     benign  SOB_B_A-14-22549AB-100-014.png   \n",
       "253       0     benign   SOB_B_A-14-22549G-100-014.png   \n",
       "938       0     benign  SOB_B_F-14-23060AB-100-001.png   \n",
       "1076      0     benign  SOB_B_F-14-23222AB-100-001.png   \n",
       "1332      0     benign     SOB_B_F-14-9133-100-015.png   \n",
       "2285      0     benign  SOB_B_TA-14-19854C-100-001.png   \n",
       "2414      0     benign   SOB_B_TA-14-3411F-100-001.png   \n",
       "2525      1  malignant   SOB_M_DC-14-10926-100-001.png   \n",
       "3404      1  malignant   SOB_M_DC-14-14946-100-014.png   \n",
       "3535      1  malignant   SOB_M_DC-14-15572-100-001.png   \n",
       "4151      1  malignant   SOB_M_DC-14-17614-100-014.png   \n",
       "4882      1  malignant    SOB_M_DC-14-2773-100-014.png   \n",
       "5026      1  malignant    SOB_M_DC-14-2980-100-001.png   \n",
       "5110      1  malignant    SOB_M_DC-14-2985-100-001.png   \n",
       "5776      1  malignant    SOB_M_DC-14-9461-100-014.png   \n",
       "6034      1  malignant   SOB_M_LC-14-13412-100-014.png   \n",
       "6358      1  malignant  SOB_M_LC-14-15570C-100-014.png   \n",
       "\n",
       "                                                   path                 seq  \\\n",
       "0     /media/yannis/data/cours/PPD/breast/benign/SOB...  SOB_B_A_14-22549AB   \n",
       "253   /media/yannis/data/cours/PPD/breast/benign/SOB...   SOB_B_A_14-22549G   \n",
       "938   /media/yannis/data/cours/PPD/breast/benign/SOB...  SOB_B_F_14-23060AB   \n",
       "1076  /media/yannis/data/cours/PPD/breast/benign/SOB...  SOB_B_F_14-23222AB   \n",
       "1332  /media/yannis/data/cours/PPD/breast/benign/SOB...     SOB_B_F_14-9133   \n",
       "2285  /media/yannis/data/cours/PPD/breast/benign/SOB...  SOB_B_TA_14-19854C   \n",
       "2414  /media/yannis/data/cours/PPD/breast/benign/SOB...   SOB_B_TA_14-3411F   \n",
       "2525  /media/yannis/data/cours/PPD/breast/malignant/...   SOB_M_DC_14-10926   \n",
       "3404  /media/yannis/data/cours/PPD/breast/malignant/...   SOB_M_DC_14-14946   \n",
       "3535  /media/yannis/data/cours/PPD/breast/malignant/...   SOB_M_DC_14-15572   \n",
       "4151  /media/yannis/data/cours/PPD/breast/malignant/...   SOB_M_DC_14-17614   \n",
       "4882  /media/yannis/data/cours/PPD/breast/malignant/...    SOB_M_DC_14-2773   \n",
       "5026  /media/yannis/data/cours/PPD/breast/malignant/...    SOB_M_DC_14-2980   \n",
       "5110  /media/yannis/data/cours/PPD/breast/malignant/...    SOB_M_DC_14-2985   \n",
       "5776  /media/yannis/data/cours/PPD/breast/malignant/...    SOB_M_DC_14-9461   \n",
       "6034  /media/yannis/data/cours/PPD/breast/malignant/...   SOB_M_LC_14-13412   \n",
       "6358  /media/yannis/data/cours/PPD/breast/malignant/...  SOB_M_LC_14-15570C   \n",
       "\n",
       "     type  zoom  \n",
       "0     SOB  100X  \n",
       "253   SOB  100X  \n",
       "938   SOB  100X  \n",
       "1076  SOB  100X  \n",
       "1332  SOB  100X  \n",
       "2285  SOB  100X  \n",
       "2414  SOB  100X  \n",
       "2525  SOB  100X  \n",
       "3404  SOB  100X  \n",
       "3535  SOB  100X  \n",
       "4151  SOB  100X  \n",
       "4882  SOB  100X  \n",
       "5026  SOB  100X  \n",
       "5110  SOB  100X  \n",
       "5776  SOB  100X  \n",
       "6034  SOB  100X  \n",
       "6358  SOB  100X  "
      ]
     },
     "execution_count": 26,
     "metadata": {},
     "output_type": "execute_result"
    }
   ],
   "source": [
    "test.drop_duplicates(\"seq\", keep=\"first\")"
   ]
  },
  {
   "cell_type": "code",
   "execution_count": null,
   "metadata": {},
   "outputs": [],
   "source": []
  },
  {
   "cell_type": "code",
   "execution_count": null,
   "metadata": {},
   "outputs": [],
   "source": []
  },
  {
   "cell_type": "code",
   "execution_count": 60,
   "metadata": {},
   "outputs": [],
   "source": [
    "train.to_csv(\"train.csv\", index=False)"
   ]
  },
  {
   "cell_type": "code",
   "execution_count": 61,
   "metadata": {},
   "outputs": [],
   "source": [
    "test.to_csv(\"test.csv\", index=False)"
   ]
  },
  {
   "cell_type": "code",
   "execution_count": 62,
   "metadata": {},
   "outputs": [],
   "source": [
    "for x in list(train[\"path\"]):\n",
    "    shutil.copy(x, \"data/train/\"+x.split(\"/\")[-1])"
   ]
  },
  {
   "cell_type": "code",
   "execution_count": 63,
   "metadata": {},
   "outputs": [],
   "source": [
    "for x in list(test[\"path\"]):\n",
    "    shutil.copy(x, \"data/test/\"+x.split(\"/\")[-1])"
   ]
  },
  {
   "cell_type": "code",
   "execution_count": 64,
   "metadata": {},
   "outputs": [
    {
     "data": {
      "text/plain": [
       "6461"
      ]
     },
     "execution_count": 64,
     "metadata": {},
     "output_type": "execute_result"
    }
   ],
   "source": [
    "len(train)"
   ]
  },
  {
   "cell_type": "code",
   "execution_count": null,
   "metadata": {},
   "outputs": [],
   "source": []
  },
  {
   "cell_type": "code",
   "execution_count": null,
   "metadata": {},
   "outputs": [],
   "source": []
  },
  {
   "cell_type": "code",
   "execution_count": 65,
   "metadata": {},
   "outputs": [],
   "source": [
    "train, test = train_test_split(df, stratify = df[\"label\"], test_size = 0.15, random_state=1)"
   ]
  },
  {
   "cell_type": "code",
   "execution_count": 66,
   "metadata": {},
   "outputs": [
    {
     "data": {
      "text/plain": [
       "6722"
      ]
     },
     "execution_count": 66,
     "metadata": {},
     "output_type": "execute_result"
    }
   ],
   "source": [
    "len(train)"
   ]
  },
  {
   "cell_type": "code",
   "execution_count": 67,
   "metadata": {},
   "outputs": [
    {
     "data": {
      "text/plain": [
       "1187"
      ]
     },
     "execution_count": 67,
     "metadata": {},
     "output_type": "execute_result"
    }
   ],
   "source": [
    "len(test)"
   ]
  },
  {
   "cell_type": "code",
   "execution_count": 68,
   "metadata": {},
   "outputs": [
    {
     "data": {
      "text/plain": [
       "1    0.686605\n",
       "0    0.313395\n",
       "Name: label, dtype: float64"
      ]
     },
     "execution_count": 68,
     "metadata": {},
     "output_type": "execute_result"
    }
   ],
   "source": [
    "test[\"label\"].value_counts(normalize=True)"
   ]
  },
  {
   "cell_type": "code",
   "execution_count": 69,
   "metadata": {},
   "outputs": [
    {
     "data": {
      "text/plain": [
       "1    0.686403\n",
       "0    0.313597\n",
       "Name: label, dtype: float64"
      ]
     },
     "execution_count": 69,
     "metadata": {},
     "output_type": "execute_result"
    }
   ],
   "source": [
    "train[\"label\"].value_counts(normalize=True)"
   ]
  },
  {
   "cell_type": "code",
   "execution_count": 70,
   "metadata": {},
   "outputs": [
    {
     "data": {
      "text/plain": [
       "100X    0.265375\n",
       "40X     0.256108\n",
       "200X    0.240944\n",
       "400X    0.237574\n",
       "Name: zoom, dtype: float64"
      ]
     },
     "execution_count": 70,
     "metadata": {},
     "output_type": "execute_result"
    }
   ],
   "source": [
    "test[\"zoom\"].value_counts(normalize=True)"
   ]
  },
  {
   "cell_type": "code",
   "execution_count": 71,
   "metadata": {},
   "outputs": [],
   "source": [
    "train.to_csv(\"train.csv\", index=False)"
   ]
  },
  {
   "cell_type": "code",
   "execution_count": 72,
   "metadata": {},
   "outputs": [],
   "source": [
    "test.to_csv(\"test.csv\", index=False)"
   ]
  },
  {
   "cell_type": "code",
   "execution_count": null,
   "metadata": {},
   "outputs": [],
   "source": []
  },
  {
   "cell_type": "code",
   "execution_count": 73,
   "metadata": {},
   "outputs": [],
   "source": [
    "soumissions = test[['name','label']]\n",
    "soumissions = shuffle(soumissions)"
   ]
  },
  {
   "cell_type": "code",
   "execution_count": 74,
   "metadata": {},
   "outputs": [],
   "source": [
    "soumissions.to_csv(\"soumission_real.csv\", index=False)"
   ]
  },
  {
   "cell_type": "code",
   "execution_count": null,
   "metadata": {},
   "outputs": [],
   "source": []
  },
  {
   "cell_type": "code",
   "execution_count": 75,
   "metadata": {},
   "outputs": [],
   "source": [
    "for x in list(train[\"path\"]):\n",
    "    shutil.copy(x, \"data/train/\"+x.split(\"/\")[-1])"
   ]
  },
  {
   "cell_type": "code",
   "execution_count": 76,
   "metadata": {},
   "outputs": [],
   "source": [
    "for x in list(test[\"path\"]):\n",
    "    shutil.copy(x, \"data/test/\"+x.split(\"/\")[-1])"
   ]
  },
  {
   "cell_type": "code",
   "execution_count": 77,
   "metadata": {},
   "outputs": [
    {
     "data": {
      "text/plain": [
       "1187"
      ]
     },
     "execution_count": 77,
     "metadata": {},
     "output_type": "execute_result"
    }
   ],
   "source": [
    "len(soumissions)"
   ]
  },
  {
   "cell_type": "markdown",
   "metadata": {},
   "source": [
    "### folder patch3"
   ]
  },
  {
   "cell_type": "code",
   "execution_count": 9,
   "metadata": {},
   "outputs": [],
   "source": [
    "all_data = pd.read_csv(\"train.csv\").append(pd.read_csv(\"test.csv\"))"
   ]
  },
  {
   "cell_type": "code",
   "execution_count": 41,
   "metadata": {},
   "outputs": [
    {
     "name": "stderr",
     "output_type": "stream",
     "text": [
      "7909it [05:41, 23.17it/s]\n"
     ]
    }
   ],
   "source": [
    "new_seq = []\n",
    "for row in tqdm(all_data.iterrows()):\n",
    "    size = (224,224)\n",
    "    image = Image.open(\"data/original/all/\" + row[1][\"name\"])\n",
    "\n",
    "    img1 = image.crop((20, 0, 460+20, 460)).resize(size)\n",
    "    img2 = image.crop((120, 0, 580, 460)).resize(size)\n",
    "    img3 = image.crop((240-20, 0, 700-20, 460)).resize(size)\n",
    "\n",
    "    \n",
    "    nm1 = \"p1_\"+row[1][\"name\"]\n",
    "    nm2 = \"p2_\"+row[1][\"name\"]\n",
    "    nm3 = \"p3_\"+row[1][\"name\"]\n",
    "    \n",
    "    img1.save(\"data/original/p3/\"+nm1)\n",
    "    img2.save(\"data/original/p3/\"+nm2)\n",
    "    img3.save(\"data/original/p3/\"+nm3)\n",
    "\n",
    "    d = dict(row[1])\n",
    "    d[\"name\"] = nm1\n",
    "    new_seq.append(d)\n",
    "    \n",
    "    d = dict(row[1])\n",
    "    d[\"name\"] = nm2\n",
    "    new_seq.append(d)\n",
    "    \n",
    "    d = dict(row[1])\n",
    "    d[\"name\"] = nm3\n",
    "    new_seq.append(d)"
   ]
  },
  {
   "cell_type": "code",
   "execution_count": 43,
   "metadata": {},
   "outputs": [],
   "source": [
    "df = pd.DataFrame(new_seq)"
   ]
  },
  {
   "cell_type": "code",
   "execution_count": 45,
   "metadata": {},
   "outputs": [],
   "source": [
    "df.to_csv(\"all_data_p3.csv\", index=False)"
   ]
  },
  {
   "cell_type": "code",
   "execution_count": null,
   "metadata": {},
   "outputs": [],
   "source": []
  },
  {
   "cell_type": "code",
   "execution_count": null,
   "metadata": {},
   "outputs": [],
   "source": []
  },
  {
   "cell_type": "code",
   "execution_count": null,
   "metadata": {},
   "outputs": [],
   "source": []
  },
  {
   "cell_type": "markdown",
   "metadata": {},
   "source": [
    "### add categorical"
   ]
  },
  {
   "cell_type": "code",
   "execution_count": 3,
   "metadata": {},
   "outputs": [],
   "source": [
    "cat = {\n",
    "    \"ductal_carcinoma\":0,\n",
    "    \"fibroadenoma\":1,\n",
    "    \"mucinous_carcinoma\":2,\n",
    "    \"tubular_adenoma\":3,\n",
    "    \"papillary_carcinoma\":4,\n",
    "    \"lobular_carcinoma\":5,\n",
    "    \"phyllodes_tumor\":6, \n",
    "    \"adenosis\" :7, \n",
    "}\n",
    "tp = { x[1][\"name\"]:x[1][\"type_label\"] for x in df.iterrows() }"
   ]
  },
  {
   "cell_type": "code",
   "execution_count": 25,
   "metadata": {},
   "outputs": [],
   "source": [
    "train = pd.read_csv(\"train.csv\")\n",
    "train[\"type_label\"] = [ tp[x] for x in train['name']]\n",
    "train[\"label_cat\"] = [ cat[x] for x in train[\"type_label\"]]"
   ]
  },
  {
   "cell_type": "code",
   "execution_count": 26,
   "metadata": {},
   "outputs": [
    {
     "data": {
      "text/html": [
       "<div>\n",
       "<style scoped>\n",
       "    .dataframe tbody tr th:only-of-type {\n",
       "        vertical-align: middle;\n",
       "    }\n",
       "\n",
       "    .dataframe tbody tr th {\n",
       "        vertical-align: top;\n",
       "    }\n",
       "\n",
       "    .dataframe thead th {\n",
       "        text-align: right;\n",
       "    }\n",
       "</style>\n",
       "<table border=\"1\" class=\"dataframe\">\n",
       "  <thead>\n",
       "    <tr style=\"text-align: right;\">\n",
       "      <th></th>\n",
       "      <th>label</th>\n",
       "      <th>label_name</th>\n",
       "      <th>name</th>\n",
       "      <th>path</th>\n",
       "      <th>seq</th>\n",
       "      <th>type</th>\n",
       "      <th>zoom</th>\n",
       "      <th>type_label</th>\n",
       "      <th>label_cat</th>\n",
       "    </tr>\n",
       "  </thead>\n",
       "  <tbody>\n",
       "    <tr>\n",
       "      <th>0</th>\n",
       "      <td>0</td>\n",
       "      <td>benign</td>\n",
       "      <td>SOB_B_A-14-22549CD-100-014.png</td>\n",
       "      <td>/media/yannis/data/cours/PPD/breast/benign/SOB...</td>\n",
       "      <td>SOB_B_A_14-22549CD</td>\n",
       "      <td>real</td>\n",
       "      <td>100X</td>\n",
       "      <td>adenosis</td>\n",
       "      <td>7</td>\n",
       "    </tr>\n",
       "    <tr>\n",
       "      <th>1</th>\n",
       "      <td>0</td>\n",
       "      <td>benign</td>\n",
       "      <td>SOB_B_A-14-22549CD-100-001.png</td>\n",
       "      <td>/media/yannis/data/cours/PPD/breast/benign/SOB...</td>\n",
       "      <td>SOB_B_A_14-22549CD</td>\n",
       "      <td>real</td>\n",
       "      <td>100X</td>\n",
       "      <td>adenosis</td>\n",
       "      <td>7</td>\n",
       "    </tr>\n",
       "    <tr>\n",
       "      <th>2</th>\n",
       "      <td>0</td>\n",
       "      <td>benign</td>\n",
       "      <td>SOB_B_A-14-22549CD-100-002.png</td>\n",
       "      <td>/media/yannis/data/cours/PPD/breast/benign/SOB...</td>\n",
       "      <td>SOB_B_A_14-22549CD</td>\n",
       "      <td>real</td>\n",
       "      <td>100X</td>\n",
       "      <td>adenosis</td>\n",
       "      <td>7</td>\n",
       "    </tr>\n",
       "    <tr>\n",
       "      <th>3</th>\n",
       "      <td>0</td>\n",
       "      <td>benign</td>\n",
       "      <td>SOB_B_A-14-22549CD-100-003.png</td>\n",
       "      <td>/media/yannis/data/cours/PPD/breast/benign/SOB...</td>\n",
       "      <td>SOB_B_A_14-22549CD</td>\n",
       "      <td>real</td>\n",
       "      <td>100X</td>\n",
       "      <td>adenosis</td>\n",
       "      <td>7</td>\n",
       "    </tr>\n",
       "    <tr>\n",
       "      <th>4</th>\n",
       "      <td>0</td>\n",
       "      <td>benign</td>\n",
       "      <td>SOB_B_A-14-22549CD-100-004.png</td>\n",
       "      <td>/media/yannis/data/cours/PPD/breast/benign/SOB...</td>\n",
       "      <td>SOB_B_A_14-22549CD</td>\n",
       "      <td>real</td>\n",
       "      <td>100X</td>\n",
       "      <td>adenosis</td>\n",
       "      <td>7</td>\n",
       "    </tr>\n",
       "  </tbody>\n",
       "</table>\n",
       "</div>"
      ],
      "text/plain": [
       "   label label_name                            name  \\\n",
       "0      0     benign  SOB_B_A-14-22549CD-100-014.png   \n",
       "1      0     benign  SOB_B_A-14-22549CD-100-001.png   \n",
       "2      0     benign  SOB_B_A-14-22549CD-100-002.png   \n",
       "3      0     benign  SOB_B_A-14-22549CD-100-003.png   \n",
       "4      0     benign  SOB_B_A-14-22549CD-100-004.png   \n",
       "\n",
       "                                                path                 seq  \\\n",
       "0  /media/yannis/data/cours/PPD/breast/benign/SOB...  SOB_B_A_14-22549CD   \n",
       "1  /media/yannis/data/cours/PPD/breast/benign/SOB...  SOB_B_A_14-22549CD   \n",
       "2  /media/yannis/data/cours/PPD/breast/benign/SOB...  SOB_B_A_14-22549CD   \n",
       "3  /media/yannis/data/cours/PPD/breast/benign/SOB...  SOB_B_A_14-22549CD   \n",
       "4  /media/yannis/data/cours/PPD/breast/benign/SOB...  SOB_B_A_14-22549CD   \n",
       "\n",
       "   type  zoom type_label  label_cat  \n",
       "0  real  100X   adenosis          7  \n",
       "1  real  100X   adenosis          7  \n",
       "2  real  100X   adenosis          7  \n",
       "3  real  100X   adenosis          7  \n",
       "4  real  100X   adenosis          7  "
      ]
     },
     "execution_count": 26,
     "metadata": {},
     "output_type": "execute_result"
    }
   ],
   "source": [
    "train.head()"
   ]
  },
  {
   "cell_type": "code",
   "execution_count": 27,
   "metadata": {},
   "outputs": [],
   "source": [
    "train.to_csv(\"train.csv\", index=False)"
   ]
  },
  {
   "cell_type": "code",
   "execution_count": 19,
   "metadata": {},
   "outputs": [],
   "source": []
  },
  {
   "cell_type": "code",
   "execution_count": 31,
   "metadata": {},
   "outputs": [],
   "source": [
    "test = pd.read_csv(\"test.csv\")\n",
    "test[\"label_cat\"] = [ cat[x] for x in test[\"type\"]]"
   ]
  },
  {
   "cell_type": "code",
   "execution_count": 32,
   "metadata": {},
   "outputs": [
    {
     "data": {
      "text/html": [
       "<div>\n",
       "<style scoped>\n",
       "    .dataframe tbody tr th:only-of-type {\n",
       "        vertical-align: middle;\n",
       "    }\n",
       "\n",
       "    .dataframe tbody tr th {\n",
       "        vertical-align: top;\n",
       "    }\n",
       "\n",
       "    .dataframe thead th {\n",
       "        text-align: right;\n",
       "    }\n",
       "</style>\n",
       "<table border=\"1\" class=\"dataframe\">\n",
       "  <thead>\n",
       "    <tr style=\"text-align: right;\">\n",
       "      <th></th>\n",
       "      <th>label</th>\n",
       "      <th>label_name</th>\n",
       "      <th>name</th>\n",
       "      <th>path</th>\n",
       "      <th>seq</th>\n",
       "      <th>type</th>\n",
       "      <th>zoom</th>\n",
       "      <th>label_cat</th>\n",
       "    </tr>\n",
       "  </thead>\n",
       "  <tbody>\n",
       "    <tr>\n",
       "      <th>0</th>\n",
       "      <td>0</td>\n",
       "      <td>benign</td>\n",
       "      <td>SOB_B_A-14-22549AB-100-014.png</td>\n",
       "      <td>/media/yannis/data/cours/PPD/breast/benign/SOB...</td>\n",
       "      <td>SOB_B_A_14-22549AB</td>\n",
       "      <td>adenosis</td>\n",
       "      <td>100X</td>\n",
       "      <td>7</td>\n",
       "    </tr>\n",
       "    <tr>\n",
       "      <th>1</th>\n",
       "      <td>0</td>\n",
       "      <td>benign</td>\n",
       "      <td>SOB_B_A-14-22549AB-100-001.png</td>\n",
       "      <td>/media/yannis/data/cours/PPD/breast/benign/SOB...</td>\n",
       "      <td>SOB_B_A_14-22549AB</td>\n",
       "      <td>adenosis</td>\n",
       "      <td>100X</td>\n",
       "      <td>7</td>\n",
       "    </tr>\n",
       "    <tr>\n",
       "      <th>2</th>\n",
       "      <td>0</td>\n",
       "      <td>benign</td>\n",
       "      <td>SOB_B_A-14-22549AB-100-002.png</td>\n",
       "      <td>/media/yannis/data/cours/PPD/breast/benign/SOB...</td>\n",
       "      <td>SOB_B_A_14-22549AB</td>\n",
       "      <td>adenosis</td>\n",
       "      <td>100X</td>\n",
       "      <td>7</td>\n",
       "    </tr>\n",
       "    <tr>\n",
       "      <th>3</th>\n",
       "      <td>0</td>\n",
       "      <td>benign</td>\n",
       "      <td>SOB_B_A-14-22549AB-100-003.png</td>\n",
       "      <td>/media/yannis/data/cours/PPD/breast/benign/SOB...</td>\n",
       "      <td>SOB_B_A_14-22549AB</td>\n",
       "      <td>adenosis</td>\n",
       "      <td>100X</td>\n",
       "      <td>7</td>\n",
       "    </tr>\n",
       "    <tr>\n",
       "      <th>4</th>\n",
       "      <td>0</td>\n",
       "      <td>benign</td>\n",
       "      <td>SOB_B_A-14-22549AB-100-004.png</td>\n",
       "      <td>/media/yannis/data/cours/PPD/breast/benign/SOB...</td>\n",
       "      <td>SOB_B_A_14-22549AB</td>\n",
       "      <td>adenosis</td>\n",
       "      <td>100X</td>\n",
       "      <td>7</td>\n",
       "    </tr>\n",
       "  </tbody>\n",
       "</table>\n",
       "</div>"
      ],
      "text/plain": [
       "   label label_name                            name  \\\n",
       "0      0     benign  SOB_B_A-14-22549AB-100-014.png   \n",
       "1      0     benign  SOB_B_A-14-22549AB-100-001.png   \n",
       "2      0     benign  SOB_B_A-14-22549AB-100-002.png   \n",
       "3      0     benign  SOB_B_A-14-22549AB-100-003.png   \n",
       "4      0     benign  SOB_B_A-14-22549AB-100-004.png   \n",
       "\n",
       "                                                path                 seq  \\\n",
       "0  /media/yannis/data/cours/PPD/breast/benign/SOB...  SOB_B_A_14-22549AB   \n",
       "1  /media/yannis/data/cours/PPD/breast/benign/SOB...  SOB_B_A_14-22549AB   \n",
       "2  /media/yannis/data/cours/PPD/breast/benign/SOB...  SOB_B_A_14-22549AB   \n",
       "3  /media/yannis/data/cours/PPD/breast/benign/SOB...  SOB_B_A_14-22549AB   \n",
       "4  /media/yannis/data/cours/PPD/breast/benign/SOB...  SOB_B_A_14-22549AB   \n",
       "\n",
       "       type  zoom  label_cat  \n",
       "0  adenosis  100X          7  \n",
       "1  adenosis  100X          7  \n",
       "2  adenosis  100X          7  \n",
       "3  adenosis  100X          7  \n",
       "4  adenosis  100X          7  "
      ]
     },
     "execution_count": 32,
     "metadata": {},
     "output_type": "execute_result"
    }
   ],
   "source": [
    "test.head()"
   ]
  },
  {
   "cell_type": "code",
   "execution_count": 33,
   "metadata": {},
   "outputs": [],
   "source": [
    "test.to_csv(\"test.csv\", index=False)"
   ]
  },
  {
   "cell_type": "code",
   "execution_count": null,
   "metadata": {},
   "outputs": [],
   "source": []
  },
  {
   "cell_type": "code",
   "execution_count": null,
   "metadata": {},
   "outputs": [],
   "source": []
  },
  {
   "cell_type": "code",
   "execution_count": 3,
   "metadata": {},
   "outputs": [],
   "source": [
    "train = pd.read_csv(\"train.csv\")"
   ]
  },
  {
   "cell_type": "code",
   "execution_count": 4,
   "metadata": {},
   "outputs": [],
   "source": [
    "class_weights = class_weight.compute_class_weight('balanced',\n",
    "                                                 np.unique(train[\"label_cat\"]),\n",
    "                                                 train[\"label_cat\"])"
   ]
  },
  {
   "cell_type": "code",
   "execution_count": 5,
   "metadata": {},
   "outputs": [
    {
     "data": {
      "text/plain": [
       "array([0.26589304, 0.99309045, 1.30877483, 1.80892449, 1.68191489,\n",
       "       1.57157058, 3.62614679, 2.44736842])"
      ]
     },
     "execution_count": 5,
     "metadata": {},
     "output_type": "execute_result"
    }
   ],
   "source": [
    "class_weights"
   ]
  },
  {
   "cell_type": "code",
   "execution_count": null,
   "metadata": {},
   "outputs": [],
   "source": []
  },
  {
   "cell_type": "code",
   "execution_count": null,
   "metadata": {},
   "outputs": [],
   "source": []
  },
  {
   "cell_type": "markdown",
   "metadata": {},
   "source": [
    "### train p3"
   ]
  },
  {
   "cell_type": "code",
   "execution_count": 54,
   "metadata": {},
   "outputs": [],
   "source": [
    "train = pd.read_csv(\"train.csv\")\n",
    "test = pd.read_csv(\"test.csv\")"
   ]
  },
  {
   "cell_type": "code",
   "execution_count": 57,
   "metadata": {},
   "outputs": [],
   "source": [
    "p1 = train.copy()\n",
    "p1[\"name\"] = [ \"p1_\"+x for x in p1[\"name\"] ]\n",
    "\n",
    "p2 = train.copy()\n",
    "p2[\"name\"] = [ \"p2_\"+x for x in p2[\"name\"] ]\n",
    "\n",
    "p3 = train.copy()\n",
    "p3[\"name\"] = [ \"p3_\"+x for x in p3[\"name\"] ]\n",
    "\n",
    "train_p3 = p1.append(p2)\n",
    "train_p3 = train_p3.append(p3)\n",
    "train_p3.to_csv(\"train_p3.csv\", index=False)"
   ]
  },
  {
   "cell_type": "code",
   "execution_count": 59,
   "metadata": {},
   "outputs": [],
   "source": [
    "p1 = test.copy()\n",
    "p1[\"name\"] = [ \"p1_\"+x for x in p1[\"name\"] ]\n",
    "\n",
    "p2 = test.copy()\n",
    "p2[\"name\"] = [ \"p2_\"+x for x in p2[\"name\"] ]\n",
    "\n",
    "p3 = test.copy()\n",
    "p3[\"name\"] = [ \"p3_\"+x for x in p3[\"name\"] ]\n",
    "\n",
    "test_p3 = p1.append(p2)\n",
    "test_p3 = test_p3.append(p3)\n",
    "test_p3.to_csv(\"test_p3.csv\", index=False)"
   ]
  },
  {
   "cell_type": "code",
   "execution_count": null,
   "metadata": {},
   "outputs": [],
   "source": []
  },
  {
   "cell_type": "code",
   "execution_count": null,
   "metadata": {},
   "outputs": [],
   "source": []
  }
 ],
 "metadata": {
  "kernelspec": {
   "display_name": "Python 3",
   "language": "python",
   "name": "python3"
  },
  "language_info": {
   "codemirror_mode": {
    "name": "ipython",
    "version": 3
   },
   "file_extension": ".py",
   "mimetype": "text/x-python",
   "name": "python",
   "nbconvert_exporter": "python",
   "pygments_lexer": "ipython3",
   "version": "3.6.8"
  }
 },
 "nbformat": 4,
 "nbformat_minor": 2
}
