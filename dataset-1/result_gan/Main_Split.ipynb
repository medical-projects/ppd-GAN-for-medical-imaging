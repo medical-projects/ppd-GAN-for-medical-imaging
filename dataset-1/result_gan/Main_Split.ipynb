{
 "cells": [
  {
   "cell_type": "code",
   "execution_count": 16,
   "metadata": {},
   "outputs": [],
   "source": [
    "import pandas as pd\n",
    "import numpy as np\n",
    "import glob\n",
    "from sklearn.model_selection import train_test_split"
   ]
  },
  {
   "cell_type": "code",
   "execution_count": 17,
   "metadata": {},
   "outputs": [],
   "source": [
    "names = [ x.split(\"/\")[-1] for x in glob.glob(\"pggan/*\")]"
   ]
  },
  {
   "cell_type": "markdown",
   "metadata": {},
   "source": [
    "### ppgan"
   ]
  },
  {
   "cell_type": "code",
   "execution_count": 2,
   "metadata": {},
   "outputs": [],
   "source": [
    "d5 = pd.read_csv(\"005-pgan-p3_512x512_1.csv\")\n",
    "d6 = pd.read_csv(\"006-pgan-p3_512x512_0.csv\")\n",
    "d7 = pd.read_csv(\"007-pgan-p3_512x512_0.csv\")\n",
    "d8 = pd.read_csv(\"008-pgan-p3_512x512_1.csv\")\n",
    "d9 = pd.read_csv(\"009-pgan-p3_512x512_0.csv\")"
   ]
  },
  {
   "cell_type": "code",
   "execution_count": 3,
   "metadata": {},
   "outputs": [],
   "source": [
    "df = pd.DataFrame()\n",
    "df = df.append(d5)\n",
    "df = df.append(d6)\n",
    "df = df.append(d7)\n",
    "df = df.append(d8)\n",
    "df = df.append(d9)"
   ]
  },
  {
   "cell_type": "code",
   "execution_count": 30,
   "metadata": {},
   "outputs": [],
   "source": [
    "df.to_csv(\"train_pgan.csv\", index=False)"
   ]
  },
  {
   "cell_type": "code",
   "execution_count": 4,
   "metadata": {},
   "outputs": [
    {
     "data": {
      "text/html": [
       "<div>\n",
       "<style scoped>\n",
       "    .dataframe tbody tr th:only-of-type {\n",
       "        vertical-align: middle;\n",
       "    }\n",
       "\n",
       "    .dataframe tbody tr th {\n",
       "        vertical-align: top;\n",
       "    }\n",
       "\n",
       "    .dataframe thead th {\n",
       "        text-align: right;\n",
       "    }\n",
       "</style>\n",
       "<table border=\"1\" class=\"dataframe\">\n",
       "  <thead>\n",
       "    <tr style=\"text-align: right;\">\n",
       "      <th></th>\n",
       "      <th>gan</th>\n",
       "      <th>label</th>\n",
       "      <th>name</th>\n",
       "      <th>seed</th>\n",
       "      <th>snapshot</th>\n",
       "    </tr>\n",
       "  </thead>\n",
       "  <tbody>\n",
       "    <tr>\n",
       "      <th>0</th>\n",
       "      <td>005-pgan-p3_512x512_1</td>\n",
       "      <td>1</td>\n",
       "      <td>005-pgan-p3_512x512-seed_1688941-lb_1--9ec40a0...</td>\n",
       "      <td>1688941</td>\n",
       "      <td>7804</td>\n",
       "    </tr>\n",
       "    <tr>\n",
       "      <th>1</th>\n",
       "      <td>005-pgan-p3_512x512_1</td>\n",
       "      <td>1</td>\n",
       "      <td>005-pgan-p3_512x512-seed_8566842-lb_1--bd739a8...</td>\n",
       "      <td>8566842</td>\n",
       "      <td>7804</td>\n",
       "    </tr>\n",
       "    <tr>\n",
       "      <th>2</th>\n",
       "      <td>005-pgan-p3_512x512_1</td>\n",
       "      <td>1</td>\n",
       "      <td>005-pgan-p3_512x512-seed_7214450-lb_1--d2e4c71...</td>\n",
       "      <td>7214450</td>\n",
       "      <td>7804</td>\n",
       "    </tr>\n",
       "    <tr>\n",
       "      <th>3</th>\n",
       "      <td>005-pgan-p3_512x512_1</td>\n",
       "      <td>1</td>\n",
       "      <td>005-pgan-p3_512x512-seed_2027514-lb_1--875e858...</td>\n",
       "      <td>2027514</td>\n",
       "      <td>7804</td>\n",
       "    </tr>\n",
       "    <tr>\n",
       "      <th>4</th>\n",
       "      <td>005-pgan-p3_512x512_1</td>\n",
       "      <td>1</td>\n",
       "      <td>005-pgan-p3_512x512-seed_9555231-lb_1--832e784...</td>\n",
       "      <td>9555231</td>\n",
       "      <td>7804</td>\n",
       "    </tr>\n",
       "  </tbody>\n",
       "</table>\n",
       "</div>"
      ],
      "text/plain": [
       "                     gan  label  \\\n",
       "0  005-pgan-p3_512x512_1      1   \n",
       "1  005-pgan-p3_512x512_1      1   \n",
       "2  005-pgan-p3_512x512_1      1   \n",
       "3  005-pgan-p3_512x512_1      1   \n",
       "4  005-pgan-p3_512x512_1      1   \n",
       "\n",
       "                                                name     seed  snapshot  \n",
       "0  005-pgan-p3_512x512-seed_1688941-lb_1--9ec40a0...  1688941      7804  \n",
       "1  005-pgan-p3_512x512-seed_8566842-lb_1--bd739a8...  8566842      7804  \n",
       "2  005-pgan-p3_512x512-seed_7214450-lb_1--d2e4c71...  7214450      7804  \n",
       "3  005-pgan-p3_512x512-seed_2027514-lb_1--875e858...  2027514      7804  \n",
       "4  005-pgan-p3_512x512-seed_9555231-lb_1--832e784...  9555231      7804  "
      ]
     },
     "execution_count": 4,
     "metadata": {},
     "output_type": "execute_result"
    }
   ],
   "source": [
    "df.head()"
   ]
  },
  {
   "cell_type": "code",
   "execution_count": 54,
   "metadata": {},
   "outputs": [],
   "source": [
    "df = pd.read_csv(\"train_pgan.csv\")\n",
    "df[\"type\"] = \"pggan\"\n",
    "df.to_csv(\"train_pgan.csv\", index=False)"
   ]
  },
  {
   "cell_type": "code",
   "execution_count": null,
   "metadata": {},
   "outputs": [],
   "source": []
  },
  {
   "cell_type": "code",
   "execution_count": 13,
   "metadata": {},
   "outputs": [],
   "source": [
    "k = np.array([1,5,1,8,8,16,1,81,651,684,651,651,651])"
   ]
  },
  {
   "cell_type": "code",
   "execution_count": 19,
   "metadata": {},
   "outputs": [
    {
     "data": {
      "text/plain": [
       "array([ 81,   8, 651])"
      ]
     },
     "execution_count": 19,
     "metadata": {},
     "output_type": "execute_result"
    }
   ],
   "source": [
    "np.random.choice(k, 3)  "
   ]
  },
  {
   "cell_type": "markdown",
   "metadata": {},
   "source": [
    "### Stylegan"
   ]
  },
  {
   "cell_type": "code",
   "execution_count": 15,
   "metadata": {},
   "outputs": [
    {
     "data": {
      "text/plain": [
       "40000"
      ]
     },
     "execution_count": 15,
     "metadata": {},
     "output_type": "execute_result"
    }
   ],
   "source": [
    "len(glob.glob(\"stylegan/*\"))"
   ]
  },
  {
   "cell_type": "code",
   "execution_count": 7,
   "metadata": {},
   "outputs": [],
   "source": [
    "s0 = pd.read_csv(\"stylegan_0.csv\")\n",
    "s1 = pd.read_csv(\"stylegan_1.csv\")"
   ]
  },
  {
   "cell_type": "code",
   "execution_count": 8,
   "metadata": {},
   "outputs": [],
   "source": [
    "df = s0.append(s1)"
   ]
  },
  {
   "cell_type": "code",
   "execution_count": 11,
   "metadata": {},
   "outputs": [],
   "source": [
    "df = df.drop(\"Unnamed: 0\", axis=1)"
   ]
  },
  {
   "cell_type": "code",
   "execution_count": 14,
   "metadata": {},
   "outputs": [],
   "source": [
    "df.to_csv(\"train_stylegan.csv\")"
   ]
  },
  {
   "cell_type": "code",
   "execution_count": null,
   "metadata": {},
   "outputs": [],
   "source": []
  },
  {
   "cell_type": "code",
   "execution_count": 49,
   "metadata": {},
   "outputs": [],
   "source": [
    "df = pd.read_csv(\"train_stylegan-rdm.csv\")"
   ]
  },
  {
   "cell_type": "code",
   "execution_count": 50,
   "metadata": {},
   "outputs": [],
   "source": [
    "df[\"type\"] = \"stylegan\""
   ]
  },
  {
   "cell_type": "code",
   "execution_count": 51,
   "metadata": {},
   "outputs": [],
   "source": [
    "df.to_csv(\"train_stylegan-rdm.csv\", index=False)"
   ]
  },
  {
   "cell_type": "code",
   "execution_count": null,
   "metadata": {},
   "outputs": [],
   "source": []
  },
  {
   "cell_type": "markdown",
   "metadata": {},
   "source": [
    "## Mix Gan"
   ]
  },
  {
   "cell_type": "code",
   "execution_count": 55,
   "metadata": {},
   "outputs": [],
   "source": [
    "d1 = pd.read_csv(\"train_pgan.csv\")\n",
    "d2 = pd.read_csv(\"train_stylegan-rdm.csv\")"
   ]
  },
  {
   "cell_type": "code",
   "execution_count": 57,
   "metadata": {},
   "outputs": [],
   "source": [
    "df = d1.append(d2)"
   ]
  },
  {
   "cell_type": "code",
   "execution_count": 60,
   "metadata": {},
   "outputs": [],
   "source": [
    "df = df.drop(\"Unnamed: 0\", axis=1)"
   ]
  },
  {
   "cell_type": "code",
   "execution_count": 62,
   "metadata": {},
   "outputs": [],
   "source": [
    "df.to_csv(\"train_mixgan.csv\", index=False)"
   ]
  },
  {
   "cell_type": "code",
   "execution_count": null,
   "metadata": {},
   "outputs": [],
   "source": []
  },
  {
   "cell_type": "code",
   "execution_count": 64,
   "metadata": {},
   "outputs": [
    {
     "data": {
      "text/plain": [
       "pggan       50000\n",
       "stylegan    30000\n",
       "Name: type, dtype: int64"
      ]
     },
     "execution_count": 64,
     "metadata": {},
     "output_type": "execute_result"
    }
   ],
   "source": [
    "df[\"type\"].value_counts()"
   ]
  },
  {
   "cell_type": "code",
   "execution_count": null,
   "metadata": {},
   "outputs": [],
   "source": []
  },
  {
   "cell_type": "code",
   "execution_count": 22,
   "metadata": {},
   "outputs": [],
   "source": [
    "mx = pd.read_csv(\"train_mixgan.csv\")"
   ]
  },
  {
   "cell_type": "code",
   "execution_count": 23,
   "metadata": {},
   "outputs": [
    {
     "data": {
      "text/plain": [
       "pggan       50000\n",
       "stylegan    30000\n",
       "Name: type, dtype: int64"
      ]
     },
     "execution_count": 23,
     "metadata": {},
     "output_type": "execute_result"
    }
   ],
   "source": [
    "mx[\"type\"].value_counts()"
   ]
  },
  {
   "cell_type": "markdown",
   "metadata": {},
   "source": [
    "## Real Data"
   ]
  },
  {
   "cell_type": "code",
   "execution_count": null,
   "metadata": {},
   "outputs": [],
   "source": []
  },
  {
   "cell_type": "code",
   "execution_count": 6,
   "metadata": {},
   "outputs": [],
   "source": [
    "df = pd.read_csv(\"../train.csv\")"
   ]
  },
  {
   "cell_type": "code",
   "execution_count": 7,
   "metadata": {},
   "outputs": [],
   "source": [
    "df[\"type\"] = \"real\""
   ]
  },
  {
   "cell_type": "code",
   "execution_count": 8,
   "metadata": {},
   "outputs": [],
   "source": [
    "df.to_csv(\"../train.csv\", index=False)"
   ]
  },
  {
   "cell_type": "code",
   "execution_count": null,
   "metadata": {},
   "outputs": [],
   "source": []
  },
  {
   "cell_type": "code",
   "execution_count": null,
   "metadata": {},
   "outputs": [],
   "source": []
  },
  {
   "cell_type": "markdown",
   "metadata": {},
   "source": [
    "# Mixing Real + Gan"
   ]
  },
  {
   "cell_type": "markdown",
   "metadata": {},
   "source": [
    "### Real + MixGan"
   ]
  },
  {
   "cell_type": "code",
   "execution_count": 27,
   "metadata": {},
   "outputs": [],
   "source": [
    "dr = pd.read_csv(\"../train.csv\")\n",
    "mx = pd.read_csv(\"train_mixgan.csv\")"
   ]
  },
  {
   "cell_type": "code",
   "execution_count": 28,
   "metadata": {},
   "outputs": [],
   "source": [
    "df = dr.append(mx)\n",
    "df = df.append(dr)\n",
    "df = df.append(dr)\n",
    "df = df.append(dr)"
   ]
  },
  {
   "cell_type": "code",
   "execution_count": 29,
   "metadata": {},
   "outputs": [
    {
     "data": {
      "text/plain": [
       "pggan       50000\n",
       "stylegan    30000\n",
       "real        25296\n",
       "Name: type, dtype: int64"
      ]
     },
     "execution_count": 29,
     "metadata": {},
     "output_type": "execute_result"
    }
   ],
   "source": [
    "df[\"type\"].value_counts()"
   ]
  },
  {
   "cell_type": "code",
   "execution_count": 30,
   "metadata": {},
   "outputs": [],
   "source": [
    "df.to_csv(\"train_real_mixgan.csv\", index=False)"
   ]
  },
  {
   "cell_type": "code",
   "execution_count": null,
   "metadata": {},
   "outputs": [],
   "source": []
  },
  {
   "cell_type": "markdown",
   "metadata": {},
   "source": [
    "## Real + StyleGan"
   ]
  },
  {
   "cell_type": "code",
   "execution_count": 52,
   "metadata": {},
   "outputs": [],
   "source": [
    "dr = pd.read_csv(\"../train.csv\")\n",
    "sg = pd.read_csv(\"train_stylegan-rdm.csv\")\n",
    "\n",
    "\n",
    "sg1 = sg[sg[\"label\"] == 0].sample(10000)\n",
    "sg2 = sg[sg[\"label\"] == 1].sample(10000)\n",
    "sg = sg1.append(sg2)\n",
    "\n",
    "df = sg.append(dr)\n",
    "df = df.append(dr)"
   ]
  },
  {
   "cell_type": "code",
   "execution_count": 53,
   "metadata": {},
   "outputs": [
    {
     "data": {
      "text/plain": [
       "stylegan    20000\n",
       "real        12648\n",
       "Name: type, dtype: int64"
      ]
     },
     "execution_count": 53,
     "metadata": {},
     "output_type": "execute_result"
    }
   ],
   "source": [
    "df[\"type\"].value_counts()"
   ]
  },
  {
   "cell_type": "code",
   "execution_count": 54,
   "metadata": {},
   "outputs": [],
   "source": [
    "df.to_csv(\"train_real-stylegan20k.csv\", index=False)"
   ]
  },
  {
   "cell_type": "code",
   "execution_count": null,
   "metadata": {},
   "outputs": [],
   "source": []
  },
  {
   "cell_type": "markdown",
   "metadata": {},
   "source": [
    "## Real + PGGAN"
   ]
  },
  {
   "cell_type": "code",
   "execution_count": 28,
   "metadata": {},
   "outputs": [],
   "source": [
    "dr = pd.read_csv(\"../train.csv\")\n",
    "sg = pd.read_csv(\"train_pgan.csv\")\n",
    "\n",
    "# sg1 = sg[sg[\"label\"] == 0].sample(10000)\n",
    "# sg2 = sg[sg[\"label\"] == 1].sample(10000)\n",
    "# sg = sg1.append(sg2)"
   ]
  },
  {
   "cell_type": "code",
   "execution_count": 29,
   "metadata": {},
   "outputs": [],
   "source": [
    "df = sg.append(dr)\n",
    "df = df.append(dr)\n",
    "df = df.append(dr)\n",
    "# df = df.append(dr)"
   ]
  },
  {
   "cell_type": "code",
   "execution_count": 30,
   "metadata": {},
   "outputs": [
    {
     "data": {
      "text/plain": [
       "pggan    50000\n",
       "real     18972\n",
       "Name: type, dtype: int64"
      ]
     },
     "execution_count": 30,
     "metadata": {},
     "output_type": "execute_result"
    }
   ],
   "source": [
    "df[\"type\"].value_counts()"
   ]
  },
  {
   "cell_type": "code",
   "execution_count": 31,
   "metadata": {},
   "outputs": [],
   "source": [
    "df.to_csv(\"train_real-pggan.csv\", index=False)"
   ]
  },
  {
   "cell_type": "code",
   "execution_count": null,
   "metadata": {},
   "outputs": [],
   "source": []
  },
  {
   "cell_type": "code",
   "execution_count": 22,
   "metadata": {},
   "outputs": [
    {
     "data": {
      "text/plain": [
       "006-pgan-p3_512x512_0    10000\n",
       "008-pgan-p3_512x512_1    10000\n",
       "007-pgan-p3_512x512_0    10000\n",
       "009-pgan-p3_512x512_0    10000\n",
       "005-pgan-p3_512x512_1    10000\n",
       "Name: gan, dtype: int64"
      ]
     },
     "execution_count": 22,
     "metadata": {},
     "output_type": "execute_result"
    }
   ],
   "source": [
    "df[\"gan\"].value_counts()"
   ]
  },
  {
   "cell_type": "markdown",
   "metadata": {},
   "source": [
    "# -- Different size train --"
   ]
  },
  {
   "cell_type": "markdown",
   "metadata": {},
   "source": [
    "## stylan "
   ]
  },
  {
   "cell_type": "code",
   "execution_count": 8,
   "metadata": {},
   "outputs": [],
   "source": [
    "stgan = pd.read_csv(\"train_stylegan-rdm.csv\")\n",
    "stgan.to_csv(\"train_stylegan-30k.csv\", index=False)"
   ]
  },
  {
   "cell_type": "code",
   "execution_count": 9,
   "metadata": {},
   "outputs": [],
   "source": [
    "stgan = pd.read_csv(\"train_stylegan-rdm.csv\")\n",
    "sg1 = stgan[stgan[\"label\"] == 0].sample(10000)\n",
    "sg2 = stgan[stgan[\"label\"] == 1].sample(10000)\n",
    "stgan = sg1.append(sg2)\n",
    "stgan.to_csv(\"train_stylegan-20k.csv\", index=False)"
   ]
  },
  {
   "cell_type": "code",
   "execution_count": 10,
   "metadata": {},
   "outputs": [],
   "source": [
    "stgan = pd.read_csv(\"train_stylegan-rdm.csv\")\n",
    "sg1 = stgan[stgan[\"label\"] == 0].sample(6000)\n",
    "sg2 = stgan[stgan[\"label\"] == 1].sample(6000)\n",
    "stgan = sg1.append(sg2)\n",
    "stgan.to_csv(\"train_stylegan-12k.csv\", index=False)"
   ]
  },
  {
   "cell_type": "code",
   "execution_count": 11,
   "metadata": {},
   "outputs": [],
   "source": [
    "stgan = pd.read_csv(\"train_stylegan-rdm.csv\")\n",
    "sg1 = stgan[stgan[\"label\"] == 0].sample(3500)\n",
    "sg2 = stgan[stgan[\"label\"] == 1].sample(3500)\n",
    "stgan = sg1.append(sg2)\n",
    "stgan.to_csv(\"train_stylegan-7k.csv\", index=False)"
   ]
  },
  {
   "cell_type": "code",
   "execution_count": null,
   "metadata": {},
   "outputs": [],
   "source": []
  },
  {
   "cell_type": "code",
   "execution_count": null,
   "metadata": {},
   "outputs": [],
   "source": [
    "stgan = pd.read_csv(\"train_stylegan.csv\")\n",
    "stgan[\"gan\"] = \"stylegan\"\n",
    "sg1 = stgan[stgan[\"label\"] == 0].sample(3500)\n",
    "sg2 = stgan[stgan[\"label\"] == 1].sample(3500)\n",
    "stgan = sg1.append(sg2)\n",
    "stgan.to_csv(\"train_stylegan_nordm-7k.csv\", index=False)"
   ]
  },
  {
   "cell_type": "code",
   "execution_count": null,
   "metadata": {},
   "outputs": [],
   "source": [
    "stgan = pd.read_csv(\"train_stylegan.csv\")\n",
    "stgan[\"gan\"] = \"stylegan\"\n",
    "sg1 = stgan[stgan[\"label\"] == 0].sample(6000)\n",
    "sg2 = stgan[stgan[\"label\"] == 1].sample(6000)\n",
    "stgan = sg1.append(sg2)\n",
    "stgan.to_csv(\"train_stylegan_nordm-12k.csv\", index=False)"
   ]
  },
  {
   "cell_type": "code",
   "execution_count": null,
   "metadata": {},
   "outputs": [],
   "source": [
    "stgan = pd.read_csv(\"train_stylegan.csv\")\n",
    "stgan[\"gan\"] = \"stylegan\"\n",
    "sg1 = stgan[stgan[\"label\"] == 0].sample(10000)\n",
    "sg2 = stgan[stgan[\"label\"] == 1].sample(10000)\n",
    "stgan = sg1.append(sg2)\n",
    "stgan.to_csv(\"train_stylegan_nordm-20k.csv\", index=False)"
   ]
  },
  {
   "cell_type": "markdown",
   "metadata": {},
   "source": [
    "## pggan "
   ]
  },
  {
   "cell_type": "code",
   "execution_count": 19,
   "metadata": {},
   "outputs": [],
   "source": [
    "ppgan = pd.read_csv(\"train_pgan.csv\")\n",
    "ppgan.to_csv(\"train_pgan-30k.csv\", index=False)"
   ]
  },
  {
   "cell_type": "code",
   "execution_count": 20,
   "metadata": {},
   "outputs": [],
   "source": [
    "ppgan = pd.read_csv(\"train_pgan.csv\")\n",
    "sg1 = ppgan[ppgan[\"label\"] == 0].sample(10000)\n",
    "sg2 = ppgan[ppgan[\"label\"] == 1].sample(10000)\n",
    "ppgan = sg1.append(sg2)\n",
    "ppgan.to_csv(\"train_pgan-20k.csv\", index=False)"
   ]
  },
  {
   "cell_type": "code",
   "execution_count": 21,
   "metadata": {},
   "outputs": [],
   "source": [
    "ppgan = pd.read_csv(\"train_pgan.csv\")\n",
    "sg1 = ppgan[ppgan[\"label\"] == 0].sample(6000)\n",
    "sg2 = ppgan[ppgan[\"label\"] == 1].sample(6000)\n",
    "ppgan = sg1.append(sg2)\n",
    "ppgan.to_csv(\"train_pgan-12k.csv\", index=False)"
   ]
  },
  {
   "cell_type": "code",
   "execution_count": 22,
   "metadata": {},
   "outputs": [],
   "source": [
    "ppgan = pd.read_csv(\"train_pgan.csv\")\n",
    "sg1 = ppgan[ppgan[\"label\"] == 0].sample(3500)\n",
    "sg2 = ppgan[ppgan[\"label\"] == 1].sample(3500)\n",
    "ppgan = sg1.append(sg2)\n",
    "ppgan.to_csv(\"train_pgan-7k.csv\", index=False)"
   ]
  },
  {
   "cell_type": "code",
   "execution_count": null,
   "metadata": {},
   "outputs": [],
   "source": []
  },
  {
   "cell_type": "markdown",
   "metadata": {},
   "source": [
    "## mixgan"
   ]
  },
  {
   "cell_type": "code",
   "execution_count": 27,
   "metadata": {},
   "outputs": [],
   "source": [
    "mix = pd.read_csv(\"train_mixgan.csv\")\n",
    "sg1 = mix[mix[\"label\"] == 0].sample(15000)\n",
    "sg2 = mix[mix[\"label\"] == 1].sample(15000)\n",
    "mix = sg1.append(sg2)\n",
    "mix.to_csv(\"train_mixgan-30k.csv\", index=False)"
   ]
  },
  {
   "cell_type": "code",
   "execution_count": 28,
   "metadata": {},
   "outputs": [],
   "source": [
    "mix = pd.read_csv(\"train_mixgan.csv\")\n",
    "sg1 = mix[mix[\"label\"] == 0].sample(10000)\n",
    "sg2 = mix[mix[\"label\"] == 1].sample(10000)\n",
    "mix = sg1.append(sg2)\n",
    "mix.to_csv(\"train_mixgan-20k.csv\", index=False)"
   ]
  },
  {
   "cell_type": "code",
   "execution_count": 31,
   "metadata": {},
   "outputs": [],
   "source": [
    "mix = pd.read_csv(\"train_mixgan.csv\")\n",
    "sg1 = mix[mix[\"label\"] == 0].sample(6000)\n",
    "sg2 = mix[mix[\"label\"] == 1].sample(6000)\n",
    "mix = sg1.append(sg2)\n",
    "mix.to_csv(\"train_mixgan-12k.csv\", index=False)"
   ]
  },
  {
   "cell_type": "code",
   "execution_count": 32,
   "metadata": {},
   "outputs": [],
   "source": [
    "mix = pd.read_csv(\"train_mixgan.csv\")\n",
    "sg1 = mix[mix[\"label\"] == 0].sample(3500)\n",
    "sg2 = mix[mix[\"label\"] == 1].sample(3500)\n",
    "mix = sg1.append(sg2)\n",
    "mix.to_csv(\"train_mixgan-7k.csv\", index=False)"
   ]
  },
  {
   "cell_type": "code",
   "execution_count": null,
   "metadata": {},
   "outputs": [],
   "source": []
  },
  {
   "cell_type": "code",
   "execution_count": null,
   "metadata": {},
   "outputs": [],
   "source": []
  },
  {
   "cell_type": "code",
   "execution_count": null,
   "metadata": {},
   "outputs": [],
   "source": []
  },
  {
   "cell_type": "code",
   "execution_count": null,
   "metadata": {},
   "outputs": [],
   "source": []
  },
  {
   "cell_type": "code",
   "execution_count": 33,
   "metadata": {},
   "outputs": [],
   "source": [
    "size=[\"7k\", \"12k\", \"20k\", \"30k\"]\n",
    "tp = [\"train_stylegan\", \"train_pgan\", \"train_mixgan\"]"
   ]
  },
  {
   "cell_type": "code",
   "execution_count": 38,
   "metadata": {},
   "outputs": [
    {
     "name": "stdout",
     "output_type": "stream",
     "text": [
      "train_stylegan-7k.csv stylegan-7k\n",
      "train_stylegan-12k.csv stylegan-12k\n",
      "train_stylegan-20k.csv stylegan-20k\n",
      "train_stylegan-30k.csv stylegan-30k\n",
      "train_pgan-7k.csv pgan-7k\n",
      "train_pgan-12k.csv pgan-12k\n",
      "train_pgan-20k.csv pgan-20k\n",
      "train_pgan-30k.csv pgan-30k\n",
      "train_mixgan-7k.csv mixgan-7k\n",
      "train_mixgan-12k.csv mixgan-12k\n",
      "train_mixgan-20k.csv mixgan-20k\n",
      "train_mixgan-30k.csv mixgan-30k\n"
     ]
    }
   ],
   "source": [
    "for t in tp:\n",
    "    for s in size:\n",
    "        csv = t+\"-\"+s+\".csv\"\n",
    "        name = t.split('_')[1]+\"-\"+s\n",
    "        print(csv, name)"
   ]
  },
  {
   "cell_type": "code",
   "execution_count": null,
   "metadata": {},
   "outputs": [],
   "source": []
  },
  {
   "cell_type": "code",
   "execution_count": null,
   "metadata": {},
   "outputs": [],
   "source": []
  },
  {
   "cell_type": "markdown",
   "metadata": {},
   "source": [
    "## ACGAN"
   ]
  },
  {
   "cell_type": "code",
   "execution_count": 12,
   "metadata": {},
   "outputs": [],
   "source": [
    "mix = pd.read_csv(\"train_mixgan.csv\")"
   ]
  },
  {
   "cell_type": "code",
   "execution_count": 15,
   "metadata": {},
   "outputs": [
    {
     "data": {
      "text/plain": [
       "stylegan                 30000\n",
       "005-pgan-p3_512x512_1    10000\n",
       "009-pgan-p3_512x512_0    10000\n",
       "006-pgan-p3_512x512_0    10000\n",
       "007-pgan-p3_512x512_0    10000\n",
       "008-pgan-p3_512x512_1    10000\n",
       "Name: gan, dtype: int64"
      ]
     },
     "execution_count": 15,
     "metadata": {},
     "output_type": "execute_result"
    }
   ],
   "source": [
    "mix[\"gan\"].value_counts()"
   ]
  },
  {
   "cell_type": "code",
   "execution_count": null,
   "metadata": {},
   "outputs": [],
   "source": []
  },
  {
   "cell_type": "code",
   "execution_count": 20,
   "metadata": {},
   "outputs": [],
   "source": [
    "train, val = train_test_split(mix, test_size = 0.04, stratify = mix[\"gan\"])"
   ]
  },
  {
   "cell_type": "code",
   "execution_count": 22,
   "metadata": {},
   "outputs": [],
   "source": [
    "train.to_csv(\"train_mixgan___train.csv\", index=False)"
   ]
  },
  {
   "cell_type": "code",
   "execution_count": 23,
   "metadata": {},
   "outputs": [],
   "source": [
    "val.to_csv(\"train_mixgan___val.csv\", index=False)"
   ]
  },
  {
   "cell_type": "markdown",
   "metadata": {},
   "source": [
    "#### ------------------- "
   ]
  },
  {
   "cell_type": "code",
   "execution_count": 96,
   "metadata": {},
   "outputs": [],
   "source": [
    "train_real = pd.read_csv(\"../all_data_p3.csv\")\n",
    "train_real[\"type\"] = \"real\"\n",
    "train_real[\"label\"] = 1\n",
    "\n",
    "train_fake = pd.read_csv(\"train_mixgan.csv\")\n",
    "train_fake[\"label\"] = 0"
   ]
  },
  {
   "cell_type": "code",
   "execution_count": 97,
   "metadata": {},
   "outputs": [],
   "source": [
    "train_real_fake = train_real.append(train_fake)"
   ]
  },
  {
   "cell_type": "code",
   "execution_count": null,
   "metadata": {},
   "outputs": [],
   "source": []
  },
  {
   "cell_type": "code",
   "execution_count": 98,
   "metadata": {},
   "outputs": [
    {
     "data": {
      "text/plain": [
       "0    80000\n",
       "1    23727\n",
       "Name: label, dtype: int64"
      ]
     },
     "execution_count": 98,
     "metadata": {},
     "output_type": "execute_result"
    }
   ],
   "source": [
    "train_real_fake[\"label\"].value_counts()"
   ]
  },
  {
   "cell_type": "code",
   "execution_count": 99,
   "metadata": {},
   "outputs": [
    {
     "data": {
      "text/plain": [
       "pggan       50000\n",
       "stylegan    30000\n",
       "real        23727\n",
       "Name: type, dtype: int64"
      ]
     },
     "execution_count": 99,
     "metadata": {},
     "output_type": "execute_result"
    }
   ],
   "source": [
    "train_real_fake[\"type\"].value_counts()"
   ]
  },
  {
   "cell_type": "code",
   "execution_count": 100,
   "metadata": {},
   "outputs": [],
   "source": [
    "train_real_fake.to_csv(\"train_real_fake.csv\", index=False)"
   ]
  },
  {
   "cell_type": "code",
   "execution_count": null,
   "metadata": {},
   "outputs": [],
   "source": []
  },
  {
   "cell_type": "code",
   "execution_count": null,
   "metadata": {},
   "outputs": [],
   "source": []
  }
 ],
 "metadata": {
  "kernelspec": {
   "display_name": "Python 3",
   "language": "python",
   "name": "python3"
  },
  "language_info": {
   "codemirror_mode": {
    "name": "ipython",
    "version": 3
   },
   "file_extension": ".py",
   "mimetype": "text/x-python",
   "name": "python",
   "nbconvert_exporter": "python",
   "pygments_lexer": "ipython3",
   "version": "3.6.8"
  }
 },
 "nbformat": 4,
 "nbformat_minor": 2
}
