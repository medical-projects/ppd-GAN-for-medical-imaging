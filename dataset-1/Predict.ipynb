{
 "cells": [
  {
   "cell_type": "code",
   "execution_count": 1,
   "metadata": {},
   "outputs": [
    {
     "name": "stderr",
     "output_type": "stream",
     "text": [
      "/home/yannis/anaconda3/envs/tf_gpu/lib/python3.6/site-packages/h5py/__init__.py:36: FutureWarning: Conversion of the second argument of issubdtype from `float` to `np.floating` is deprecated. In future, it will be treated as `np.float64 == np.dtype(float).type`.\n",
      "  from ._conv import register_converters as _register_converters\n",
      "Using TensorFlow backend.\n"
     ]
    }
   ],
   "source": [
    "import os\n",
    "os.environ[\"CUDA_VISIBLE_DEVICES\"] = ''\n",
    "import pandas as pd\n",
    "from keras.models import load_model\n",
    "import glob\n",
    "from PIL import Image\n",
    "from tqdm import tqdm, tqdm_notebook\n",
    "from sklearn.metrics import roc_auc_score\n",
    "import numpy as np\n",
    "from sklearn.metrics import accuracy_score, roc_auc_score, precision_recall_curve, auc, f1_score\n",
    "import scikitplot as skplt\n",
    "import matplotlib.pyplot as plt"
   ]
  },
  {
   "cell_type": "code",
   "execution_count": 2,
   "metadata": {},
   "outputs": [],
   "source": [
    "# images = glob.glob(\"data/test/*.png\")"
   ]
  },
  {
   "cell_type": "code",
   "execution_count": 3,
   "metadata": {},
   "outputs": [],
   "source": [
    "resultat = pd.read_csv(\"resultats.csv\")"
   ]
  },
  {
   "cell_type": "code",
   "execution_count": 83,
   "metadata": {},
   "outputs": [],
   "source": [
    "mds = resultat.columns[1:]"
   ]
  },
  {
   "cell_type": "code",
   "execution_count": 84,
   "metadata": {},
   "outputs": [],
   "source": [
    "roc_res = []\n",
    "acc_res = []\n",
    "for m in mds:\n",
    "    r = (resultat[m] > 0.5).astype(np.int)\n",
    "    roc = roc_auc_score(resultat[\"y_true\"], resultat[m])\n",
    "    acc = accuracy_score(resultat[\"y_true\"], r)\n",
    "    roc_res.append((roc, m))\n",
    "    acc_res.append((acc, m, round((1-acc)*100, 2)))"
   ]
  },
  {
   "cell_type": "code",
   "execution_count": 81,
   "metadata": {},
   "outputs": [
    {
     "data": {
      "text/plain": [
       "[(0.888121546961326, 'DenseNet121_224x224_lightaug', 11.19),\n",
       " (0.8839779005524862, 'InceptionResNetV2_224x224_lightaug', 11.6),\n",
       " (0.8611878453038674, 'NASNetLarge_224x224_lightaug', 13.88),\n",
       " (0.8556629834254144, 'ResNet50_224x224_lightaug', 14.43),\n",
       " (0.830110497237569, 'NASNetMobile_224x224_lightaug', 16.99)]"
      ]
     },
     "execution_count": 81,
     "metadata": {},
     "output_type": "execute_result"
    }
   ],
   "source": [
    "sorted(acc_res, reverse=True)"
   ]
  },
  {
   "cell_type": "code",
   "execution_count": 85,
   "metadata": {},
   "outputs": [
    {
     "data": {
      "text/plain": [
       "[(0.9019337016574586, 'DenseNet121_224x224', 9.81),\n",
       " (0.8964088397790055, 'NASNetLarge_224x224_noaug', 10.36),\n",
       " (0.8915745856353591, 'NASNetMobile_224x224_noaug', 10.84),\n",
       " (0.8908839779005525, 'DenseNet121_224x224_noaug', 10.91),\n",
       " (0.8770718232044199, 'NASNetLarge_96x96', 12.29),\n",
       " (0.875, 'InceptionResNetV2_96x96_noaug', 12.5),\n",
       " (0.8674033149171271, 'DenseNet121_96x96_noaug', 13.26),\n",
       " (0.8667127071823204, 'NASNetMobile_96x96_noaug', 13.33),\n",
       " (0.861878453038674, 'NASNetMobile_224x224', 13.81),\n",
       " (0.8611878453038674, 'InceptionResNetV2_96x96', 13.88),\n",
       " (0.8598066298342542, 'InceptionResNetV2_224x224_noaug', 14.02),\n",
       " (0.856353591160221, 'InceptionResNetV2_224x224', 14.36),\n",
       " (0.8549723756906077, 'DenseNet121_96x96', 14.5),\n",
       " (0.8535911602209945, 'ResNet50_96x96_noaug', 14.64),\n",
       " (0.8480662983425414, 'ResNet50_224x224', 15.19),\n",
       " (0.8459944751381215, 'NASNetMobile_96x96', 15.4),\n",
       " (0.8439226519337016, 'ResNet50_224x224_noaug', 15.61),\n",
       " (0.8439226519337016, 'NASNetLarge_96x96_noaug', 15.61),\n",
       " (0.8169889502762431, 'ResNet50_96x96', 18.3)]"
      ]
     },
     "execution_count": 85,
     "metadata": {},
     "output_type": "execute_result"
    }
   ],
   "source": [
    "sorted(acc_res, reverse=True)"
   ]
  },
  {
   "cell_type": "code",
   "execution_count": null,
   "metadata": {},
   "outputs": [],
   "source": []
  },
  {
   "cell_type": "code",
   "execution_count": 13,
   "metadata": {},
   "outputs": [
    {
     "data": {
      "text/plain": [
       "[(0.9153159130521475, 'InceptionResNetV2_224x224_lightaug'),\n",
       " (0.901207341682509, 'NASNetLarge_224x224_lightaug'),\n",
       " (0.8556638832261324, 'ResNet50_224x224_lightaug'),\n",
       " (0.8448865023187698, 'NASNetMobile_224x224_lightaug'),\n",
       " (0.8327460491531076, 'DenseNet121_224x224_lightaug')]"
      ]
     },
     "execution_count": 13,
     "metadata": {},
     "output_type": "execute_result"
    }
   ],
   "source": [
    "sorted(roc_res, reverse=True)"
   ]
  },
  {
   "cell_type": "code",
   "execution_count": 29,
   "metadata": {},
   "outputs": [
    {
     "data": {
      "text/plain": [
       "[(0.9242919071667004, 'DenseNet121_224x224'),\n",
       " (0.9188138349255897, 'NASNetLarge_224x224_noaug'),\n",
       " (0.9178461051886126, 'DenseNet121_224x224_noaug'),\n",
       " (0.9095421933603083, 'InceptionResNetV2_224x224_noaug'),\n",
       " (0.8986358964133839, 'InceptionResNetV2_224x224'),\n",
       " (0.876244039781771, 'NASNetMobile_224x224'),\n",
       " (0.8541633005256336, 'NASNetMobile_224x224_noaug'),\n",
       " (0.8538212433006631, 'NASNetLarge_96x96_noaug'),\n",
       " (0.8240932045777226, 'DenseNet121_96x96_noaug'),\n",
       " (0.8205007442752684, 'NASNetMobile_96x96_noaug'),\n",
       " (0.8046818867807773, 'InceptionResNetV2_96x96_noaug'),\n",
       " (0.7980470079446659, 'ResNet50_96x96_noaug'),\n",
       " (0.7844970727464617, 'InceptionResNetV2_96x96'),\n",
       " (0.778111431586836, 'DenseNet121_96x96'),\n",
       " (0.7715349946886592, 'ResNet50_224x224'),\n",
       " (0.770254428695679, 'NASNetMobile_96x96'),\n",
       " (0.7649241801799325, 'NASNetLarge_96x96'),\n",
       " (0.7579747462072901, 'ResNet50_224x224_noaug'),\n",
       " (0.6913835956917979, 'ResNet50_96x96')]"
      ]
     },
     "execution_count": 29,
     "metadata": {},
     "output_type": "execute_result"
    }
   ],
   "source": [
    "sorted(roc_res, reverse=True)"
   ]
  },
  {
   "cell_type": "code",
   "execution_count": null,
   "metadata": {},
   "outputs": [],
   "source": []
  },
  {
   "cell_type": "code",
   "execution_count": null,
   "metadata": {},
   "outputs": [],
   "source": []
  },
  {
   "cell_type": "code",
   "execution_count": 8,
   "metadata": {},
   "outputs": [],
   "source": [
    "models = glob.glob(\"../models/dataset-1/vanilla/*_224x224_lightaug/*\")"
   ]
  },
  {
   "cell_type": "code",
   "execution_count": 11,
   "metadata": {},
   "outputs": [
    {
     "name": "stdout",
     "output_type": "stream",
     "text": [
      "NASNetMobile_224x224_lightaug  =>  4271830\n",
      "InceptionResNetV2_224x224_lightaug  =>  54339810\n",
      "NASNetLarge_224x224_lightaug  =>  84924884\n",
      "ResNet50_224x224_lightaug  =>  23591810\n",
      "DenseNet121_224x224_lightaug  =>  7039554\n"
     ]
    }
   ],
   "source": [
    "for m in models:\n",
    "    model = load_model(m, compile=False)\n",
    "    print(m.split(\"/\")[-2], \" => \", model.count_params())"
   ]
  },
  {
   "cell_type": "code",
   "execution_count": 2,
   "metadata": {},
   "outputs": [],
   "source": [
    "model = load_model(\"../models/dataset-1/Comparaison/Mobilnet_only_pgan_224x224/best_model_epoch.hdf5\", compile=False)"
   ]
  },
  {
   "cell_type": "code",
   "execution_count": 3,
   "metadata": {},
   "outputs": [
    {
     "name": "stdout",
     "output_type": "stream",
     "text": [
      "Mobilnet_v2 =>  2260546\n"
     ]
    }
   ],
   "source": [
    "print(\"Mobilnet_v2 => \", model.count_params())"
   ]
  },
  {
   "cell_type": "code",
   "execution_count": null,
   "metadata": {},
   "outputs": [],
   "source": [
    "23 591 810"
   ]
  },
  {
   "cell_type": "code",
   "execution_count": 43,
   "metadata": {},
   "outputs": [
    {
     "data": {
      "image/png": "[encoded data removed]",
      "text/plain": [
       "<Figure size 504x360 with 1 Axes>"
      ]
     },
     "metadata": {
      "needs_background": "light"
     },
     "output_type": "display_data"
    }
   ],
   "source": [
    "fig, ax = plt.subplots()\n",
    "fig.set_size_inches(7, 5)\n",
    "    \n",
    "ax.scatter(2.2, 92.30, label=\"MobilNetV2 224x224\")\n",
    "ax.scatter(84, 91.88, label=\"NASNetLarge_224x224\")\n",
    "ax.scatter(54, 90.95, label=\"InceptionResNetV2_224x224\")\n",
    "ax.scatter(5, 88.98, label=\"NASNetMobile_224x224\")\n",
    "ax.scatter(23, 85.56, label=\"ResNet50_224x224\")\n",
    "ax.scatter(7, 92.5, label=\"DenseNet121_224x224\")\n",
    "ax.scatter(20, 91, label=\"Xception_224x224\")\n",
    "ax.scatter(130, 83, label=\"VGG16_224x224\")\n",
    "#ax.scatter(0, 0, label=\"\")\n",
    "#ax.scatter(0, 0, label=\"\")\n",
    "#ax.scatter(0, 0, label=\"\")\n",
    "\n",
    "ax.legend(loc='upper right', bbox_to_anchor=(1.5,1.02), ncol=1)\n",
    "ax.set_title(\"Comparaison Architecture\")\n",
    "ax.set_ylabel(\"Accuracy(%)\")\n",
    "ax.set_xlabel(\"Params (en million)\")\n",
    "ax.grid(True)"
   ]
  },
  {
   "cell_type": "code",
   "execution_count": 34,
   "metadata": {},
   "outputs": [
    {
     "data": {
      "text/plain": [
       "[(0.9242919071667004, 'DenseNet121_224x224'),\n",
       " (0.9188138349255897, 'NASNetLarge_224x224_noaug'),\n",
       " (0.9178461051886126, 'DenseNet121_224x224_noaug'),\n",
       " (0.9095421933603083, 'InceptionResNetV2_224x224_noaug'),\n",
       " (0.8986358964133839, 'InceptionResNetV2_224x224'),\n",
       " (0.876244039781771, 'NASNetMobile_224x224'),\n",
       " (0.8541633005256336, 'NASNetMobile_224x224_noaug'),\n",
       " (0.8538212433006631, 'NASNetLarge_96x96_noaug'),\n",
       " (0.8240932045777226, 'DenseNet121_96x96_noaug'),\n",
       " (0.8205007442752684, 'NASNetMobile_96x96_noaug'),\n",
       " (0.8046818867807773, 'InceptionResNetV2_96x96_noaug'),\n",
       " (0.7980470079446659, 'ResNet50_96x96_noaug'),\n",
       " (0.7844970727464617, 'InceptionResNetV2_96x96'),\n",
       " (0.778111431586836, 'DenseNet121_96x96'),\n",
       " (0.7715349946886592, 'ResNet50_224x224'),\n",
       " (0.770254428695679, 'NASNetMobile_96x96'),\n",
       " (0.7649241801799325, 'NASNetLarge_96x96'),\n",
       " (0.7579747462072901, 'ResNet50_224x224_noaug'),\n",
       " (0.6913835956917979, 'ResNet50_96x96')]"
      ]
     },
     "execution_count": 34,
     "metadata": {},
     "output_type": "execute_result"
    }
   ],
   "source": [
    "[(0.9242919071667004, 'DenseNet121_224x224'),\n",
    " (0.9188138349255897, 'NASNetLarge_224x224_noaug'),\n",
    " (0.9178461051886126, 'DenseNet121_224x224_noaug'),\n",
    " (0.9095421933603083, 'InceptionResNetV2_224x224_noaug'),\n",
    " (0.8986358964133839, 'InceptionResNetV2_224x224'),\n",
    " (0.876244039781771, 'NASNetMobile_224x224'),\n",
    " (0.8541633005256336, 'NASNetMobile_224x224_noaug'),\n",
    " (0.8538212433006631, 'NASNetLarge_96x96_noaug'),\n",
    " (0.8240932045777226, 'DenseNet121_96x96_noaug'),\n",
    " (0.8205007442752684, 'NASNetMobile_96x96_noaug'),\n",
    " (0.8046818867807773, 'InceptionResNetV2_96x96_noaug'),\n",
    " (0.7980470079446659, 'ResNet50_96x96_noaug'),\n",
    " (0.7844970727464617, 'InceptionResNetV2_96x96'),\n",
    " (0.778111431586836, 'DenseNet121_96x96'),\n",
    " (0.7715349946886592, 'ResNet50_224x224'),\n",
    " (0.770254428695679, 'NASNetMobile_96x96'),\n",
    " (0.7649241801799325, 'NASNetLarge_96x96'),\n",
    " (0.7579747462072901, 'ResNet50_224x224_noaug'),\n",
    " (0.6913835956917979, 'ResNet50_96x96')]"
   ]
  },
  {
   "cell_type": "code",
   "execution_count": null,
   "metadata": {},
   "outputs": [],
   "source": [
    "[(0.9153159130521475, 'InceptionResNetV2_224x224_lightaug'),\n",
    " (0.901207341682509, 'NASNetLarge_224x224_lightaug'),\n",
    " (0.8556638832261324, 'ResNet50_224x224_lightaug'),\n",
    " (0.8448865023187698, 'NASNetMobile_224x224_lightaug'),\n",
    " (0.8327460491531076, 'DenseNet121_224x224_lightaug')]"
   ]
  },
  {
   "cell_type": "markdown",
   "metadata": {},
   "source": [
    "### Result patch3"
   ]
  },
  {
   "cell_type": "code",
   "execution_count": 3,
   "metadata": {},
   "outputs": [],
   "source": [
    "resultat = pd.read_csv(\"resultat_patch3.csv\")\n",
    "mds = resultat.columns[1:]"
   ]
  },
  {
   "cell_type": "code",
   "execution_count": 45,
   "metadata": {},
   "outputs": [],
   "source": [
    "y_true  = [ list(resultat[\"y_test\"][x:x+3]) for x in range(0, len(resultat[\"y_test\"]), 3)]\n",
    "y_true = [ most_common(x) for x in y_true]"
   ]
  },
  {
   "cell_type": "code",
   "execution_count": 46,
   "metadata": {},
   "outputs": [],
   "source": [
    "def most_common(lst):\n",
    "        return max(set(lst), key=lst.count)"
   ]
  },
  {
   "cell_type": "code",
   "execution_count": 47,
   "metadata": {},
   "outputs": [],
   "source": [
    "roc_res = []\n",
    "acc_res = []\n",
    "for m in mds:\n",
    "    r = (resultat[m] > 0.5).astype(np.int)\n",
    "#     roc = roc_auc_score(resultat[\"y_test\"], resultat[m])\n",
    "    pred = [ list(resultat[m][x:x+3]) for x in range(0, len(resultat[m]), 3)]\n",
    "\n",
    "\n",
    "    real_pred = []\n",
    "    for pr in pred:\n",
    "        p = (np.array(pr) > 0.5).astype(np.int)\n",
    "        real_pred.append(most_common(list(p)))\n",
    "    \n",
    "    \n",
    "    acc = accuracy_score(y_true, real_pred)\n",
    "#     roc_res.append((roc, m))\n",
    "    acc_res.append((acc, m, round((1-acc)*100, 2)))"
   ]
  },
  {
   "cell_type": "code",
   "execution_count": 48,
   "metadata": {},
   "outputs": [
    {
     "data": {
      "text/plain": [
       "[(0.919889502762431, 'NASNetLarge_224x224_noaug', 8.01),\n",
       " (0.9095303867403315, 'NASNetLarge_224x224_lightaug', 9.05),\n",
       " (0.9060773480662984, 'InceptionResNetV2_224x224_noaug', 9.39),\n",
       " (0.9033149171270718, 'DenseNet121_224x224_lightaug', 9.67),\n",
       " (0.8957182320441989, 'DenseNet121_224x224_noaug', 10.43),\n",
       " (0.8950276243093923, 'NASNetMobile_224x224_lightaug', 10.5),\n",
       " (0.8874309392265194, 'ResNet50_224x224_lightaug', 11.26),\n",
       " (0.8825966850828729, 'ResNet50_224x224_noaug', 11.74),\n",
       " (0.8756906077348067, 'NASNetMobile_224x224_noaug', 12.43),\n",
       " (0.8743093922651933, 'DenseNet121_96x96_lightaug', 12.57),\n",
       " (0.8701657458563536, 'InceptionResNetV2_96x96_lightaug', 12.98),\n",
       " (0.8570441988950276, 'InceptionResNetV2_224x224_lightaug', 14.3),\n",
       " (0.8522099447513812, 'NASNetMobile_96x96_lightaug', 14.78),\n",
       " (0.8259668508287292, 'ResNet50_96x96_lightaug', 17.4)]"
      ]
     },
     "execution_count": 48,
     "metadata": {},
     "output_type": "execute_result"
    }
   ],
   "source": [
    "sorted(acc_res, reverse=True)"
   ]
  },
  {
   "cell_type": "markdown",
   "metadata": {},
   "source": [
    "### Resultat patch 5"
   ]
  },
  {
   "cell_type": "code",
   "execution_count": 8,
   "metadata": {},
   "outputs": [],
   "source": [
    "resultat = pd.read_csv(\"resultat_patch5.csv\")\n",
    "mds = resultat.columns[1:]\n",
    "def most_common(lst):\n",
    "    return max(set(lst), key=lst.count)"
   ]
  },
  {
   "cell_type": "code",
   "execution_count": 9,
   "metadata": {},
   "outputs": [],
   "source": [
    "y_true  = [ list(resultat[\"y_test\"][x:x+5]) for x in range(0, len(resultat[\"y_test\"]), 5)]\n",
    "y_true = [ most_common(x) for x in y_true]"
   ]
  },
  {
   "cell_type": "code",
   "execution_count": 11,
   "metadata": {},
   "outputs": [],
   "source": [
    "roc_res = []\n",
    "acc_res = []\n",
    "for m in mds:\n",
    "    r = (resultat[m] > 0.5).astype(np.int)\n",
    "#     roc = roc_auc_score(resultat[\"y_test\"], resultat[m])\n",
    "    pred = [ list(resultat[m][x:x+5]) for x in range(0, len(resultat[m]), 5)]\n",
    "\n",
    "\n",
    "    real_pred = []\n",
    "    for pr in pred:\n",
    "        p = (np.array(pr) > 0.5).astype(np.int)\n",
    "        real_pred.append(most_common(list(p)))\n",
    "    \n",
    "    \n",
    "    acc = accuracy_score(y_true, real_pred)\n",
    "#     roc_res.append((roc, m))\n",
    "    acc_res.append((acc, m, round((1-acc)*100, 2)))"
   ]
  },
  {
   "cell_type": "code",
   "execution_count": 12,
   "metadata": {},
   "outputs": [
    {
     "data": {
      "text/plain": [
       "[(0.8770718232044199, 'MobileNetV2_224x224', 12.29),\n",
       " (0.869475138121547, 'DenseNet121_224x224', 13.05),\n",
       " (0.8535911602209945, 'DenseNet121_224x224_multi', 14.64)]"
      ]
     },
     "execution_count": 12,
     "metadata": {},
     "output_type": "execute_result"
    }
   ],
   "source": [
    "sorted(acc_res, reverse=True)"
   ]
  },
  {
   "cell_type": "code",
   "execution_count": null,
   "metadata": {},
   "outputs": [],
   "source": []
  },
  {
   "cell_type": "markdown",
   "metadata": {},
   "source": [
    "### Test by patient"
   ]
  },
  {
   "cell_type": "code",
   "execution_count": 18,
   "metadata": {},
   "outputs": [],
   "source": [
    "best_model = load_model(\"../models/dataset-1/vanilla/DenseNet121_224x224/model.hdf5\")"
   ]
  },
  {
   "cell_type": "code",
   "execution_count": 88,
   "metadata": {},
   "outputs": [],
   "source": [
    "test = pd.read_csv(\"test.csv\")"
   ]
  },
  {
   "cell_type": "code",
   "execution_count": 50,
   "metadata": {},
   "outputs": [],
   "source": [
    "test_drop = test.drop_duplicates(\"seq\", keep=\"first\")"
   ]
  },
  {
   "cell_type": "code",
   "execution_count": 51,
   "metadata": {},
   "outputs": [],
   "source": [
    "seq_label = [(x[1][\"seq\"],x[1][\"label\"]) for x in test_drop.iterrows()]"
   ]
  },
  {
   "cell_type": "code",
   "execution_count": 79,
   "metadata": {},
   "outputs": [
    {
     "name": "stdout",
     "output_type": "stream",
     "text": [
      "57/57 [==============================] - 4s 78ms/step\n",
      "('SOB_B_F_14-23060CD', 0)\n"
     ]
    }
   ],
   "source": [
    "def get_images(images):\n",
    "    imgs = []\n",
    "    for i in images:\n",
    "        imgs.append(np.array(Image.open(\"data/orig_test/\"+i).resize((224,224))))\n",
    "    return np.array(imgs)\n",
    "\n",
    "for seq in seq_label[0:]:\n",
    "    \n",
    "    images = get_images(list(test[test[\"seq\"] == seq[0]][\"name\"]))\n",
    "    \n",
    "    \n",
    "    pred = best_model.predict(images, verbose=1)\n",
    "    \n",
    "    print(seq)\n",
    "    break"
   ]
  },
  {
   "cell_type": "code",
   "execution_count": 80,
   "metadata": {},
   "outputs": [
    {
     "data": {
      "text/plain": [
       "array([1, 1, 1, 0, 1, 1, 1, 1, 1, 0, 0, 0, 0, 0, 0, 0, 0, 0, 0, 0, 0, 0,\n",
       "       0, 0, 0, 0, 0, 1, 0, 0, 0, 1, 0, 0, 0, 1, 1, 1, 1, 1, 0, 1, 1, 1,\n",
       "       1, 1, 1, 1, 1, 1, 1, 1, 1, 1, 1, 1, 1])"
      ]
     },
     "execution_count": 80,
     "metadata": {},
     "output_type": "execute_result"
    }
   ],
   "source": [
    "(pred[:,1] > 0.5).astype(np.int)"
   ]
  },
  {
   "cell_type": "code",
   "execution_count": null,
   "metadata": {},
   "outputs": [],
   "source": []
  },
  {
   "cell_type": "code",
   "execution_count": null,
   "metadata": {},
   "outputs": [],
   "source": []
  },
  {
   "cell_type": "markdown",
   "metadata": {},
   "source": [
    "### Predict Norm"
   ]
  },
  {
   "cell_type": "code",
   "execution_count": 3,
   "metadata": {},
   "outputs": [
    {
     "name": "stderr",
     "output_type": "stream",
     "text": [
      "1448it [00:16, 87.04it/s]\n"
     ]
    }
   ],
   "source": [
    "test = pd.read_csv(\"test.csv\")\n",
    "x_test_96 = []\n",
    "x_test_224 = []\n",
    "y_test = []\n",
    "for img in tqdm(test.iterrows()):\n",
    "    i = img[1]\n",
    "    y_test.append(i[\"label\"])\n",
    "    mi = Image.open(\"data/norm_orig_test/\"+i[\"name\"])\n",
    "    \n",
    "    m = mi.resize((224,224))\n",
    "    x_test_224.append(np.array(m)*(1/255))\n",
    "\n",
    "x_test_224 = np.array(x_test_224)\n",
    "y_test = np.array(y_test)"
   ]
  },
  {
   "cell_type": "code",
   "execution_count": 2,
   "metadata": {},
   "outputs": [],
   "source": [
    "best_model = load_model(\"../models/dataset-1/norm/DenseNet121_224x224/model.hdf5\")"
   ]
  },
  {
   "cell_type": "code",
   "execution_count": 4,
   "metadata": {},
   "outputs": [
    {
     "name": "stdout",
     "output_type": "stream",
     "text": [
      "1448/1448 [==============================] - 121s 84ms/step\n"
     ]
    }
   ],
   "source": [
    "pred = best_model.predict(x_test_224, verbose=1)"
   ]
  },
  {
   "cell_type": "code",
   "execution_count": 9,
   "metadata": {},
   "outputs": [
    {
     "data": {
      "text/plain": [
       "0.8791436464088398"
      ]
     },
     "execution_count": 9,
     "metadata": {},
     "output_type": "execute_result"
    }
   ],
   "source": [
    "accuracy_score(y_test, (pred[:,1] >= 0.5).astype(np.int))"
   ]
  },
  {
   "cell_type": "code",
   "execution_count": null,
   "metadata": {},
   "outputs": [],
   "source": []
  },
  {
   "cell_type": "code",
   "execution_count": null,
   "metadata": {},
   "outputs": [],
   "source": []
  },
  {
   "cell_type": "markdown",
   "metadata": {},
   "source": [
    "## Predict Compare "
   ]
  },
  {
   "cell_type": "code",
   "execution_count": 4,
   "metadata": {},
   "outputs": [],
   "source": [
    "test = glob.glob(\"data/original/patch3_train/*/*.png\")\n",
    "x_test_96 = []\n",
    "x_test_224 = []\n",
    "y_test = []\n",
    "for img in tqdm(test):\n",
    "    y_test.append(img.split(\"/\")[-2])\n",
    "    mi = Image.open(\"data/original/patch3_train/\"+str(img.split(\"/\")[-2])+\"/\"+img.split(\"/\")[-1])\n",
    "    \n",
    "    m = mi.resize((224,224))\n",
    "    x_test_224.append(np.array(m)*(1/255))\n",
    "\n",
    "x_test_224 = np.array(x_test_224)\n",
    "y_test = np.array(y_test).astype(np.int)"
   ]
  },
  {
   "cell_type": "code",
   "execution_count": 7,
   "metadata": {},
   "outputs": [],
   "source": [
    "model = load_model(\"../models/dataset-1/Compare/DenseNet121_224x224_weights/model.hdf5\")"
   ]
  },
  {
   "cell_type": "code",
   "execution_count": 12,
   "metadata": {},
   "outputs": [
    {
     "data": {
      "text/plain": [
       "0.903049421661409"
      ]
     },
     "execution_count": 12,
     "metadata": {},
     "output_type": "execute_result"
    }
   ],
   "source": [
    "pred = model.predict(x_test_224, verbose=1)\n",
    "accuracy_score(y_test, (pred[:,1] >= 0.5).astype(np.int))"
   ]
  },
  {
   "cell_type": "code",
   "execution_count": 15,
   "metadata": {},
   "outputs": [],
   "source": [
    "# pred3 = modelp3.predict(x_test_224, verbose=1)\n",
    "# accuracy_score(y_test, (pred3[:,1] >= 0.5).astype(np.int))"
   ]
  },
  {
   "cell_type": "code",
   "execution_count": 2,
   "metadata": {},
   "outputs": [],
   "source": [
    "modelp3 = load_model(\"../models/dataset-1/Compare/DenseNet121_224x224_weights_p3/model.hdf5\")"
   ]
  },
  {
   "cell_type": "code",
   "execution_count": 3,
   "metadata": {},
   "outputs": [],
   "source": [
    "from keras.preprocessing.image import ImageDataGenerator"
   ]
  },
  {
   "cell_type": "code",
   "execution_count": null,
   "metadata": {},
   "outputs": [],
   "source": []
  },
  {
   "cell_type": "code",
   "execution_count": 4,
   "metadata": {},
   "outputs": [],
   "source": [
    "train = glob.glob(\"data/original/patch3_train/*/*.png\")"
   ]
  },
  {
   "cell_type": "code",
   "execution_count": 32,
   "metadata": {},
   "outputs": [
    {
     "name": "stderr",
     "output_type": "stream",
     "text": [
      "\n",
      "\n",
      "  0%|          | 0/12 [00:00<?, ?it/s]\u001b[A\u001b[A\n",
      "\n",
      "  8%|▊         | 1/12 [00:15<02:52, 15.69s/it]\u001b[A\u001b[A\n",
      "\n",
      " 17%|█▋        | 2/12 [00:31<02:37, 15.75s/it]\u001b[A\u001b[A\n",
      "\n",
      " 25%|██▌       | 3/12 [00:47<02:22, 15.80s/it]\u001b[A\u001b[A\n",
      "\n",
      " 33%|███▎      | 4/12 [01:03<02:06, 15.85s/it]\u001b[A\u001b[A\n",
      "\n",
      " 42%|████▏     | 5/12 [01:19<01:50, 15.82s/it]\u001b[A\u001b[A\n",
      "\n",
      " 50%|█████     | 6/12 [01:35<01:35, 15.83s/it]\u001b[A\u001b[A\n",
      "\n",
      " 58%|█████▊    | 7/12 [01:50<01:18, 15.76s/it]\u001b[A\u001b[A\n",
      "\n",
      " 67%|██████▋   | 8/12 [02:06<01:02, 15.65s/it]\u001b[A\u001b[A\n",
      "\n",
      " 75%|███████▌  | 9/12 [02:21<00:46, 15.57s/it]\u001b[A\u001b[A\n",
      "\n",
      " 83%|████████▎ | 10/12 [02:36<00:31, 15.51s/it]\u001b[A\u001b[A\n",
      "\n",
      " 92%|█████████▏| 11/12 [02:52<00:15, 15.47s/it]\u001b[A\u001b[A\n",
      "\n",
      "100%|██████████| 12/12 [03:07<00:00, 15.44s/it]\u001b[A\u001b[A\n",
      "\n",
      "\u001b[A\u001b[A"
     ]
    }
   ],
   "source": [
    "idx = 0\n",
    "contradictions = []\n",
    "for x in tqdm(range(0,12)):\n",
    "    x_test_224 = []\n",
    "    y_test = []\n",
    "    for i in range(0,1581):\n",
    "        y_test.append(train[idx].split(\"/\")[-2])\n",
    "        mi = Image.open(\"data/original/patch3_train/\"+str(train[idx].split(\"/\")[-2])+\"/\"+train[idx].split(\"/\")[-1])\n",
    "\n",
    "        m = mi.resize((224,224))\n",
    "        x_test_224.append(np.array(m)*(1/255))\n",
    "        idx = idx + 1\n",
    "    x_test_224 = np.array(x_test_224)\n",
    "    y_test = np.array(y_test).astype(np.int)\n",
    "    \n",
    "    \n",
    "    pred = modelp3.predict(x_test_224)\n",
    "    diff = 1-(y_test == (pred[:,1] >= 0.5).astype(np.int))\n",
    "    error = np.where(diff)[0]\n",
    "    contradictions.append(error)"
   ]
  },
  {
   "cell_type": "code",
   "execution_count": 35,
   "metadata": {},
   "outputs": [],
   "source": [
    "contradictions_idx = []\n",
    "for x in range(0,12):\n",
    "    for m in contradictions[x]:\n",
    "        plus = x*1581\n",
    "        contradictions_idx.append(m+plus)"
   ]
  },
  {
   "cell_type": "code",
   "execution_count": null,
   "metadata": {},
   "outputs": [],
   "source": []
  },
  {
   "cell_type": "code",
   "execution_count": 37,
   "metadata": {},
   "outputs": [
    {
     "data": {
      "text/plain": [
       "589"
      ]
     },
     "execution_count": 37,
     "metadata": {},
     "output_type": "execute_result"
    }
   ],
   "source": [
    "len(contradictions_idx)"
   ]
  },
  {
   "cell_type": "code",
   "execution_count": 49,
   "metadata": {},
   "outputs": [],
   "source": [
    "x_contrad = []\n",
    "y_test_contrad = []\n",
    "for x in contradictions_idx:\n",
    "    img = train[x]\n",
    "    y_test_contrad.append(img.split(\"/\")[-2])\n",
    "    mi = Image.open(\"data/original/patch3_train/\"+str(img.split(\"/\")[-2])+\"/\"+img.split(\"/\")[-1])\n",
    "    \n",
    "    m = mi.resize((224,224))\n",
    "    x_contrad.append(np.array(m)*(1/255))\n",
    "\n",
    "x_contrad = np.array(x_contrad)\n",
    "y_test_contrad = np.array(y_test_contrad).astype(np.int)"
   ]
  },
  {
   "cell_type": "code",
   "execution_count": null,
   "metadata": {},
   "outputs": [],
   "source": []
  },
  {
   "cell_type": "code",
   "execution_count": 50,
   "metadata": {},
   "outputs": [
    {
     "name": "stdout",
     "output_type": "stream",
     "text": [
      "589/589 [==============================] - 1s 2ms/step\n"
     ]
    }
   ],
   "source": [
    "predc = modelp3.predict(x_contrad, verbose=1)"
   ]
  },
  {
   "cell_type": "code",
   "execution_count": 51,
   "metadata": {},
   "outputs": [
    {
     "data": {
      "text/plain": [
       "0.0"
      ]
     },
     "execution_count": 51,
     "metadata": {},
     "output_type": "execute_result"
    }
   ],
   "source": [
    "accuracy_score(y_test_contrad, (predc[:,1] >= 0.5).astype(np.int))"
   ]
  },
  {
   "cell_type": "code",
   "execution_count": null,
   "metadata": {},
   "outputs": [],
   "source": []
  },
  {
   "cell_type": "code",
   "execution_count": null,
   "metadata": {},
   "outputs": [],
   "source": []
  },
  {
   "cell_type": "code",
   "execution_count": null,
   "metadata": {},
   "outputs": [],
   "source": []
  },
  {
   "cell_type": "code",
   "execution_count": null,
   "metadata": {},
   "outputs": [],
   "source": []
  },
  {
   "cell_type": "code",
   "execution_count": null,
   "metadata": {},
   "outputs": [],
   "source": []
  },
  {
   "cell_type": "code",
   "execution_count": null,
   "metadata": {},
   "outputs": [],
   "source": []
  },
  {
   "cell_type": "code",
   "execution_count": null,
   "metadata": {},
   "outputs": [],
   "source": []
  },
  {
   "cell_type": "code",
   "execution_count": null,
   "metadata": {},
   "outputs": [],
   "source": []
  },
  {
   "cell_type": "code",
   "execution_count": 9,
   "metadata": {},
   "outputs": [
    {
     "data": {
      "text/plain": [
       "array([[2.5120394e-07, 9.9999976e-01],\n",
       "       [2.5120394e-07, 9.9999976e-01],\n",
       "       [2.5120394e-07, 9.9999976e-01],\n",
       "       ...,\n",
       "       [2.5120394e-07, 9.9999976e-01],\n",
       "       [2.5120394e-07, 9.9999976e-01],\n",
       "       [2.5120394e-07, 9.9999976e-01]], dtype=float32)"
      ]
     },
     "execution_count": 9,
     "metadata": {},
     "output_type": "execute_result"
    }
   ],
   "source": [
    "pred[:,1] > 0.5)"
   ]
  },
  {
   "cell_type": "code",
   "execution_count": null,
   "metadata": {},
   "outputs": [],
   "source": []
  },
  {
   "cell_type": "code",
   "execution_count": null,
   "metadata": {},
   "outputs": [],
   "source": []
  },
  {
   "cell_type": "code",
   "execution_count": 14,
   "metadata": {},
   "outputs": [
    {
     "data": {
      "text/plain": [
       "18972"
      ]
     },
     "execution_count": 14,
     "metadata": {},
     "output_type": "execute_result"
    }
   ],
   "source": [
    "len(train)"
   ]
  },
  {
   "cell_type": "code",
   "execution_count": 19,
   "metadata": {},
   "outputs": [
    {
     "data": {
      "text/plain": [
       "1581.0"
      ]
     },
     "execution_count": 19,
     "metadata": {},
     "output_type": "execute_result"
    }
   ],
   "source": [
    "18972 / 12"
   ]
  },
  {
   "cell_type": "code",
   "execution_count": null,
   "metadata": {},
   "outputs": [],
   "source": []
  },
  {
   "cell_type": "code",
   "execution_count": null,
   "metadata": {},
   "outputs": [],
   "source": []
  },
  {
   "cell_type": "code",
   "execution_count": null,
   "metadata": {},
   "outputs": [],
   "source": []
  },
  {
   "cell_type": "code",
   "execution_count": null,
   "metadata": {},
   "outputs": [],
   "source": []
  },
  {
   "cell_type": "code",
   "execution_count": 99,
   "metadata": {},
   "outputs": [],
   "source": [
    "train = pd.read_csv(\"train.csv\")\n",
    "test = pd.read_csv(\"test.csv\")"
   ]
  },
  {
   "cell_type": "code",
   "execution_count": 96,
   "metadata": {},
   "outputs": [
    {
     "data": {
      "text/plain": [
       "6461"
      ]
     },
     "execution_count": 96,
     "metadata": {},
     "output_type": "execute_result"
    }
   ],
   "source": [
    "len(train)"
   ]
  },
  {
   "cell_type": "code",
   "execution_count": 100,
   "metadata": {},
   "outputs": [
    {
     "data": {
      "text/plain": [
       "1448"
      ]
     },
     "execution_count": 100,
     "metadata": {},
     "output_type": "execute_result"
    }
   ],
   "source": [
    "len(test)"
   ]
  },
  {
   "cell_type": "code",
   "execution_count": null,
   "metadata": {},
   "outputs": [],
   "source": []
  },
  {
   "cell_type": "code",
   "execution_count": null,
   "metadata": {},
   "outputs": [],
   "source": []
  },
  {
   "cell_type": "code",
   "execution_count": null,
   "metadata": {},
   "outputs": [],
   "source": []
  },
  {
   "cell_type": "code",
   "execution_count": null,
   "metadata": {},
   "outputs": [],
   "source": []
  },
  {
   "cell_type": "code",
   "execution_count": null,
   "metadata": {},
   "outputs": [],
   "source": []
  },
  {
   "cell_type": "code",
   "execution_count": 26,
   "metadata": {},
   "outputs": [],
   "source": [
    "resultat = pd.read_csv(\"resultats.csv\")"
   ]
  },
  {
   "cell_type": "code",
   "execution_count": 59,
   "metadata": {},
   "outputs": [
    {
     "data": {
      "text/plain": [
       "<matplotlib.axes._subplots.AxesSubplot at 0x7fa6955a6f98>"
      ]
     },
     "execution_count": 59,
     "metadata": {},
     "output_type": "execute_result"
    },
    {
     "data": {
      "image/png": "[encoded data removed]",
      "text/plain": [
       "<Figure size 432x288 with 2 Axes>"
      ]
     },
     "metadata": {
      "needs_background": "light"
     },
     "output_type": "display_data"
    }
   ],
   "source": [
    "skplt.metrics.plot_confusion_matrix(resultat[\"y_true\"], (resultat[\"DenseNet121_224x224\"] > 0.5).astype(np.int), normalize=True)"
   ]
  },
  {
   "cell_type": "code",
   "execution_count": 58,
   "metadata": {},
   "outputs": [
    {
     "data": {
      "text/plain": [
       "<matplotlib.axes._subplots.AxesSubplot at 0x7fa69562a470>"
      ]
     },
     "execution_count": 58,
     "metadata": {},
     "output_type": "execute_result"
    },
    {
     "data": {
      "image/png": "[encoded data removed]",
      "text/plain": [
       "<Figure size 432x288 with 2 Axes>"
      ]
     },
     "metadata": {
      "needs_background": "light"
     },
     "output_type": "display_data"
    }
   ],
   "source": [
    "skplt.metrics.plot_confusion_matrix(resultat[\"y_true\"], (resultat[\"DenseNet121_224x224\"] > 0.5).astype(np.int))"
   ]
  },
  {
   "cell_type": "code",
   "execution_count": null,
   "metadata": {},
   "outputs": [],
   "source": []
  },
  {
   "cell_type": "code",
   "execution_count": 35,
   "metadata": {},
   "outputs": [
    {
     "data": {
      "text/plain": [
       "<matplotlib.axes._subplots.AxesSubplot at 0x7fa6959fcb38>"
      ]
     },
     "execution_count": 35,
     "metadata": {},
     "output_type": "execute_result"
    },
    {
     "data": {
      "image/png": "[encoded data removed]",
      "text/plain": [
       "<Figure size 432x288 with 1 Axes>"
      ]
     },
     "metadata": {
      "needs_background": "light"
     },
     "output_type": "display_data"
    }
   ],
   "source": [
    "skplt.metrics.plot_roc(resultat[\"y_true\"], [ [1-x, x] for x in resultat[\"DenseNet121_224x224\"]])"
   ]
  },
  {
   "cell_type": "code",
   "execution_count": 39,
   "metadata": {},
   "outputs": [
    {
     "data": {
      "text/plain": [
       "<matplotlib.axes._subplots.AxesSubplot at 0x7fa69583c550>"
      ]
     },
     "execution_count": 39,
     "metadata": {},
     "output_type": "execute_result"
    },
    {
     "data": {
      "image/png": "[encoded data removed]",
      "text/plain": [
       "<Figure size 432x288 with 1 Axes>"
      ]
     },
     "metadata": {
      "needs_background": "light"
     },
     "output_type": "display_data"
    }
   ],
   "source": [
    "skplt.metrics.plot_precision_recall(resultat[\"y_true\"], \n",
    "                                          [[1-x, x] for x in resultat[\"DenseNet121_224x224\"]])\n"
   ]
  },
  {
   "cell_type": "code",
   "execution_count": 47,
   "metadata": {},
   "outputs": [],
   "source": [
    "#auc(precision_recall_curve(resultat[\"y_true\"], resultat[\"DenseNet121_224x224\"]))"
   ]
  },
  {
   "cell_type": "code",
   "execution_count": 46,
   "metadata": {},
   "outputs": [],
   "source": [
    "precision, recall, thresholds = precision_recall_curve(\n",
    "    resultat[\"y_true\"], \n",
    "    resultat[\"DenseNet121_224x224\"])\n",
    "area = auc(recall, precision)"
   ]
  },
  {
   "cell_type": "code",
   "execution_count": 48,
   "metadata": {},
   "outputs": [
    {
     "name": "stdout",
     "output_type": "stream",
     "text": [
      "0.9810742117197426\n"
     ]
    }
   ],
   "source": [
    "print(area)"
   ]
  },
  {
   "cell_type": "code",
   "execution_count": 54,
   "metadata": {},
   "outputs": [
    {
     "data": {
      "text/plain": [
       "0.9414674361088212"
      ]
     },
     "execution_count": 54,
     "metadata": {},
     "output_type": "execute_result"
    }
   ],
   "source": [
    "f1_score(resultat[\"y_true\"], (resultat[\"DenseNet121_224x224\"] > 0.5).astype(np.int), average='binary')  "
   ]
  },
  {
   "cell_type": "code",
   "execution_count": null,
   "metadata": {},
   "outputs": [],
   "source": []
  },
  {
   "cell_type": "code",
   "execution_count": null,
   "metadata": {},
   "outputs": [],
   "source": []
  },
  {
   "cell_type": "code",
   "execution_count": null,
   "metadata": {},
   "outputs": [],
   "source": []
  },
  {
   "cell_type": "code",
   "execution_count": 16,
   "metadata": {},
   "outputs": [],
   "source": [
    "all_models = glob.glob(\"../models/dataset-1/vanilla/*_noaug/*\")"
   ]
  },
  {
   "cell_type": "code",
   "execution_count": 22,
   "metadata": {},
   "outputs": [
    {
     "name": "stdout",
     "output_type": "stream",
     "text": [
      "NASNetLarge_224x224_noaug  =>  84924884\n",
      "DenseNet121_96x96_noaug  =>  7039554\n",
      "NASNetMobile_224x224_noaug  =>  4271830\n",
      "ResNet50_96x96_noaug  =>  23591810\n",
      "NASNetMobile_96x96_noaug  =>  4271830\n",
      "ResNet50_224x224_noaug  =>  23591810\n",
      "InceptionResNetV2_96x96_noaug  =>  54339810\n",
      "NASNetLarge_96x96_noaug  =>  84924884\n",
      "InceptionResNetV2_224x224_noaug  =>  54339810\n",
      "DenseNet121_224x224_noaug  =>  7039554\n"
     ]
    }
   ],
   "source": [
    "for m in all_models:\n",
    "    model = load_model(m, compile=False)\n",
    "    print(m.split(\"/\")[-2], \" => \", model.count_params())"
   ]
  },
  {
   "cell_type": "code",
   "execution_count": null,
   "metadata": {},
   "outputs": [],
   "source": []
  },
  {
   "cell_type": "code",
   "execution_count": null,
   "metadata": {},
   "outputs": [],
   "source": []
  },
  {
   "cell_type": "code",
   "execution_count": 6,
   "metadata": {},
   "outputs": [],
   "source": [
    "res = {}\n",
    "res[\"y_true\"] = pd.read_csv(\"resultat.csv\")[\"y_true\"]"
   ]
  },
  {
   "cell_type": "code",
   "execution_count": 2,
   "metadata": {},
   "outputs": [
    {
     "data": {
      "text/plain": [
       "'\"for m in all_models:\\n    model = load_model(m, compile=False)\\n    if \"224x224\" in m:\\n        pred = model.predict(x_test_224, verbose=1)\\n    if \"96x96\" in m:\\n        pred = model.predict(x_test_96, verbose=1)\\n    \\n    res[m.split(\"/\")[-2]] = pred[:,1]'"
      ]
     },
     "execution_count": 2,
     "metadata": {},
     "output_type": "execute_result"
    }
   ],
   "source": [
    "for m in all_models:\n",
    "    model = load_model(m, compile=False)\n",
    "    if \"224x224\" in m:\n",
    "        pred = model.predict(x_test_224, verbose=1)\n",
    "    if \"96x96\" in m:\n",
    "        pred = model.predict(x_test_96, verbose=1)\n",
    "    \n",
    "    res[m.split(\"/\")[-2]] = pred[:,1]"
   ]
  },
  {
   "cell_type": "code",
   "execution_count": null,
   "metadata": {},
   "outputs": [],
   "source": []
  },
  {
   "cell_type": "code",
   "execution_count": null,
   "metadata": {},
   "outputs": [],
   "source": []
  },
  {
   "cell_type": "code",
   "execution_count": null,
   "metadata": {},
   "outputs": [],
   "source": []
  },
  {
   "cell_type": "code",
   "execution_count": 12,
   "metadata": {},
   "outputs": [],
   "source": []
  },
  {
   "cell_type": "code",
   "execution_count": 17,
   "metadata": {},
   "outputs": [],
   "source": [
    "res = pd.DataFrame(res)"
   ]
  },
  {
   "cell_type": "code",
   "execution_count": 19,
   "metadata": {},
   "outputs": [],
   "source": [
    "res.to_csv(\"resultat.csv\", index=False)"
   ]
  },
  {
   "cell_type": "code",
   "execution_count": null,
   "metadata": {},
   "outputs": [],
   "source": []
  },
  {
   "cell_type": "code",
   "execution_count": 23,
   "metadata": {},
   "outputs": [
    {
     "name": "stdout",
     "output_type": "stream",
     "text": [
      "1448/1448 [==============================] - 13s 9ms/step\n"
     ]
    }
   ],
   "source": [
    "pred = model.predict(x_test_224, verbose=1)"
   ]
  },
  {
   "cell_type": "code",
   "execution_count": 38,
   "metadata": {},
   "outputs": [
    {
     "data": {
      "text/plain": [
       "0.9188138349255897"
      ]
     },
     "execution_count": 38,
     "metadata": {},
     "output_type": "execute_result"
    }
   ],
   "source": [
    "roc_auc_score(y_test, pred[:,1])"
   ]
  },
  {
   "cell_type": "code",
   "execution_count": 36,
   "metadata": {},
   "outputs": [
    {
     "name": "stdout",
     "output_type": "stream",
     "text": [
      "--------------------------------------\n",
      "best result for max FRR  0.029 , threeshold =  0.9199999999999997\n",
      " FRR :  0.027340513670256836\n",
      " FAR :  0.43983402489626555\n",
      "--------------------------------------\n",
      "accuracy :  0.9040055248618785\n"
     ]
    },
    {
     "data": {
      "image/png": "[encoded data removed]",
      "text/plain": [
       "<Figure size 936x288 with 3 Axes>"
      ]
     },
     "metadata": {
      "needs_background": "light"
     },
     "output_type": "display_data"
    }
   ],
   "source": [
    "calcul_curve(1-pred,1-y_test)"
   ]
  },
  {
   "cell_type": "code",
   "execution_count": null,
   "metadata": {},
   "outputs": [],
   "source": []
  },
  {
   "cell_type": "code",
   "execution_count": null,
   "metadata": {},
   "outputs": [],
   "source": []
  },
  {
   "cell_type": "code",
   "execution_count": null,
   "metadata": {},
   "outputs": [],
   "source": []
  },
  {
   "cell_type": "code",
   "execution_count": null,
   "metadata": {},
   "outputs": [],
   "source": []
  },
  {
   "cell_type": "code",
   "execution_count": null,
   "metadata": {},
   "outputs": [],
   "source": []
  },
  {
   "cell_type": "code",
   "execution_count": null,
   "metadata": {},
   "outputs": [],
   "source": []
  },
  {
   "cell_type": "code",
   "execution_count": 32,
   "metadata": {},
   "outputs": [],
   "source": [
    "ids = [x.split(\"/\")[-1] for x in images]"
   ]
  },
  {
   "cell_type": "code",
   "execution_count": 47,
   "metadata": {},
   "outputs": [
    {
     "data": {
      "text/html": [
       "<div>\n",
       "<style scoped>\n",
       "    .dataframe tbody tr th:only-of-type {\n",
       "        vertical-align: middle;\n",
       "    }\n",
       "\n",
       "    .dataframe tbody tr th {\n",
       "        vertical-align: top;\n",
       "    }\n",
       "\n",
       "    .dataframe thead th {\n",
       "        text-align: right;\n",
       "    }\n",
       "</style>\n",
       "<table border=\"1\" class=\"dataframe\">\n",
       "  <thead>\n",
       "    <tr style=\"text-align: right;\">\n",
       "      <th></th>\n",
       "      <th>name</th>\n",
       "      <th>label</th>\n",
       "    </tr>\n",
       "  </thead>\n",
       "  <tbody>\n",
       "    <tr>\n",
       "      <th>0</th>\n",
       "      <td>SOB_M_DC-14-18650-400-015.png</td>\n",
       "      <td>1.0000</td>\n",
       "    </tr>\n",
       "    <tr>\n",
       "      <th>1</th>\n",
       "      <td>SOB_B_F-14-21998EF-40-014.png</td>\n",
       "      <td>0.0000</td>\n",
       "    </tr>\n",
       "    <tr>\n",
       "      <th>2</th>\n",
       "      <td>SOB_B_F-14-21998CD-200-024.png</td>\n",
       "      <td>0.0001</td>\n",
       "    </tr>\n",
       "    <tr>\n",
       "      <th>3</th>\n",
       "      <td>SOB_M_DC-14-13412-100-025.png</td>\n",
       "      <td>1.0000</td>\n",
       "    </tr>\n",
       "    <tr>\n",
       "      <th>4</th>\n",
       "      <td>SOB_B_TA-14-16184CD-100-037.png</td>\n",
       "      <td>0.0112</td>\n",
       "    </tr>\n",
       "  </tbody>\n",
       "</table>\n",
       "</div>"
      ],
      "text/plain": [
       "                              name   label\n",
       "0    SOB_M_DC-14-18650-400-015.png  1.0000\n",
       "1    SOB_B_F-14-21998EF-40-014.png  0.0000\n",
       "2   SOB_B_F-14-21998CD-200-024.png  0.0001\n",
       "3    SOB_M_DC-14-13412-100-025.png  1.0000\n",
       "4  SOB_B_TA-14-16184CD-100-037.png  0.0112"
      ]
     },
     "execution_count": 47,
     "metadata": {},
     "output_type": "execute_result"
    }
   ],
   "source": [
    "df = pd.DataFrame({'name':ids, 'label':np.round(pred[:,1],4)})\n",
    "df.to_csv(\"soumission_1.csv\", index=False)\n",
    "df.head()"
   ]
  },
  {
   "cell_type": "code",
   "execution_count": null,
   "metadata": {},
   "outputs": [],
   "source": []
  },
  {
   "cell_type": "code",
   "execution_count": null,
   "metadata": {},
   "outputs": [],
   "source": []
  },
  {
   "cell_type": "code",
   "execution_count": null,
   "metadata": {},
   "outputs": [],
   "source": []
  },
  {
   "cell_type": "code",
   "execution_count": null,
   "metadata": {},
   "outputs": [],
   "source": []
  },
  {
   "cell_type": "code",
   "execution_count": null,
   "metadata": {},
   "outputs": [],
   "source": []
  },
  {
   "cell_type": "code",
   "execution_count": null,
   "metadata": {},
   "outputs": [],
   "source": []
  },
  {
   "cell_type": "code",
   "execution_count": 35,
   "metadata": {},
   "outputs": [],
   "source": [
    "from sklearn.metrics import accuracy_score, roc_curve, confusion_matrix, recall_score, precision_score\n",
    "import pandas as pd\n",
    "import numpy as np\n",
    "import matplotlib.pyplot as plt\n",
    "from scipy.interpolate import interp1d\n",
    "from sklearn.metrics import roc_curve\n",
    "\n",
    "\n",
    "\n",
    "def plot_confusion_matrix(cm, classes=[\"legit\",\"faude\"],\n",
    "                          normalize=False,\n",
    "                          title='Confusion matrix',\n",
    "                          cmap=plt.cm.Blues):\n",
    "    import itertools\n",
    "    if normalize:\n",
    "        cm_norm = cm.astype('float') / cm.sum(axis=1)[:, np.newaxis]\n",
    "        print(\"Normalized confusion matrix\")\n",
    "        \n",
    "    plt.imshow(cm, interpolation='nearest', cmap=cmap)\n",
    "#     plt.imshow(cm_norm, interpolation='nearest', cmap=cmap)\n",
    "    plt.title(title)\n",
    "    plt.colorbar()\n",
    "    tick_marks = np.arange(len(classes))\n",
    "    plt.xticks(tick_marks, classes, rotation=45)\n",
    "    plt.yticks(tick_marks, classes)\n",
    "\n",
    "    fmt = '.2f' if normalize else 'd'\n",
    "    thresh = cm.max() / 2.\n",
    "    for i, j in itertools.product(range(cm.shape[0]), range(cm.shape[1])):\n",
    "        plt.text(j, i, format(cm[i, j], fmt),\n",
    "                 horizontalalignment=\"center\",\n",
    "                 color=\"white\" if cm[i, j] > thresh else \"black\")\n",
    "\n",
    "    plt.ylabel('Predicted label')\n",
    "    plt.xlabel('True label')\n",
    "    #plt.tight_layout()\n",
    "\n",
    "def calcul_curve(prediction16, y_true, max_frr = 0.029):\n",
    "    list_FAR = []\n",
    "    list_FRR = []\n",
    "    t = np.arange(0.2, 1.0, 0.02)\n",
    "    EER = 1\n",
    "    best_frr = [0.0,1.0,0.0]\n",
    "    for x in t:\n",
    "        y_pred = (prediction16[:,0] < x).astype(np.int)\n",
    "        cm = confusion_matrix(y_true, y_pred).T\n",
    "        TP, FP, FN, TN = cm[0][0], cm[0][1], cm[1][0], cm[1][1]\n",
    "        FRR = FN / float(FN + TP)\n",
    "        FAR = FP / float(TN + FP)\n",
    "        list_FAR.append(FAR)\n",
    "        list_FRR.append(FRR)\n",
    "        EER = x if FAR - FRR < EER and FAR - FRR > 0 else EER\n",
    "\n",
    "    for x, v in enumerate(list_FRR):\n",
    "        if v < max_frr and v > 0:\n",
    "            best_frr = [t[x], v, list_FAR[x]]\n",
    "\n",
    "    print(\"--------------------------------------\")\n",
    "    print(\"best result for max FRR \", max_frr,\", threeshold = \", best_frr[0])\n",
    "    print(\" FRR : \", best_frr[1])\n",
    "    print(\" FAR : \", best_frr[2])\n",
    "    print(\"--------------------------------------\")\n",
    "    \n",
    "    plt.figure(figsize=(13, 4))\n",
    "    \n",
    "    plt.subplot(1, 2, 1)\n",
    "    plt.plot(t, list_FAR, label=\"FAR\") # plotting t, a separately \n",
    "    plt.plot(t, list_FRR,  label=\"FRR\") # plotting t, b separately\n",
    "    plt.legend(bbox_to_anchor=(1.05, 1), loc=2, borderaxespad=0.)\n",
    "    plt.ylabel('%')\n",
    "    plt.xlabel('threshold (EER = '+str(EER)+')')\n",
    "    \n",
    "    plt.subplot(1, 2, 2)\n",
    "    calcul_score(prediction16, y_true, best_frr[0], False)\n",
    "    \n",
    "    plt.tight_layout()\t\n",
    "\n",
    "\n",
    "def calcul_score(prediction, y_true, threshold, text=True):\n",
    "    \n",
    "    def compute_FRR(TP, FP, FN, TN):\n",
    "        FRR = FN / float(FN + TP)\n",
    "        return FRR\n",
    "\n",
    "    def compute_FAR(TP, FP, FN, TN):\n",
    "        FAR = FP / float(TN + FP)\n",
    "        return FAR\n",
    "\n",
    "    y_pred = (prediction[:,0] < threshold).astype(np.int)\n",
    "    cm = confusion_matrix(y_true, y_pred).T\n",
    "    acc = accuracy_score(y_true, y_pred)\n",
    "    plot_confusion_matrix(cm)\n",
    "    if text :\n",
    "        print(\"====== Accuracy : \", acc)\n",
    "        TP, FP, FN, TN = cm[0][0], cm[0][1], cm[1][0], cm[1][1]\n",
    "        print(\" ==== FRR :\", compute_FRR(TP, FP, FN, TN))\n",
    "        print(\" ==== FAR :\", compute_FAR(TP, FP, FN, TN))\n",
    "    else:\n",
    "        print(\"accuracy : \", acc)\n",
    "\n",
    "\n",
    "# def calcul_curve(prediction16, y_true):\n",
    "#     list_FAR = []\n",
    "#     list_FRR = []\n",
    "#     t = np.arange(0.0, 1.01, 0.05)\n",
    "#     EER = 1\n",
    "#     for x in t:\n",
    "#         y_pred = (prediction16[:,0] < x).astype(np.int)\n",
    "#         cm = confusion_matrix(y_true, y_pred).T\n",
    "#         TP, FP, FN, TN = cm[0][0], cm[0][1], cm[1][0], cm[1][1]\n",
    "#         FRR = FN / float(FN + TP)\n",
    "#         FAR = FP / float(TN + FP)\n",
    "#         list_FAR.append(FAR)\n",
    "#         list_FRR.append(FRR)\n",
    "#         EER = x if FAR - FRR < EER and FAR - FRR > 0 else EER\n",
    "#     plt.plot(t, list_FAR, label=\"FAR\") # plotting t, a separately \n",
    "#     plt.plot(t, list_FRR,  label=\"FRR\") # plotting t, b separately\n",
    "#     plt.legend(bbox_to_anchor=(1.05, 1), loc=2, borderaxespad=0.)\n",
    "#     plt.ylabel('%')\n",
    "#     plt.xlabel('threshold (EER = '+str(EER)+')')\n",
    "#     plt.show()\n",
    "\n",
    "def calcul_softmax(threshold = 0.5):\n",
    "    y_pred = 1-(prediction[:,0] < threshold).astype(np.int)\n",
    "    return y_pred\n",
    "\n",
    "def calcul_sigmoid(threshold = 0.5):\n",
    "    y_pred = np.where(prediction > threshold, 1, 0)\n",
    "    return y_pred\n",
    "\n",
    "\n",
    "\n",
    "\n",
    "def show_error(prediction, y_true, images, type_error, threshold=0.5):\n",
    "    def plot_figures(figures, nrows = 1, ncols=1):\n",
    "        \"\"\"Plot a dictionary of figures.\n",
    "\n",
    "        Parameters\n",
    "        ----------\n",
    "        figures : <title, figure> dictionary\n",
    "        ncols : number of columns of subplots wanted in the display\n",
    "        nrows : number of rows of subplots wanted in the figure\n",
    "        \"\"\"\n",
    "\n",
    "        fig, axeslist = plt.subplots(ncols=ncols, nrows=nrows)\n",
    "        fig.set_size_inches(25,25)\n",
    "        for ind,title in enumerate(figures):\n",
    "            axeslist.ravel()[ind].imshow(figures[title], cmap=plt.gray())\n",
    "            axeslist.ravel()[ind].set_title(title)\n",
    "            axeslist.ravel()[ind].set_axis_off()\n",
    "        plt.tight_layout() # optionalplt.imshow(x[10])\n",
    "\n",
    "    \n",
    "    \n",
    "    y_pred = (prediction[:,0] < threshold).astype(np.int)\n",
    "    errors = np.where( (y_pred == y_true[0:]) == False )[0]\n",
    "    \n",
    "    img_error = []\n",
    "    \n",
    "    for index in errors:\n",
    "        if type_error == \"FN\" and y_true[index] == 1:\n",
    "            img_error.append([index,images[index]])\n",
    "        if type_error == \"FP\" and y_true[index] == 0:\n",
    "            img_error.append([index, images[index]])\n",
    "        if len(img_error) == 100:\n",
    "            break\n",
    "    \n",
    "    # generation of a dictionary of (title, images)\n",
    "    number_of_im = len(img_error)\n",
    "    figures = {type_error+' '+str(img[0]): img[1] for img in img_error}\n",
    "\n",
    "    # plot of the images in a figure, with 2 rows and 3 columns\n",
    "    plot_figures(figures, 10, 10)\n",
    "\n",
    "\n",
    "\n",
    "\n",
    "\n",
    "def compare_model(list_predictions, name, y_true):\n",
    "    models_FAR = []\n",
    "    models_FRR = []\n",
    "    t = np.arange(0.0, 1.01, 0.5)\n",
    "    \n",
    "    for preds in list_predictions:\n",
    "        list_FAR=[]\n",
    "        list_FRR=[]\n",
    "        for x in t:\n",
    "            y_pred = (preds[:,0] < x).astype(np.int)\n",
    "            cm = confusion_matrix(y_true, y_pred).T\n",
    "            TP, FP, FN, TN = cm[0][0], cm[0][1], cm[1][0], cm[1][1]\n",
    "            FRR = FN / float(FN + TP)\n",
    "            FAR = FP / float(TN + FP)\n",
    "            list_FAR.append(FAR)\n",
    "            list_FRR.append(FRR)\n",
    "        models_FAR.append(list_FAR)\n",
    "        models_FRR.append(list_FRR)\n",
    "    \n",
    "    \n",
    "    for i, far in enumerate(models_FAR):\n",
    "        plt.plot(t, far, label=\"FAR - \"+name[i])\n",
    "    plt.legend(loc=9)\n",
    "    plt.show()\n",
    "    \n",
    "    for i, frr in enumerate(models_FRR):\n",
    "        plt.plot(t, frr, label=\"FRR - \"+name[i])\n",
    "        \n",
    "    plt.legend(loc=9)\n",
    "    plt.show()\n",
    "    \n",
    "# from keras.models import load_model\n",
    "# from sklearn.metrics import accuracy_score, roc_curve, confusion_matrix, recall_score, precision_score\n",
    "# from keras import backend as K\n",
    "# from keras.preprocessing.image import ImageDataGenerator\n",
    "# import pandas as pd\n",
    "# import numpy as np\n",
    "# import h5py\n",
    "\n",
    "\n",
    "# class EvalModel:\n",
    "#     def __init__(self, path_model, size=(224, 224, 3) ):\n",
    "#         print(\"loading model ...\")\n",
    "#         self.Model = load_model(path_model)\n",
    "#         self.batch_size_test = 1\n",
    "#         self.steps = 100\n",
    "#         #self.TP, self.FP, self.FN, self.TN = None,None,None,None\n",
    "#         self.test_generator = None\n",
    "#         self.test_set = None\n",
    "#         self.size = size\n",
    "    \n",
    "#     def set_test_generator(self, path_csv, path_test):\n",
    "#         test_datagen = ImageDataGenerator(rescale=1./255)\n",
    "#         self.path_csv=path_csv\n",
    "#         self.test_generator = test_datagen.flow_from_dataframe(\n",
    "#             pd.read_csv(path_csv),\n",
    "#             path_test,\n",
    "#             x_col=\"name\",\n",
    "#             y_col=\"label\",\n",
    "#             has_ext=True,\n",
    "#             target_size=self.size[:-1],\n",
    "#             batch_size=self.batch_size_test,\n",
    "#             class_mode=\"categorical\",\n",
    "#             shuffle=True\n",
    "#         )\n",
    "    \n",
    "    \n",
    "#     def set_test_h5(self, path):\n",
    "#         self.test_set = h5py.File(path,'r')\n",
    "    \n",
    "#     def run_test(self):\n",
    "        \n",
    "#         images = self.test_set[\"images\"]\n",
    "        \n",
    "#         y_pred = self.Model.predict(images, verbose=1)\n",
    "\n",
    "#         y_true = self.test_set[\"labels\"]\n",
    "        \n",
    "#         acc, FPR, FAR = self.calcul_scores(y_true, y_pred)\n",
    "#         print(\"acc : \", acc)\n",
    "#         print(\"FPR : \", FPR)\n",
    "#         print(\"FAR : \", FAR)\n",
    "    \n",
    "    \n",
    "#     def calcul_scores(self, y_true, y_pred, threshold=0.1):\n",
    "#         print(y_pred.shape[1])\n",
    "        \n",
    "#         if y_pred.shape[1] == 2 :\n",
    "#             y_pred = 1-(y_pred[:,0] < threshold).astype(np.int)\n",
    "        \n",
    "#         if y_pred.shape[1] == 1 :\n",
    "#             y_pred = 1-np.where(y_pred > threshold, 0, 1)\n",
    "            \n",
    "# #             y_pred = 1 - np.argmax(y_pred, axis=1)\n",
    "# #         y_pred = K.cast(y_pred >= threshold, 'float32')\n",
    "# #         y_pred = (y_pred > threshold).astype(int)\n",
    "# #         print(y_pred)\n",
    "# #         y_pred = np.where(y_pred > threshold, 1, 0)\n",
    "\n",
    "# #         y_pred = (y_pred[:,0] < threshold).astype(np.int)\n",
    "#         #\n",
    "# #         print(y_pred)\n",
    "        \n",
    "#         cm = confusion_matrix(y_true, y_pred)\n",
    "#         print(cm)\n",
    "#         acc = accuracy_score(y_true, y_pred)\n",
    "#         TP, FP, FN, TN = cm[0][0], cm[0][1], cm[1][0], cm[1][1]\n",
    "#         FPR = self.compute_FRR(TP, FP, FN, TN)\n",
    "#         FAR = self.compute_FAR(TP, FP, FN, TN)\n",
    "#         return acc, FPR, FAR\n",
    "    \n",
    "    \n",
    "#     # false recognition rate (FRR) : FRR = FNR = FN/(FN + TP)\n",
    "#     def compute_FRR(self, TP, FP, FN, TN):\n",
    "#         FRR = FN / float(FN + TP)\n",
    "#         return FRR\n",
    "\n",
    "#     # false acceptance rate (FAR) : FAR = FPR = FP/(FP + TN)\n",
    "#     def compute_FAR(self, TP, FP, FN, TN):\n",
    "#         FAR = FP / float(TN + FP)\n",
    "#         return FAR\n",
    "\n"
   ]
  },
  {
   "cell_type": "code",
   "execution_count": null,
   "metadata": {},
   "outputs": [],
   "source": []
  },
  {
   "cell_type": "code",
   "execution_count": null,
   "metadata": {},
   "outputs": [],
   "source": []
  },
  {
   "cell_type": "code",
   "execution_count": null,
   "metadata": {},
   "outputs": [],
   "source": [
    "import os\n",
    "os.environ[\"CUDA_VISIBLE_DEVICES\"] = '0'\n",
    "import pandas as pd\n",
    "from keras.models import load_model\n",
    "import glob\n",
    "from PIL import Image\n",
    "from tqdm import tqdm\n",
    "from sklearn.metrics import roc_auc_score\n",
    "import numpy as np\n",
    "from sklearn.metrics import accuracy_score, roc_auc_score\n",
    "\n",
    "test = pd.read_csv(\"test.csv\")\n",
    "\n",
    "x_test_96 = []\n",
    "x_test_224 = []\n",
    "y_test = []\n",
    "\n",
    "for img in tqdm(test.iterrows()):\n",
    "    i = img[1]\n",
    "    y_test.append(i[\"label\"])\n",
    "    mi = Image.open(\"data/orig_test/\"+i[\"name\"])\n",
    "    \n",
    "    m = mi.resize((224,224))\n",
    "    x_test_224.append(np.array(m)*(1/255))\n",
    "\n",
    "    m = mi.resize((96,96))\n",
    "    x_test_96.append(np.array(m)*(1/255))\n",
    "\n",
    "x_test_96 = np.array(x_test_96)\n",
    "x_test_224 = np.array(x_test_224)\n",
    "y_test = np.array(y_test)\n",
    "\n",
    "\n",
    "all_models = glob.glob(\"../models/dataset-1/patch9/*/*\")\n",
    "\n",
    "res = {}\n",
    "res[\"y_true\"] = y_test\n",
    "\n",
    "for m in all_models:\n",
    "    model = load_model(m, compile=False)\n",
    "    if \"224x224\" in m:\n",
    "        pred = model.predict(x_test_224, verbose=1)\n",
    "    if \"96x96\" in m:\n",
    "        pred = model.predict(x_test_96, verbose=1)\n",
    "    res[m.split(\"/\")[-2]] = pred[:,1]\n",
    "\n",
    "res = pd.DataFrame(res)\n",
    "res.to_csv(\"resultat_patch4_orig.csv\", index=False)"
   ]
  }
 ],
 "metadata": {
  "kernelspec": {
   "display_name": "Python 3",
   "language": "python",
   "name": "python3"
  },
  "language_info": {
   "codemirror_mode": {
    "name": "ipython",
    "version": 3
   },
   "file_extension": ".py",
   "mimetype": "text/x-python",
   "name": "python",
   "nbconvert_exporter": "python",
   "pygments_lexer": "ipython3",
   "version": "3.6.8"
  }
 },
 "nbformat": 4,
 "nbformat_minor": 2
}
