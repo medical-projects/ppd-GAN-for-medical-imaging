{
 "cells": [
  {
   "cell_type": "code",
   "execution_count": 21,
   "metadata": {},
   "outputs": [],
   "source": [
    "import os\n",
    "os.environ[\"CUDA_VISIBLE_DEVICES\"] = '0'\n",
    "import pandas as pd\n",
    "from keras.models import load_model\n",
    "import glob\n",
    "from PIL import Image\n",
    "from tqdm import tqdm, tqdm_notebook\n",
    "from sklearn.metrics import roc_auc_score\n",
    "import numpy as np\n",
    "from sklearn.metrics import accuracy_score, roc_auc_score, precision_recall_curve, auc, f1_score\n",
    "import scikitplot as skplt\n",
    "from keras.applications.mobilenetv2 import MobileNetV2, preprocess_input\n",
    "import matplotlib.pyplot as plt"
   ]
  },
  {
   "cell_type": "code",
   "execution_count": 2,
   "metadata": {},
   "outputs": [],
   "source": [
    "test = pd.read_csv(\"test.csv\")"
   ]
  },
  {
   "cell_type": "code",
   "execution_count": 33,
   "metadata": {},
   "outputs": [
    {
     "name": "stderr",
     "output_type": "stream",
     "text": [
      "1585it [00:18, 84.60it/s]\n"
     ]
    }
   ],
   "source": [
    "size = (224,224)\n",
    "x_test_ext = []\n",
    "y_test_ext = []\n",
    "\n",
    "x_test = []\n",
    "y_test = []\n",
    "\n",
    "x_test_middle = []\n",
    "\n",
    "for row in tqdm(test.iterrows()):\n",
    "    d = row[1]\n",
    "    \n",
    "    image = Image.open(\"/home/yannis/Developpement/ppd-GAN-for-medical-imaging/dataset-1/data/original/all/\" + d[\"name\"])\n",
    "    img1 = np.array(image.crop((20, 0, 460+20, 460)).resize(size)).astype(np.float32)\n",
    "    img2 = np.array(image.crop((120, 0, 580, 460)).resize(size)).astype(np.float32)\n",
    "    img3 = np.array(image.crop((240-20, 0, 700-20, 460)).resize(size)).astype(np.float32)\n",
    "    \n",
    "    imgs = [ preprocess_input(img) for img in [img1, img2, img3] ]\n",
    "    labels = [ int(d[\"label\"]) for x in range(0,3) ]\n",
    "    \n",
    "    x_test_ext.extend(imgs)\n",
    "    y_test_ext.extend(labels)\n",
    "    \n",
    "    x_test.append(imgs)\n",
    "    y_test.append(int(d[\"label\"]))\n",
    "    \n",
    "    x_test_middle.append( imgs[1] )\n",
    "\n",
    "x_test_ext = np.array(x_test_ext)\n",
    "y_test_ext = np.array(y_test_ext)\n",
    "\n",
    "x_test = np.array(x_test)\n",
    "y_test = np.array(y_test)\n",
    "x_test_middle = np.array(x_test_middle)"
   ]
  },
  {
   "cell_type": "code",
   "execution_count": null,
   "metadata": {},
   "outputs": [],
   "source": []
  },
  {
   "cell_type": "code",
   "execution_count": 18,
   "metadata": {},
   "outputs": [],
   "source": [
    "def mean_score(model, y_test, x_test):\n",
    "    pred = []\n",
    "    for x in x_test:\n",
    "        p2 = model.predict(x)\n",
    "        pred.append(np.mean(p2, axis=0))\n",
    "    pred = np.array(pred)\n",
    "    print(accuracy_score(y_test, np.argmax(pred, axis=1)))"
   ]
  },
  {
   "cell_type": "code",
   "execution_count": null,
   "metadata": {},
   "outputs": [],
   "source": []
  },
  {
   "cell_type": "code",
   "execution_count": 18,
   "metadata": {},
   "outputs": [],
   "source": [
    "models = glob.glob(\"../models/dataset-1/Comparaison/*/*\")"
   ]
  },
  {
   "cell_type": "code",
   "execution_count": 19,
   "metadata": {},
   "outputs": [],
   "source": [
    "models\n",
    "del models[5]\n",
    "del models[8]"
   ]
  },
  {
   "cell_type": "code",
   "execution_count": 20,
   "metadata": {},
   "outputs": [
    {
     "data": {
      "text/plain": [
       "['../models/dataset-1/Comparaison/DenseNet121_p3_original_224x224/best_model_epoch.hdf5',\n",
       " '../models/dataset-1/Comparaison/Mobilnet_p3_original_224x224/best_model_epoch.hdf5',\n",
       " '../models/dataset-1/Comparaison/Mobilnet_p0_original_128x128/best_model_epoch.hdf5',\n",
       " '../models/dataset-1/Comparaison/Mobilnet_only-stylegan_224x224/best_model_epoch.hdf5',\n",
       " '../models/dataset-1/Comparaison/Mobilnet_only_pgan_224x224/best_model_epoch.hdf5',\n",
       " '../models/dataset-1/Comparaison/Mobilnet_real-pggan_224x224/best_model_epoch.hdf5',\n",
       " '../models/dataset-1/Comparaison/Mobilnet_real-pggan20k_224x224/best_model_epoch.hdf5',\n",
       " '../models/dataset-1/Comparaison/Mobilnet_real-pggan30k_224x224/best_model_epoch.hdf5',\n",
       " '../models/dataset-1/Comparaison/Mobilnet_only-stylegan-rdm_224x224/best_model_epoch.hdf5',\n",
       " '../models/dataset-1/Comparaison/Mobilnet_only-stylegan-rdm_224x224/best_model_epoch-84.hdf5',\n",
       " '../models/dataset-1/Comparaison/Mobilnet_only-mixgan_224x224/best_model_epoch.hdf5',\n",
       " '../models/dataset-1/Comparaison/Mobilnet_only-mixgan_224x224/best_model_epoch-947.hdf5',\n",
       " '../models/dataset-1/Comparaison/Mobilnet_p0_original_224x224/best_model_epoch.hdf5',\n",
       " '../models/dataset-1/Comparaison/Mobilnet_real-stylegan20K_224x224/best_model_epoch.hdf5',\n",
       " '../models/dataset-1/Comparaison/Mobilnet_only-pgan_224x224/best_model_epoch.hdf5',\n",
       " '../models/dataset-1/Comparaison/Mobilnet_real-mixgan_224x224/best_model_epoch.hdf5',\n",
       " '../models/dataset-1/Comparaison/Mobilnet_p3_original_128x128/best_model_epoch.hdf5']"
      ]
     },
     "execution_count": 20,
     "metadata": {},
     "output_type": "execute_result"
    }
   ],
   "source": [
    "models"
   ]
  },
  {
   "cell_type": "code",
   "execution_count": 31,
   "metadata": {},
   "outputs": [
    {
     "name": "stdout",
     "output_type": "stream",
     "text": [
      " ----  DenseNet121_p3_original_224x224\n",
      "0.5667718191377498\n",
      "0.5659305993690852\n",
      " ----  Mobilnet_p3_original_224x224\n",
      "0.9324921135646688\n",
      "0.9375394321766561\n",
      " ----  Mobilnet_only-stylegan_224x224\n",
      "0.8426919032597266\n",
      "0.8485804416403786\n",
      " ----  Mobilnet_only_pgan_224x224\n",
      "0.8937960042060988\n",
      "0.898422712933754\n",
      " ----  Mobilnet_real-pggan_224x224\n",
      "0.9528916929547845\n",
      "0.9545741324921135\n",
      " ----  Mobilnet_real-pggan20k_224x224\n",
      "0.9465825446898002\n",
      "0.9488958990536278\n",
      " ----  Mobilnet_real-pggan30k_224x224\n",
      "0.9186119873817035\n",
      "0.922397476340694\n",
      " ----  Mobilnet_only-stylegan-rdm_224x224\n",
      "0.8422712933753943\n",
      "0.8460567823343849\n",
      " ----  Mobilnet_only-stylegan-rdm_224x224\n",
      "0.8365930599369085\n",
      "0.8485804416403786\n",
      " ----  Mobilnet_only-mixgan_224x224\n",
      "0.9320715036803365\n",
      "0.9394321766561514\n",
      " ----  Mobilnet_only-mixgan_224x224\n",
      "0.9427970557308096\n",
      "0.9495268138801262\n",
      " ----  Mobilnet_p0_original_224x224\n",
      "0.919453207150368\n",
      "0.9287066246056782\n",
      " ----  Mobilnet_real-stylegan20K_224x224\n",
      "0.9575184016824395\n",
      "0.9583596214511041\n",
      " ----  Mobilnet_only-pgan_224x224\n",
      "0.9278654048370136\n",
      "0.9318611987381703\n",
      " ----  Mobilnet_real-mixgan_224x224\n",
      "0.9592008412197687\n",
      "0.9596214511041009\n"
     ]
    }
   ],
   "source": [
    "for md in models:\n",
    "    if \"224x224\" in md:\n",
    "        print(\" ---- \", md.split(\"/\")[-2])\n",
    "        model = load_model(md, compile=False)\n",
    "        \n",
    "        p1 = model.predict(x_test_ext)\n",
    "        print(accuracy_score(y_test_ext, np.argmax(p1, axis=1)))\n",
    "        \n",
    "        mean_score(model, y_test, x_test)"
   ]
  },
  {
   "cell_type": "code",
   "execution_count": null,
   "metadata": {},
   "outputs": [],
   "source": []
  },
  {
   "cell_type": "code",
   "execution_count": 33,
   "metadata": {},
   "outputs": [
    {
     "name": "stdout",
     "output_type": "stream",
     "text": [
      " ----  Mobilnet_p0_original_128x128\n",
      "0.903049421661409\n",
      "0.9078864353312303\n",
      " ----  Mobilnet_p3_original_128x128\n",
      "0.9118822292323869\n",
      "0.9230283911671924\n"
     ]
    }
   ],
   "source": [
    "for md in models:\n",
    "    if \"128x128\" in md:\n",
    "        print(\" ---- \", md.split(\"/\")[-2])\n",
    "        model = load_model(md, compile=False)\n",
    "        \n",
    "        p1 = model.predict(x_test_ext)\n",
    "        print(accuracy_score(y_test_ext, np.argmax(p1, axis=1)))\n",
    "        \n",
    "        mean_score(model, y_test, x_test)"
   ]
  },
  {
   "cell_type": "code",
   "execution_count": null,
   "metadata": {},
   "outputs": [],
   "source": []
  },
  {
   "cell_type": "code",
   "execution_count": 36,
   "metadata": {},
   "outputs": [],
   "source": [
    "models = glob.glob(\"../models/dataset-1/Comparaison_2/*/*\")"
   ]
  },
  {
   "cell_type": "code",
   "execution_count": 37,
   "metadata": {},
   "outputs": [
    {
     "name": "stdout",
     "output_type": "stream",
     "text": [
      " =============  Mobilnet_real-mixgan_n8  ================\n",
      "0.9531019978969506\n",
      " --------------- \n",
      "0.955205047318612\n",
      " --------------- \n",
      "0.9533123028391167\n",
      " \n",
      " =============  Mobilnet_real-stylegan_n6  ================\n",
      "0.9404837013669821\n",
      " --------------- \n",
      "0.9413249211356467\n",
      " --------------- \n",
      "0.9425867507886435\n",
      " \n",
      " =============  Mobilnet_real-mixgan_n8_3  ================\n",
      "0.9602523659305994\n",
      " --------------- \n",
      "0.9615141955835962\n",
      " --------------- \n",
      "0.9589905362776026\n",
      " \n",
      " =============  Mobilnet_real-mixgan_n8_3  ================\n",
      "0.9556256572029442\n",
      " --------------- \n",
      "0.9596214511041009\n",
      " --------------- \n",
      "0.9533123028391167\n",
      " \n",
      " =============  Mobilnet_real-pggan_n6  ================\n",
      "0.9364879074658254\n",
      " --------------- \n",
      "0.9375394321766561\n",
      " --------------- \n",
      "0.934384858044164\n",
      " \n"
     ]
    }
   ],
   "source": [
    "for md in models:\n",
    "    print(\" ============= \", md.split(\"/\")[-2], \" ================\")\n",
    "    model = load_model(md, compile=False)\n",
    "\n",
    "    p1 = model.predict(x_test_ext)\n",
    "    print(accuracy_score(y_test_ext, np.argmax(p1, axis=1)))\n",
    "#     print(\" => \", roc_auc_score(y_test_ext, p1[:,1]))\n",
    "    print(\" --------------- \")\n",
    "    mean_score(model, y_test, x_test)\n",
    "    print(\" --------------- \")\n",
    "    p2 = model.predict(x_test_middle)\n",
    "    print(accuracy_score(y_test, np.argmax(p2, axis=1)))\n",
    "#     print(\" => \", roc_auc_score(y_test, p2[:,1]))\n",
    "    print(\" \")"
   ]
  },
  {
   "cell_type": "code",
   "execution_count": null,
   "metadata": {},
   "outputs": [],
   "source": []
  },
  {
   "cell_type": "code",
   "execution_count": 5,
   "metadata": {},
   "outputs": [],
   "source": [
    "models = glob.glob(\"../models/dataset-1/Comparaison_2/*_3/*\")"
   ]
  },
  {
   "cell_type": "code",
   "execution_count": 35,
   "metadata": {},
   "outputs": [
    {
     "name": "stdout",
     "output_type": "stream",
     "text": [
      " =============  Mobilnet_real-mixgan_n8_3  ================\n",
      "0.9602523659305994\n",
      " --------------- \n",
      "0.9615141955835962\n",
      " --------------- \n",
      "0.9589905362776026\n",
      " \n",
      " =============  Mobilnet_real-mixgan_n8_3  ================\n",
      "0.9556256572029442\n",
      " --------------- \n",
      "0.9596214511041009\n",
      " --------------- \n",
      "0.9533123028391167\n",
      " \n"
     ]
    }
   ],
   "source": [
    "for md in models:\n",
    "    print(\" ============= \", md.split(\"/\")[-2], \" ================\")\n",
    "    model = load_model(md, compile=False)\n",
    "\n",
    "    p1 = model.predict(x_test_ext)\n",
    "    print(accuracy_score(y_test_ext, np.argmax(p1, axis=1)))\n",
    "#     print(\" => \", roc_auc_score(y_test_ext, p1[:,1]))\n",
    "    print(\" --------------- \")\n",
    "    mean_score(model, y_test, x_test)\n",
    "    print(\" --------------- \")\n",
    "    p2 = model.predict(x_test_middle)\n",
    "    print(accuracy_score(y_test, np.argmax(p2, axis=1)))\n",
    "#     print(\" => \", roc_auc_score(y_test, p2[:,1]))\n",
    "    print(\" \")"
   ]
  },
  {
   "cell_type": "code",
   "execution_count": null,
   "metadata": {},
   "outputs": [],
   "source": []
  },
  {
   "cell_type": "markdown",
   "metadata": {},
   "source": [
    "### Resultat comparaison data"
   ]
  },
  {
   "cell_type": "code",
   "execution_count": 38,
   "metadata": {},
   "outputs": [],
   "source": [
    "models = glob.glob(\"../models/dataset-1/Comparaison-Size/*/*\")"
   ]
  },
  {
   "cell_type": "code",
   "execution_count": 41,
   "metadata": {},
   "outputs": [
    {
     "name": "stdout",
     "output_type": "stream",
     "text": [
      " =============  stylegan-7k  ================\n",
      "0.8292323869610936\n",
      "0.8315457413249211\n",
      "0.8309148264984227\n",
      " \n",
      " =============  stylegan-20k  ================\n",
      "0.8128286014721346\n",
      "0.8145110410094637\n",
      "0.8082018927444795\n",
      " \n",
      " =============  stylegan-30k  ================\n",
      "0.8378548895899054\n",
      "0.8454258675078864\n",
      "0.8435331230283911\n",
      " \n",
      " =============  pgan-7k  ================\n",
      "0.9116719242902208\n",
      "0.9154574132492114\n",
      "0.9066246056782334\n",
      " \n",
      " =============  mixgan-30k  ================\n",
      "0.9449001051524711\n",
      "0.9463722397476341\n",
      "0.9438485804416403\n",
      " \n",
      " =============  mixgan-20k  ================\n",
      "0.9341745531019979\n",
      "0.9451104100946373\n",
      "0.9337539432176656\n",
      " \n",
      " =============  mixgan-7k  ================\n",
      "0.943217665615142\n",
      "0.9457413249211356\n",
      "0.943217665615142\n",
      " \n",
      " =============  pgan-12k  ================\n",
      "0.9137749737118822\n",
      "0.9173501577287066\n",
      "0.9154574132492114\n",
      " \n",
      " =============  mixgan-12k  ================\n",
      "0.934384858044164\n",
      "0.9369085173501577\n",
      "0.9337539432176656\n",
      " \n",
      " =============  stylegan-12k  ================\n",
      "0.8056782334384858\n",
      "0.8100946372239748\n",
      "0.8094637223974763\n",
      " \n",
      " =============  pgan-20k  ================\n",
      "0.907465825446898\n",
      "0.9091482649842272\n",
      "0.9078864353312303\n",
      " \n"
     ]
    }
   ],
   "source": [
    "for md in models:\n",
    "    print(\" ============= \", md.split(\"/\")[-2], \" ================\")\n",
    "    model = load_model(md, compile=False)\n",
    "    p1 = model.predict(x_test_ext)\n",
    "    print(accuracy_score(y_test_ext, np.argmax(p1, axis=1)))\n",
    "    mean_score(model, y_test, x_test)\n",
    "    p2 = model.predict(x_test_middle)\n",
    "    print(accuracy_score(y_test, np.argmax(p2, axis=1)))\n",
    "    print(\" \")"
   ]
  },
  {
   "cell_type": "code",
   "execution_count": null,
   "metadata": {},
   "outputs": [],
   "source": []
  },
  {
   "cell_type": "markdown",
   "metadata": {},
   "source": [
    "## Mobilnet_only_pgan_224x224"
   ]
  },
  {
   "cell_type": "code",
   "execution_count": 26,
   "metadata": {},
   "outputs": [
    {
     "data": {
      "text/plain": [
       "0.9324921135646688"
      ]
     },
     "execution_count": 26,
     "metadata": {},
     "output_type": "execute_result"
    }
   ],
   "source": [
    "model = load_model(\"../models/dataset-1/Comparaison/Mobilnet_p3_original_224x224/best_model_epoch.hdf5\")\n",
    "p1 = model.predict(x_test_ext)\n",
    "accuracy_score(y_test_ext, np.argmax(p1, axis=1))"
   ]
  },
  {
   "cell_type": "code",
   "execution_count": null,
   "metadata": {},
   "outputs": [],
   "source": []
  },
  {
   "cell_type": "code",
   "execution_count": null,
   "metadata": {},
   "outputs": [],
   "source": []
  },
  {
   "cell_type": "markdown",
   "metadata": {},
   "source": [
    "# Mobilnet_p3_original_224x224"
   ]
  },
  {
   "cell_type": "code",
   "execution_count": 23,
   "metadata": {},
   "outputs": [],
   "source": [
    "model = load_model(\"../models/dataset-1/Comparaison/Mobilnet_p3_original_224x224/best_model_epoch.hdf5\")"
   ]
  },
  {
   "cell_type": "code",
   "execution_count": 24,
   "metadata": {},
   "outputs": [
    {
     "data": {
      "text/plain": [
       "0.9324921135646688"
      ]
     },
     "execution_count": 24,
     "metadata": {},
     "output_type": "execute_result"
    }
   ],
   "source": [
    "p1 = model.predict(x_test_ext)\n",
    "accuracy_score(y_test_ext, np.argmax(p1, axis=1))"
   ]
  },
  {
   "cell_type": "code",
   "execution_count": 25,
   "metadata": {},
   "outputs": [
    {
     "data": {
      "text/plain": [
       "0.9375394321766561"
      ]
     },
     "execution_count": 25,
     "metadata": {},
     "output_type": "execute_result"
    }
   ],
   "source": [
    "pred = []\n",
    "for x in x_test:\n",
    "    p2 = model.predict(x)\n",
    "    pred.append(np.mean(p2, axis=0))\n",
    "pred = np.array(pred)\n",
    "accuracy_score(y_test, np.argmax(pred, axis=1))"
   ]
  },
  {
   "cell_type": "markdown",
   "metadata": {},
   "source": [
    "# Mobilnet_p3_norm_224x224"
   ]
  },
  {
   "cell_type": "code",
   "execution_count": 3,
   "metadata": {},
   "outputs": [],
   "source": [
    "model = load_model(\"../models/dataset-1/Comparaison/Mobilnet_p3_norm_224x224/best_model_epoch.hdf5\")"
   ]
  },
  {
   "cell_type": "code",
   "execution_count": 13,
   "metadata": {},
   "outputs": [
    {
     "data": {
      "text/plain": [
       "0.9062039957939012"
      ]
     },
     "execution_count": 13,
     "metadata": {},
     "output_type": "execute_result"
    }
   ],
   "source": [
    "p1 = model.predict(x_test_ext)\n",
    "accuracy_score(y_test_ext, np.argmax(p1, axis=1))"
   ]
  },
  {
   "cell_type": "code",
   "execution_count": 21,
   "metadata": {},
   "outputs": [
    {
     "data": {
      "text/plain": [
       "0.9129337539432176"
      ]
     },
     "execution_count": 21,
     "metadata": {},
     "output_type": "execute_result"
    }
   ],
   "source": [
    "pred = []\n",
    "for x in x_test:\n",
    "    p2 = model.predict(x)\n",
    "    pred.append(np.mean(p2, axis=0))\n",
    "pred = np.array(pred)\n",
    "accuracy_score(y_test, np.argmax(pred, axis=1))"
   ]
  },
  {
   "cell_type": "code",
   "execution_count": null,
   "metadata": {},
   "outputs": [],
   "source": []
  },
  {
   "cell_type": "code",
   "execution_count": null,
   "metadata": {},
   "outputs": [],
   "source": []
  },
  {
   "cell_type": "code",
   "execution_count": null,
   "metadata": {},
   "outputs": [],
   "source": []
  },
  {
   "cell_type": "markdown",
   "metadata": {},
   "source": [
    "## 8 classes "
   ]
  },
  {
   "cell_type": "markdown",
   "metadata": {},
   "source": [
    "## CNN "
   ]
  },
  {
   "cell_type": "code",
   "execution_count": 42,
   "metadata": {},
   "outputs": [],
   "source": [
    "model = load_model(\"../models/dataset-1/Comparaison-Cat/Mobilnet_p3/best_model_epoch.hdf5\")"
   ]
  },
  {
   "cell_type": "code",
   "execution_count": 47,
   "metadata": {},
   "outputs": [
    {
     "name": "stderr",
     "output_type": "stream",
     "text": [
      "4755it [00:10, 451.73it/s]\n"
     ]
    }
   ],
   "source": [
    "from collections import defaultdict\n",
    "test_p3 = pd.read_csv(\"test_p3.csv\")\n",
    "x_test = defaultdict(list)\n",
    "y_test = defaultdict(list)\n",
    "for row in tqdm(test_p3.iterrows()):\n",
    "    d = row[1]\n",
    "    \n",
    "    image = Image.open(\"/home/yannis/Developpement/ppd-GAN-for-medical-imaging/dataset-1/data/original/p3/\" + d[\"name\"])\n",
    "    img = np.array(image).astype(np.float32)\n",
    "    \n",
    "    x_test[d[\"name\"][3:]].append(preprocess_input(img))\n",
    "    y_test[d[\"name\"][3:]].append(int(d[\"label_cat\"]))\n",
    "# x_test = np.array(x_test)\n",
    "# y_test = np.array(y_test)"
   ]
  },
  {
   "cell_type": "code",
   "execution_count": 48,
   "metadata": {},
   "outputs": [
    {
     "name": "stderr",
     "output_type": "stream",
     "text": [
      "100%|██████████| 1585/1585 [00:38<00:00, 41.23it/s]"
     ]
    },
    {
     "name": "stdout",
     "output_type": "stream",
     "text": [
      "0.5160883280757098\n"
     ]
    },
    {
     "name": "stderr",
     "output_type": "stream",
     "text": [
      "\n"
     ]
    }
   ],
   "source": [
    "pred = []\n",
    "ytrue = []\n",
    "for k, v in tqdm(x_test.items()):\n",
    "    p2 = model.predict(np.array(v))\n",
    "    pred.append(np.mean(p2, axis=0))\n",
    "    ytrue.append(y_test[k][0])\n",
    "pred = np.array(pred)\n",
    "print(accuracy_score(ytrue, np.argmax(pred, axis=1)))"
   ]
  },
  {
   "cell_type": "code",
   "execution_count": null,
   "metadata": {},
   "outputs": [],
   "source": []
  },
  {
   "cell_type": "code",
   "execution_count": 58,
   "metadata": {},
   "outputs": [
    {
     "name": "stderr",
     "output_type": "stream",
     "text": [
      "100%|██████████| 1585/1585 [00:00<00:00, 901053.38it/s]\n"
     ]
    },
    {
     "data": {
      "text/plain": [
       "0.5125131440588854"
      ]
     },
     "execution_count": 58,
     "metadata": {},
     "output_type": "execute_result"
    }
   ],
   "source": [
    "pred = []\n",
    "ytrue = []\n",
    "for k, v in tqdm(x_test.items()):\n",
    "    pred.extend(v)\n",
    "    ytrue.extend(y_test[k])\n",
    "pred = np.array(pred)\n",
    "\n",
    "p1 = model.predict(pred)\n",
    "accuracy_score(ytrue, np.argmax(p1, axis=1))"
   ]
  },
  {
   "cell_type": "code",
   "execution_count": null,
   "metadata": {},
   "outputs": [],
   "source": []
  },
  {
   "cell_type": "markdown",
   "metadata": {},
   "source": [
    "### ACGAN "
   ]
  },
  {
   "cell_type": "code",
   "execution_count": 18,
   "metadata": {},
   "outputs": [],
   "source": [
    "from collections import defaultdict"
   ]
  },
  {
   "cell_type": "code",
   "execution_count": 27,
   "metadata": {},
   "outputs": [
    {
     "name": "stderr",
     "output_type": "stream",
     "text": [
      "4755it [00:13, 354.88it/s]\n"
     ]
    }
   ],
   "source": [
    "test_p3 = pd.read_csv(\"test_p3.csv\")\n",
    "x_test = defaultdict(list)\n",
    "y_test = defaultdict(list)\n",
    "for row in tqdm(test_p3.iterrows()):\n",
    "    d = row[1]\n",
    "    \n",
    "    image = Image.open(\"/home/yannis/Developpement/ppd-GAN-for-medical-imaging/dataset-1/data/original/p3/\" + d[\"name\"])\n",
    "    img = np.array(image).astype(np.float32)\n",
    "    \n",
    "    x_test[d[\"name\"][3:]].append(preprocess_input(img))\n",
    "    y_test[d[\"name\"][3:]].append(int(d[\"label_cat\"]))"
   ]
  },
  {
   "cell_type": "code",
   "execution_count": 16,
   "metadata": {},
   "outputs": [],
   "source": [
    "x_test = np.array(x_test)\n",
    "y_test = np.array(y_test)"
   ]
  },
  {
   "cell_type": "code",
   "execution_count": 12,
   "metadata": {},
   "outputs": [],
   "source": [
    "model = load_model(\"../models/dataset-1/Comparaison-Cat/Mobilnet_ACGAN/model_epoch-16.hdf5\")"
   ]
  },
  {
   "cell_type": "code",
   "execution_count": 14,
   "metadata": {},
   "outputs": [
    {
     "data": {
      "text/plain": [
       "0.5514195583596214"
      ]
     },
     "execution_count": 14,
     "metadata": {},
     "output_type": "execute_result"
    }
   ],
   "source": [
    "p1 = model.predict(x_test)\n",
    "accuracy_score(y_test, np.argmax(p1, axis=1))"
   ]
  },
  {
   "cell_type": "code",
   "execution_count": 17,
   "metadata": {},
   "outputs": [
    {
     "data": {
      "text/plain": [
       "0.5526813880126183"
      ]
     },
     "execution_count": 17,
     "metadata": {},
     "output_type": "execute_result"
    }
   ],
   "source": [
    "p1 = model.predict(x_test)\n",
    "accuracy_score(y_test, np.argmax(p1, axis=1))"
   ]
  },
  {
   "cell_type": "code",
   "execution_count": null,
   "metadata": {},
   "outputs": [],
   "source": []
  },
  {
   "cell_type": "code",
   "execution_count": 36,
   "metadata": {},
   "outputs": [
    {
     "name": "stderr",
     "output_type": "stream",
     "text": [
      "100%|██████████| 1585/1585 [02:22<00:00, 11.45it/s]"
     ]
    },
    {
     "name": "stdout",
     "output_type": "stream",
     "text": [
      "0.5545741324921135\n"
     ]
    },
    {
     "name": "stderr",
     "output_type": "stream",
     "text": [
      "\n"
     ]
    }
   ],
   "source": [
    "pred = []\n",
    "ytrue = []\n",
    "for k, v in tqdm(x_test.items()):\n",
    "    p2 = model.predict(np.array(v))\n",
    "    pred.append(np.mean(p2, axis=0))\n",
    "    ytrue.append(y_test[k][0])\n",
    "pred = np.array(pred)\n",
    "print(accuracy_score(ytrue, np.argmax(pred, axis=1)))"
   ]
  },
  {
   "cell_type": "code",
   "execution_count": null,
   "metadata": {},
   "outputs": [],
   "source": []
  },
  {
   "cell_type": "code",
   "execution_count": null,
   "metadata": {},
   "outputs": [],
   "source": []
  },
  {
   "cell_type": "code",
   "execution_count": null,
   "metadata": {},
   "outputs": [],
   "source": []
  },
  {
   "cell_type": "code",
   "execution_count": null,
   "metadata": {},
   "outputs": [],
   "source": []
  },
  {
   "cell_type": "code",
   "execution_count": null,
   "metadata": {},
   "outputs": [],
   "source": []
  }
 ],
 "metadata": {
  "kernelspec": {
   "display_name": "Python 3",
   "language": "python",
   "name": "python3"
  },
  "language_info": {
   "codemirror_mode": {
    "name": "ipython",
    "version": 3
   },
   "file_extension": ".py",
   "mimetype": "text/x-python",
   "name": "python",
   "nbconvert_exporter": "python",
   "pygments_lexer": "ipython3",
   "version": "3.6.8"
  }
 },
 "nbformat": 4,
 "nbformat_minor": 2
}
